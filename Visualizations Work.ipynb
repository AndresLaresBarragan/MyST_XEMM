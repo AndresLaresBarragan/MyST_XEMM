{
 "cells": [
  {
   "cell_type": "code",
   "execution_count": 1,
   "id": "6e7a68ed",
   "metadata": {},
   "outputs": [],
   "source": [
    "import plotly.graph_objects as go\n",
    "import numpy as np\n",
    "import pandas as pd\n",
    "import data as dt"
   ]
  },
  {
   "cell_type": "code",
   "execution_count": 2,
   "id": "5b0b91cf",
   "metadata": {},
   "outputs": [],
   "source": [
    "# load data\n",
    "ob_krak, ob_bit = dt.read_jsonOB(file_name = 'orderbooks_05jul21.json')"
   ]
  },
  {
   "cell_type": "code",
   "execution_count": 3,
   "id": "a8831b3d",
   "metadata": {},
   "outputs": [
    {
     "data": {
      "text/html": [
       "<div>\n",
       "<style scoped>\n",
       "    .dataframe tbody tr th:only-of-type {\n",
       "        vertical-align: middle;\n",
       "    }\n",
       "\n",
       "    .dataframe tbody tr th {\n",
       "        vertical-align: top;\n",
       "    }\n",
       "\n",
       "    .dataframe thead th {\n",
       "        text-align: right;\n",
       "    }\n",
       "</style>\n",
       "<table border=\"1\" class=\"dataframe\">\n",
       "  <thead>\n",
       "    <tr style=\"text-align: right;\">\n",
       "      <th></th>\n",
       "      <th>bid_size</th>\n",
       "      <th>bid</th>\n",
       "      <th>ask</th>\n",
       "      <th>ask_size</th>\n",
       "    </tr>\n",
       "  </thead>\n",
       "  <tbody>\n",
       "    <tr>\n",
       "      <th>0</th>\n",
       "      <td>0.880</td>\n",
       "      <td>28298.3</td>\n",
       "      <td>28298.4</td>\n",
       "      <td>3.352</td>\n",
       "    </tr>\n",
       "    <tr>\n",
       "      <th>1</th>\n",
       "      <td>0.350</td>\n",
       "      <td>28293.9</td>\n",
       "      <td>28300.0</td>\n",
       "      <td>0.020</td>\n",
       "    </tr>\n",
       "    <tr>\n",
       "      <th>2</th>\n",
       "      <td>0.377</td>\n",
       "      <td>28293.5</td>\n",
       "      <td>28305.4</td>\n",
       "      <td>0.074</td>\n",
       "    </tr>\n",
       "    <tr>\n",
       "      <th>3</th>\n",
       "      <td>0.011</td>\n",
       "      <td>28292.2</td>\n",
       "      <td>28305.5</td>\n",
       "      <td>0.123</td>\n",
       "    </tr>\n",
       "    <tr>\n",
       "      <th>4</th>\n",
       "      <td>1.221</td>\n",
       "      <td>28292.0</td>\n",
       "      <td>28307.3</td>\n",
       "      <td>0.204</td>\n",
       "    </tr>\n",
       "    <tr>\n",
       "      <th>5</th>\n",
       "      <td>0.745</td>\n",
       "      <td>28291.2</td>\n",
       "      <td>28308.2</td>\n",
       "      <td>0.005</td>\n",
       "    </tr>\n",
       "    <tr>\n",
       "      <th>6</th>\n",
       "      <td>0.396</td>\n",
       "      <td>28291.0</td>\n",
       "      <td>28310.0</td>\n",
       "      <td>0.004</td>\n",
       "    </tr>\n",
       "    <tr>\n",
       "      <th>7</th>\n",
       "      <td>0.340</td>\n",
       "      <td>28290.9</td>\n",
       "      <td>28311.8</td>\n",
       "      <td>0.745</td>\n",
       "    </tr>\n",
       "    <tr>\n",
       "      <th>8</th>\n",
       "      <td>0.006</td>\n",
       "      <td>28290.8</td>\n",
       "      <td>28314.9</td>\n",
       "      <td>0.250</td>\n",
       "    </tr>\n",
       "    <tr>\n",
       "      <th>9</th>\n",
       "      <td>0.003</td>\n",
       "      <td>28290.0</td>\n",
       "      <td>28315.2</td>\n",
       "      <td>5.000</td>\n",
       "    </tr>\n",
       "    <tr>\n",
       "      <th>10</th>\n",
       "      <td>0.343</td>\n",
       "      <td>28289.2</td>\n",
       "      <td>28315.8</td>\n",
       "      <td>0.992</td>\n",
       "    </tr>\n",
       "    <tr>\n",
       "      <th>11</th>\n",
       "      <td>1.491</td>\n",
       "      <td>28288.7</td>\n",
       "      <td>28316.0</td>\n",
       "      <td>0.994</td>\n",
       "    </tr>\n",
       "    <tr>\n",
       "      <th>12</th>\n",
       "      <td>0.798</td>\n",
       "      <td>28285.3</td>\n",
       "      <td>28316.4</td>\n",
       "      <td>0.377</td>\n",
       "    </tr>\n",
       "    <tr>\n",
       "      <th>13</th>\n",
       "      <td>0.326</td>\n",
       "      <td>28285.2</td>\n",
       "      <td>28316.8</td>\n",
       "      <td>0.093</td>\n",
       "    </tr>\n",
       "    <tr>\n",
       "      <th>14</th>\n",
       "      <td>0.005</td>\n",
       "      <td>28284.6</td>\n",
       "      <td>28317.0</td>\n",
       "      <td>1.729</td>\n",
       "    </tr>\n",
       "    <tr>\n",
       "      <th>15</th>\n",
       "      <td>0.300</td>\n",
       "      <td>28283.6</td>\n",
       "      <td>28317.9</td>\n",
       "      <td>1.490</td>\n",
       "    </tr>\n",
       "    <tr>\n",
       "      <th>16</th>\n",
       "      <td>0.250</td>\n",
       "      <td>28282.1</td>\n",
       "      <td>28320.0</td>\n",
       "      <td>0.560</td>\n",
       "    </tr>\n",
       "    <tr>\n",
       "      <th>17</th>\n",
       "      <td>0.018</td>\n",
       "      <td>28281.7</td>\n",
       "      <td>28320.9</td>\n",
       "      <td>0.300</td>\n",
       "    </tr>\n",
       "    <tr>\n",
       "      <th>18</th>\n",
       "      <td>0.093</td>\n",
       "      <td>28281.0</td>\n",
       "      <td>28321.8</td>\n",
       "      <td>1.500</td>\n",
       "    </tr>\n",
       "    <tr>\n",
       "      <th>19</th>\n",
       "      <td>1.500</td>\n",
       "      <td>28280.7</td>\n",
       "      <td>28322.1</td>\n",
       "      <td>0.010</td>\n",
       "    </tr>\n",
       "    <tr>\n",
       "      <th>20</th>\n",
       "      <td>0.177</td>\n",
       "      <td>28280.3</td>\n",
       "      <td>28322.3</td>\n",
       "      <td>0.989</td>\n",
       "    </tr>\n",
       "    <tr>\n",
       "      <th>21</th>\n",
       "      <td>0.300</td>\n",
       "      <td>28280.2</td>\n",
       "      <td>28322.7</td>\n",
       "      <td>1.089</td>\n",
       "    </tr>\n",
       "    <tr>\n",
       "      <th>22</th>\n",
       "      <td>1.491</td>\n",
       "      <td>28279.4</td>\n",
       "      <td>28325.2</td>\n",
       "      <td>0.063</td>\n",
       "    </tr>\n",
       "    <tr>\n",
       "      <th>23</th>\n",
       "      <td>0.005</td>\n",
       "      <td>28278.8</td>\n",
       "      <td>28328.1</td>\n",
       "      <td>0.292</td>\n",
       "    </tr>\n",
       "    <tr>\n",
       "      <th>24</th>\n",
       "      <td>0.800</td>\n",
       "      <td>28276.7</td>\n",
       "      <td>28328.7</td>\n",
       "      <td>0.234</td>\n",
       "    </tr>\n",
       "    <tr>\n",
       "      <th>25</th>\n",
       "      <td>0.001</td>\n",
       "      <td>28274.7</td>\n",
       "      <td>28329.4</td>\n",
       "      <td>5.000</td>\n",
       "    </tr>\n",
       "    <tr>\n",
       "      <th>26</th>\n",
       "      <td>1.732</td>\n",
       "      <td>28274.3</td>\n",
       "      <td>28329.8</td>\n",
       "      <td>1.490</td>\n",
       "    </tr>\n",
       "    <tr>\n",
       "      <th>27</th>\n",
       "      <td>0.100</td>\n",
       "      <td>28273.4</td>\n",
       "      <td>28329.9</td>\n",
       "      <td>0.027</td>\n",
       "    </tr>\n",
       "    <tr>\n",
       "      <th>28</th>\n",
       "      <td>1.490</td>\n",
       "      <td>28272.6</td>\n",
       "      <td>28332.2</td>\n",
       "      <td>0.048</td>\n",
       "    </tr>\n",
       "    <tr>\n",
       "      <th>29</th>\n",
       "      <td>0.002</td>\n",
       "      <td>28270.3</td>\n",
       "      <td>28333.0</td>\n",
       "      <td>1.000</td>\n",
       "    </tr>\n",
       "    <tr>\n",
       "      <th>30</th>\n",
       "      <td>0.177</td>\n",
       "      <td>28270.0</td>\n",
       "      <td>28333.4</td>\n",
       "      <td>1.490</td>\n",
       "    </tr>\n",
       "    <tr>\n",
       "      <th>31</th>\n",
       "      <td>0.001</td>\n",
       "      <td>28269.4</td>\n",
       "      <td>28334.9</td>\n",
       "      <td>1.490</td>\n",
       "    </tr>\n",
       "    <tr>\n",
       "      <th>32</th>\n",
       "      <td>1.091</td>\n",
       "      <td>28268.7</td>\n",
       "      <td>28335.8</td>\n",
       "      <td>1.787</td>\n",
       "    </tr>\n",
       "    <tr>\n",
       "      <th>33</th>\n",
       "      <td>0.035</td>\n",
       "      <td>28268.1</td>\n",
       "      <td>28337.1</td>\n",
       "      <td>0.537</td>\n",
       "    </tr>\n",
       "    <tr>\n",
       "      <th>34</th>\n",
       "      <td>1.491</td>\n",
       "      <td>28267.4</td>\n",
       "      <td>28338.0</td>\n",
       "      <td>1.106</td>\n",
       "    </tr>\n",
       "    <tr>\n",
       "      <th>35</th>\n",
       "      <td>0.990</td>\n",
       "      <td>28263.4</td>\n",
       "      <td>28340.3</td>\n",
       "      <td>0.025</td>\n",
       "    </tr>\n",
       "    <tr>\n",
       "      <th>36</th>\n",
       "      <td>0.922</td>\n",
       "      <td>28262.6</td>\n",
       "      <td>28340.4</td>\n",
       "      <td>0.819</td>\n",
       "    </tr>\n",
       "    <tr>\n",
       "      <th>37</th>\n",
       "      <td>0.036</td>\n",
       "      <td>28258.8</td>\n",
       "      <td>28340.5</td>\n",
       "      <td>5.628</td>\n",
       "    </tr>\n",
       "    <tr>\n",
       "      <th>38</th>\n",
       "      <td>5.234</td>\n",
       "      <td>28258.6</td>\n",
       "      <td>28341.0</td>\n",
       "      <td>0.048</td>\n",
       "    </tr>\n",
       "    <tr>\n",
       "      <th>39</th>\n",
       "      <td>0.001</td>\n",
       "      <td>28253.9</td>\n",
       "      <td>28345.1</td>\n",
       "      <td>0.004</td>\n",
       "    </tr>\n",
       "    <tr>\n",
       "      <th>40</th>\n",
       "      <td>2.012</td>\n",
       "      <td>28253.1</td>\n",
       "      <td>28345.4</td>\n",
       "      <td>0.177</td>\n",
       "    </tr>\n",
       "    <tr>\n",
       "      <th>41</th>\n",
       "      <td>0.301</td>\n",
       "      <td>28253.0</td>\n",
       "      <td>28345.5</td>\n",
       "      <td>0.055</td>\n",
       "    </tr>\n",
       "    <tr>\n",
       "      <th>42</th>\n",
       "      <td>0.032</td>\n",
       "      <td>28251.9</td>\n",
       "      <td>28347.6</td>\n",
       "      <td>0.414</td>\n",
       "    </tr>\n",
       "    <tr>\n",
       "      <th>43</th>\n",
       "      <td>0.063</td>\n",
       "      <td>28251.6</td>\n",
       "      <td>28348.4</td>\n",
       "      <td>0.989</td>\n",
       "    </tr>\n",
       "    <tr>\n",
       "      <th>44</th>\n",
       "      <td>0.042</td>\n",
       "      <td>28250.1</td>\n",
       "      <td>28350.0</td>\n",
       "      <td>3.000</td>\n",
       "    </tr>\n",
       "    <tr>\n",
       "      <th>45</th>\n",
       "      <td>0.002</td>\n",
       "      <td>28250.0</td>\n",
       "      <td>28352.3</td>\n",
       "      <td>0.918</td>\n",
       "    </tr>\n",
       "    <tr>\n",
       "      <th>46</th>\n",
       "      <td>1.834</td>\n",
       "      <td>28248.5</td>\n",
       "      <td>28353.3</td>\n",
       "      <td>0.053</td>\n",
       "    </tr>\n",
       "    <tr>\n",
       "      <th>47</th>\n",
       "      <td>8.627</td>\n",
       "      <td>28248.4</td>\n",
       "      <td>28355.7</td>\n",
       "      <td>0.002</td>\n",
       "    </tr>\n",
       "    <tr>\n",
       "      <th>48</th>\n",
       "      <td>0.052</td>\n",
       "      <td>28247.0</td>\n",
       "      <td>28356.5</td>\n",
       "      <td>0.302</td>\n",
       "    </tr>\n",
       "    <tr>\n",
       "      <th>49</th>\n",
       "      <td>0.302</td>\n",
       "      <td>28246.8</td>\n",
       "      <td>28357.9</td>\n",
       "      <td>2.409</td>\n",
       "    </tr>\n",
       "  </tbody>\n",
       "</table>\n",
       "</div>"
      ],
      "text/plain": [
       "    bid_size      bid      ask  ask_size\n",
       "0      0.880  28298.3  28298.4     3.352\n",
       "1      0.350  28293.9  28300.0     0.020\n",
       "2      0.377  28293.5  28305.4     0.074\n",
       "3      0.011  28292.2  28305.5     0.123\n",
       "4      1.221  28292.0  28307.3     0.204\n",
       "5      0.745  28291.2  28308.2     0.005\n",
       "6      0.396  28291.0  28310.0     0.004\n",
       "7      0.340  28290.9  28311.8     0.745\n",
       "8      0.006  28290.8  28314.9     0.250\n",
       "9      0.003  28290.0  28315.2     5.000\n",
       "10     0.343  28289.2  28315.8     0.992\n",
       "11     1.491  28288.7  28316.0     0.994\n",
       "12     0.798  28285.3  28316.4     0.377\n",
       "13     0.326  28285.2  28316.8     0.093\n",
       "14     0.005  28284.6  28317.0     1.729\n",
       "15     0.300  28283.6  28317.9     1.490\n",
       "16     0.250  28282.1  28320.0     0.560\n",
       "17     0.018  28281.7  28320.9     0.300\n",
       "18     0.093  28281.0  28321.8     1.500\n",
       "19     1.500  28280.7  28322.1     0.010\n",
       "20     0.177  28280.3  28322.3     0.989\n",
       "21     0.300  28280.2  28322.7     1.089\n",
       "22     1.491  28279.4  28325.2     0.063\n",
       "23     0.005  28278.8  28328.1     0.292\n",
       "24     0.800  28276.7  28328.7     0.234\n",
       "25     0.001  28274.7  28329.4     5.000\n",
       "26     1.732  28274.3  28329.8     1.490\n",
       "27     0.100  28273.4  28329.9     0.027\n",
       "28     1.490  28272.6  28332.2     0.048\n",
       "29     0.002  28270.3  28333.0     1.000\n",
       "30     0.177  28270.0  28333.4     1.490\n",
       "31     0.001  28269.4  28334.9     1.490\n",
       "32     1.091  28268.7  28335.8     1.787\n",
       "33     0.035  28268.1  28337.1     0.537\n",
       "34     1.491  28267.4  28338.0     1.106\n",
       "35     0.990  28263.4  28340.3     0.025\n",
       "36     0.922  28262.6  28340.4     0.819\n",
       "37     0.036  28258.8  28340.5     5.628\n",
       "38     5.234  28258.6  28341.0     0.048\n",
       "39     0.001  28253.9  28345.1     0.004\n",
       "40     2.012  28253.1  28345.4     0.177\n",
       "41     0.301  28253.0  28345.5     0.055\n",
       "42     0.032  28251.9  28347.6     0.414\n",
       "43     0.063  28251.6  28348.4     0.989\n",
       "44     0.042  28250.1  28350.0     3.000\n",
       "45     0.002  28250.0  28352.3     0.918\n",
       "46     1.834  28248.5  28353.3     0.053\n",
       "47     8.627  28248.4  28355.7     0.002\n",
       "48     0.052  28247.0  28356.5     0.302\n",
       "49     0.302  28246.8  28357.9     2.409"
      ]
     },
     "execution_count": 3,
     "metadata": {},
     "output_type": "execute_result"
    }
   ],
   "source": [
    "df_krak = ob_krak[list(ob_krak.keys())[0]].iloc[0:50,:]\n",
    "df_krak"
   ]
  },
  {
   "cell_type": "code",
   "execution_count": 15,
   "id": "d8f8e624",
   "metadata": {},
   "outputs": [
    {
     "data": {
      "application/vnd.plotly.v1+json": {
       "config": {
        "plotlyServerURL": "https://plot.ly"
       },
       "data": [
        {
         "marker": {
          "color": "blue"
         },
         "name": "Bids",
         "type": "bar",
         "width": 0.4,
         "x": [
          28298.3,
          28293.9,
          28293.5,
          28292.2,
          28292,
          28291.2,
          28291,
          28290.9,
          28290.8,
          28290,
          28289.2,
          28288.7,
          28285.3,
          28285.2,
          28284.6,
          28283.6,
          28282.1,
          28281.7,
          28281,
          28280.7,
          28280.3,
          28280.2,
          28279.4,
          28278.8,
          28276.7,
          28274.7,
          28274.3,
          28273.4,
          28272.6,
          28270.3,
          28270,
          28269.4,
          28268.7,
          28268.1,
          28267.4,
          28263.4,
          28262.6,
          28258.8,
          28258.6,
          28253.9,
          28253.1,
          28253,
          28251.9,
          28251.6,
          28250.1,
          28250,
          28248.5,
          28248.4,
          28247,
          28246.8,
          28244.6,
          28243.5,
          28241.6,
          28238.6,
          28234.6,
          28234.3,
          28232.1,
          28228.2,
          28226.3,
          28226.1,
          28225.7,
          28225.2,
          28220.2,
          28218.5,
          28217.5,
          28217,
          28216.9,
          28216.8,
          28216.4,
          28215.6,
          28213.2,
          28212.1,
          28211.9,
          28209.6,
          28207.4,
          28206.9,
          28205.1,
          28205,
          28203.5,
          28202.4,
          28202.2,
          28202,
          28200,
          28199.9,
          28199.4,
          28196.7,
          28192,
          28191,
          28190.5,
          28190.2,
          28187,
          28185.1,
          28183.9,
          28183.7,
          28180.6,
          28179.1,
          28178.9,
          28169.6,
          28168.2,
          28167.8
         ],
         "y": [
          0.88,
          0.35,
          0.377,
          0.011,
          1.221,
          0.745,
          0.396,
          0.34,
          0.006,
          0.003,
          0.343,
          1.491,
          0.798,
          0.326,
          0.005,
          0.3,
          0.25,
          0.018,
          0.093,
          1.5,
          0.177,
          0.3,
          1.491,
          0.005,
          0.8,
          0.001,
          1.732,
          0.1,
          1.49,
          0.002,
          0.177,
          0.001,
          1.091,
          0.035,
          1.491,
          0.99,
          0.922,
          0.036,
          5.234,
          0.001,
          2.012,
          0.301,
          0.032,
          0.063,
          0.042,
          0.002,
          1.834,
          8.627,
          0.052,
          0.302
         ]
        },
        {
         "marker": {
          "color": "red"
         },
         "name": "Asks",
         "type": "bar",
         "width": 0.4,
         "x": [
          28298.4,
          28300,
          28305.4,
          28305.5,
          28307.3,
          28308.2,
          28310,
          28311.8,
          28314.9,
          28315.2,
          28315.8,
          28316,
          28316.4,
          28316.8,
          28317,
          28317.9,
          28320,
          28320.9,
          28321.8,
          28322.1,
          28322.3,
          28322.7,
          28325.2,
          28328.1,
          28328.7,
          28329.4,
          28329.8,
          28329.9,
          28332.2,
          28333,
          28333.4,
          28334.9,
          28335.8,
          28337.1,
          28338,
          28340.3,
          28340.4,
          28340.5,
          28341,
          28345.1,
          28345.4,
          28345.5,
          28347.6,
          28348.4,
          28350,
          28352.3,
          28353.3,
          28355.7,
          28356.5,
          28357.9
         ],
         "y": [
          3.352,
          0.02,
          0.074,
          0.123,
          0.204,
          0.005,
          0.004,
          0.745,
          0.25,
          5,
          0.992,
          0.994,
          0.377,
          0.093,
          1.729,
          1.49,
          0.56,
          0.3,
          1.5,
          0.01,
          0.989,
          1.089,
          0.063,
          0.292,
          0.234,
          5,
          1.49,
          0.027,
          0.048,
          1,
          1.49,
          1.49,
          1.787,
          0.537,
          1.106,
          0.025,
          0.819,
          5.628,
          0.048,
          0.004,
          0.177,
          0.055,
          0.414,
          0.989,
          3,
          0.918,
          0.053,
          0.002,
          0.302,
          2.409
         ]
        }
       ],
       "layout": {
        "barmode": "group",
        "template": {
         "data": {
          "bar": [
           {
            "error_x": {
             "color": "#2a3f5f"
            },
            "error_y": {
             "color": "#2a3f5f"
            },
            "marker": {
             "line": {
              "color": "#E5ECF6",
              "width": 0.5
             },
             "pattern": {
              "fillmode": "overlay",
              "size": 10,
              "solidity": 0.2
             }
            },
            "type": "bar"
           }
          ],
          "barpolar": [
           {
            "marker": {
             "line": {
              "color": "#E5ECF6",
              "width": 0.5
             },
             "pattern": {
              "fillmode": "overlay",
              "size": 10,
              "solidity": 0.2
             }
            },
            "type": "barpolar"
           }
          ],
          "carpet": [
           {
            "aaxis": {
             "endlinecolor": "#2a3f5f",
             "gridcolor": "white",
             "linecolor": "white",
             "minorgridcolor": "white",
             "startlinecolor": "#2a3f5f"
            },
            "baxis": {
             "endlinecolor": "#2a3f5f",
             "gridcolor": "white",
             "linecolor": "white",
             "minorgridcolor": "white",
             "startlinecolor": "#2a3f5f"
            },
            "type": "carpet"
           }
          ],
          "choropleth": [
           {
            "colorbar": {
             "outlinewidth": 0,
             "ticks": ""
            },
            "type": "choropleth"
           }
          ],
          "contour": [
           {
            "colorbar": {
             "outlinewidth": 0,
             "ticks": ""
            },
            "colorscale": [
             [
              0,
              "#0d0887"
             ],
             [
              0.1111111111111111,
              "#46039f"
             ],
             [
              0.2222222222222222,
              "#7201a8"
             ],
             [
              0.3333333333333333,
              "#9c179e"
             ],
             [
              0.4444444444444444,
              "#bd3786"
             ],
             [
              0.5555555555555556,
              "#d8576b"
             ],
             [
              0.6666666666666666,
              "#ed7953"
             ],
             [
              0.7777777777777778,
              "#fb9f3a"
             ],
             [
              0.8888888888888888,
              "#fdca26"
             ],
             [
              1,
              "#f0f921"
             ]
            ],
            "type": "contour"
           }
          ],
          "contourcarpet": [
           {
            "colorbar": {
             "outlinewidth": 0,
             "ticks": ""
            },
            "type": "contourcarpet"
           }
          ],
          "heatmap": [
           {
            "colorbar": {
             "outlinewidth": 0,
             "ticks": ""
            },
            "colorscale": [
             [
              0,
              "#0d0887"
             ],
             [
              0.1111111111111111,
              "#46039f"
             ],
             [
              0.2222222222222222,
              "#7201a8"
             ],
             [
              0.3333333333333333,
              "#9c179e"
             ],
             [
              0.4444444444444444,
              "#bd3786"
             ],
             [
              0.5555555555555556,
              "#d8576b"
             ],
             [
              0.6666666666666666,
              "#ed7953"
             ],
             [
              0.7777777777777778,
              "#fb9f3a"
             ],
             [
              0.8888888888888888,
              "#fdca26"
             ],
             [
              1,
              "#f0f921"
             ]
            ],
            "type": "heatmap"
           }
          ],
          "heatmapgl": [
           {
            "colorbar": {
             "outlinewidth": 0,
             "ticks": ""
            },
            "colorscale": [
             [
              0,
              "#0d0887"
             ],
             [
              0.1111111111111111,
              "#46039f"
             ],
             [
              0.2222222222222222,
              "#7201a8"
             ],
             [
              0.3333333333333333,
              "#9c179e"
             ],
             [
              0.4444444444444444,
              "#bd3786"
             ],
             [
              0.5555555555555556,
              "#d8576b"
             ],
             [
              0.6666666666666666,
              "#ed7953"
             ],
             [
              0.7777777777777778,
              "#fb9f3a"
             ],
             [
              0.8888888888888888,
              "#fdca26"
             ],
             [
              1,
              "#f0f921"
             ]
            ],
            "type": "heatmapgl"
           }
          ],
          "histogram": [
           {
            "marker": {
             "pattern": {
              "fillmode": "overlay",
              "size": 10,
              "solidity": 0.2
             }
            },
            "type": "histogram"
           }
          ],
          "histogram2d": [
           {
            "colorbar": {
             "outlinewidth": 0,
             "ticks": ""
            },
            "colorscale": [
             [
              0,
              "#0d0887"
             ],
             [
              0.1111111111111111,
              "#46039f"
             ],
             [
              0.2222222222222222,
              "#7201a8"
             ],
             [
              0.3333333333333333,
              "#9c179e"
             ],
             [
              0.4444444444444444,
              "#bd3786"
             ],
             [
              0.5555555555555556,
              "#d8576b"
             ],
             [
              0.6666666666666666,
              "#ed7953"
             ],
             [
              0.7777777777777778,
              "#fb9f3a"
             ],
             [
              0.8888888888888888,
              "#fdca26"
             ],
             [
              1,
              "#f0f921"
             ]
            ],
            "type": "histogram2d"
           }
          ],
          "histogram2dcontour": [
           {
            "colorbar": {
             "outlinewidth": 0,
             "ticks": ""
            },
            "colorscale": [
             [
              0,
              "#0d0887"
             ],
             [
              0.1111111111111111,
              "#46039f"
             ],
             [
              0.2222222222222222,
              "#7201a8"
             ],
             [
              0.3333333333333333,
              "#9c179e"
             ],
             [
              0.4444444444444444,
              "#bd3786"
             ],
             [
              0.5555555555555556,
              "#d8576b"
             ],
             [
              0.6666666666666666,
              "#ed7953"
             ],
             [
              0.7777777777777778,
              "#fb9f3a"
             ],
             [
              0.8888888888888888,
              "#fdca26"
             ],
             [
              1,
              "#f0f921"
             ]
            ],
            "type": "histogram2dcontour"
           }
          ],
          "mesh3d": [
           {
            "colorbar": {
             "outlinewidth": 0,
             "ticks": ""
            },
            "type": "mesh3d"
           }
          ],
          "parcoords": [
           {
            "line": {
             "colorbar": {
              "outlinewidth": 0,
              "ticks": ""
             }
            },
            "type": "parcoords"
           }
          ],
          "pie": [
           {
            "automargin": true,
            "type": "pie"
           }
          ],
          "scatter": [
           {
            "fillpattern": {
             "fillmode": "overlay",
             "size": 10,
             "solidity": 0.2
            },
            "type": "scatter"
           }
          ],
          "scatter3d": [
           {
            "line": {
             "colorbar": {
              "outlinewidth": 0,
              "ticks": ""
             }
            },
            "marker": {
             "colorbar": {
              "outlinewidth": 0,
              "ticks": ""
             }
            },
            "type": "scatter3d"
           }
          ],
          "scattercarpet": [
           {
            "marker": {
             "colorbar": {
              "outlinewidth": 0,
              "ticks": ""
             }
            },
            "type": "scattercarpet"
           }
          ],
          "scattergeo": [
           {
            "marker": {
             "colorbar": {
              "outlinewidth": 0,
              "ticks": ""
             }
            },
            "type": "scattergeo"
           }
          ],
          "scattergl": [
           {
            "marker": {
             "colorbar": {
              "outlinewidth": 0,
              "ticks": ""
             }
            },
            "type": "scattergl"
           }
          ],
          "scattermapbox": [
           {
            "marker": {
             "colorbar": {
              "outlinewidth": 0,
              "ticks": ""
             }
            },
            "type": "scattermapbox"
           }
          ],
          "scatterpolar": [
           {
            "marker": {
             "colorbar": {
              "outlinewidth": 0,
              "ticks": ""
             }
            },
            "type": "scatterpolar"
           }
          ],
          "scatterpolargl": [
           {
            "marker": {
             "colorbar": {
              "outlinewidth": 0,
              "ticks": ""
             }
            },
            "type": "scatterpolargl"
           }
          ],
          "scatterternary": [
           {
            "marker": {
             "colorbar": {
              "outlinewidth": 0,
              "ticks": ""
             }
            },
            "type": "scatterternary"
           }
          ],
          "surface": [
           {
            "colorbar": {
             "outlinewidth": 0,
             "ticks": ""
            },
            "colorscale": [
             [
              0,
              "#0d0887"
             ],
             [
              0.1111111111111111,
              "#46039f"
             ],
             [
              0.2222222222222222,
              "#7201a8"
             ],
             [
              0.3333333333333333,
              "#9c179e"
             ],
             [
              0.4444444444444444,
              "#bd3786"
             ],
             [
              0.5555555555555556,
              "#d8576b"
             ],
             [
              0.6666666666666666,
              "#ed7953"
             ],
             [
              0.7777777777777778,
              "#fb9f3a"
             ],
             [
              0.8888888888888888,
              "#fdca26"
             ],
             [
              1,
              "#f0f921"
             ]
            ],
            "type": "surface"
           }
          ],
          "table": [
           {
            "cells": {
             "fill": {
              "color": "#EBF0F8"
             },
             "line": {
              "color": "white"
             }
            },
            "header": {
             "fill": {
              "color": "#C8D4E3"
             },
             "line": {
              "color": "white"
             }
            },
            "type": "table"
           }
          ]
         },
         "layout": {
          "annotationdefaults": {
           "arrowcolor": "#2a3f5f",
           "arrowhead": 0,
           "arrowwidth": 1
          },
          "autotypenumbers": "strict",
          "coloraxis": {
           "colorbar": {
            "outlinewidth": 0,
            "ticks": ""
           }
          },
          "colorscale": {
           "diverging": [
            [
             0,
             "#8e0152"
            ],
            [
             0.1,
             "#c51b7d"
            ],
            [
             0.2,
             "#de77ae"
            ],
            [
             0.3,
             "#f1b6da"
            ],
            [
             0.4,
             "#fde0ef"
            ],
            [
             0.5,
             "#f7f7f7"
            ],
            [
             0.6,
             "#e6f5d0"
            ],
            [
             0.7,
             "#b8e186"
            ],
            [
             0.8,
             "#7fbc41"
            ],
            [
             0.9,
             "#4d9221"
            ],
            [
             1,
             "#276419"
            ]
           ],
           "sequential": [
            [
             0,
             "#0d0887"
            ],
            [
             0.1111111111111111,
             "#46039f"
            ],
            [
             0.2222222222222222,
             "#7201a8"
            ],
            [
             0.3333333333333333,
             "#9c179e"
            ],
            [
             0.4444444444444444,
             "#bd3786"
            ],
            [
             0.5555555555555556,
             "#d8576b"
            ],
            [
             0.6666666666666666,
             "#ed7953"
            ],
            [
             0.7777777777777778,
             "#fb9f3a"
            ],
            [
             0.8888888888888888,
             "#fdca26"
            ],
            [
             1,
             "#f0f921"
            ]
           ],
           "sequentialminus": [
            [
             0,
             "#0d0887"
            ],
            [
             0.1111111111111111,
             "#46039f"
            ],
            [
             0.2222222222222222,
             "#7201a8"
            ],
            [
             0.3333333333333333,
             "#9c179e"
            ],
            [
             0.4444444444444444,
             "#bd3786"
            ],
            [
             0.5555555555555556,
             "#d8576b"
            ],
            [
             0.6666666666666666,
             "#ed7953"
            ],
            [
             0.7777777777777778,
             "#fb9f3a"
            ],
            [
             0.8888888888888888,
             "#fdca26"
            ],
            [
             1,
             "#f0f921"
            ]
           ]
          },
          "colorway": [
           "#636efa",
           "#EF553B",
           "#00cc96",
           "#ab63fa",
           "#FFA15A",
           "#19d3f3",
           "#FF6692",
           "#B6E880",
           "#FF97FF",
           "#FECB52"
          ],
          "font": {
           "color": "#2a3f5f"
          },
          "geo": {
           "bgcolor": "white",
           "lakecolor": "white",
           "landcolor": "#E5ECF6",
           "showlakes": true,
           "showland": true,
           "subunitcolor": "white"
          },
          "hoverlabel": {
           "align": "left"
          },
          "hovermode": "closest",
          "mapbox": {
           "style": "light"
          },
          "paper_bgcolor": "white",
          "plot_bgcolor": "#E5ECF6",
          "polar": {
           "angularaxis": {
            "gridcolor": "white",
            "linecolor": "white",
            "ticks": ""
           },
           "bgcolor": "#E5ECF6",
           "radialaxis": {
            "gridcolor": "white",
            "linecolor": "white",
            "ticks": ""
           }
          },
          "scene": {
           "xaxis": {
            "backgroundcolor": "#E5ECF6",
            "gridcolor": "white",
            "gridwidth": 2,
            "linecolor": "white",
            "showbackground": true,
            "ticks": "",
            "zerolinecolor": "white"
           },
           "yaxis": {
            "backgroundcolor": "#E5ECF6",
            "gridcolor": "white",
            "gridwidth": 2,
            "linecolor": "white",
            "showbackground": true,
            "ticks": "",
            "zerolinecolor": "white"
           },
           "zaxis": {
            "backgroundcolor": "#E5ECF6",
            "gridcolor": "white",
            "gridwidth": 2,
            "linecolor": "white",
            "showbackground": true,
            "ticks": "",
            "zerolinecolor": "white"
           }
          },
          "shapedefaults": {
           "line": {
            "color": "#2a3f5f"
           }
          },
          "ternary": {
           "aaxis": {
            "gridcolor": "white",
            "linecolor": "white",
            "ticks": ""
           },
           "baxis": {
            "gridcolor": "white",
            "linecolor": "white",
            "ticks": ""
           },
           "bgcolor": "#E5ECF6",
           "caxis": {
            "gridcolor": "white",
            "linecolor": "white",
            "ticks": ""
           }
          },
          "title": {
           "x": 0.05
          },
          "xaxis": {
           "automargin": true,
           "gridcolor": "white",
           "linecolor": "white",
           "ticks": "",
           "title": {
            "standoff": 15
           },
           "zerolinecolor": "white",
           "zerolinewidth": 2
          },
          "yaxis": {
           "automargin": true,
           "gridcolor": "white",
           "linecolor": "white",
           "ticks": "",
           "title": {
            "standoff": 15
           },
           "zerolinecolor": "white",
           "zerolinewidth": 2
          }
         }
        },
        "xaxis": {
         "tickangle": 90
        }
       }
      },
      "text/html": [
       "<div>                            <div id=\"bfaf6b70-d017-4d59-b18d-a7a686a0377f\" class=\"plotly-graph-div\" style=\"height:525px; width:100%;\"></div>            <script type=\"text/javascript\">                require([\"plotly\"], function(Plotly) {                    window.PLOTLYENV=window.PLOTLYENV || {};                                    if (document.getElementById(\"bfaf6b70-d017-4d59-b18d-a7a686a0377f\")) {                    Plotly.newPlot(                        \"bfaf6b70-d017-4d59-b18d-a7a686a0377f\",                        [{\"marker\":{\"color\":\"blue\"},\"name\":\"Bids\",\"width\":0.4,\"x\":[28298.3,28293.9,28293.5,28292.2,28292.0,28291.2,28291.0,28290.9,28290.8,28290.0,28289.2,28288.7,28285.3,28285.2,28284.6,28283.6,28282.1,28281.7,28281.0,28280.7,28280.3,28280.2,28279.4,28278.8,28276.7,28274.7,28274.3,28273.4,28272.6,28270.3,28270.0,28269.4,28268.7,28268.1,28267.4,28263.4,28262.6,28258.8,28258.6,28253.9,28253.1,28253.0,28251.9,28251.6,28250.1,28250.0,28248.5,28248.4,28247.0,28246.8,28244.6,28243.5,28241.6,28238.6,28234.6,28234.3,28232.1,28228.2,28226.3,28226.1,28225.7,28225.2,28220.2,28218.5,28217.5,28217.0,28216.9,28216.8,28216.4,28215.6,28213.2,28212.1,28211.9,28209.6,28207.4,28206.9,28205.1,28205.0,28203.5,28202.4,28202.2,28202.0,28200.0,28199.9,28199.4,28196.7,28192.0,28191.0,28190.5,28190.2,28187.0,28185.1,28183.9,28183.7,28180.6,28179.1,28178.9,28169.6,28168.2,28167.8],\"y\":[0.88,0.35,0.377,0.011,1.221,0.745,0.396,0.34,0.006,0.003,0.343,1.491,0.798,0.326,0.005,0.3,0.25,0.018,0.093,1.5,0.177,0.3,1.491,0.005,0.8,0.001,1.732,0.1,1.49,0.002,0.177,0.001,1.091,0.035,1.491,0.99,0.922,0.036,5.234,0.001,2.012,0.301,0.032,0.063,0.042,0.002,1.834,8.627,0.052,0.302],\"type\":\"bar\"},{\"marker\":{\"color\":\"red\"},\"name\":\"Asks\",\"width\":0.4,\"x\":[28298.4,28300.0,28305.4,28305.5,28307.3,28308.2,28310.0,28311.8,28314.9,28315.2,28315.8,28316.0,28316.4,28316.8,28317.0,28317.9,28320.0,28320.9,28321.8,28322.1,28322.3,28322.7,28325.2,28328.1,28328.7,28329.4,28329.8,28329.9,28332.2,28333.0,28333.4,28334.9,28335.8,28337.1,28338.0,28340.3,28340.4,28340.5,28341.0,28345.1,28345.4,28345.5,28347.6,28348.4,28350.0,28352.3,28353.3,28355.7,28356.5,28357.9],\"y\":[3.352,0.02,0.074,0.123,0.204,0.005,0.004,0.745,0.25,5.0,0.992,0.994,0.377,0.093,1.729,1.49,0.56,0.3,1.5,0.01,0.989,1.089,0.063,0.292,0.234,5.0,1.49,0.027,0.048,1.0,1.49,1.49,1.787,0.537,1.106,0.025,0.819,5.628,0.048,0.004,0.177,0.055,0.414,0.989,3.0,0.918,0.053,0.002,0.302,2.409],\"type\":\"bar\"}],                        {\"template\":{\"data\":{\"histogram2dcontour\":[{\"type\":\"histogram2dcontour\",\"colorbar\":{\"outlinewidth\":0,\"ticks\":\"\"},\"colorscale\":[[0.0,\"#0d0887\"],[0.1111111111111111,\"#46039f\"],[0.2222222222222222,\"#7201a8\"],[0.3333333333333333,\"#9c179e\"],[0.4444444444444444,\"#bd3786\"],[0.5555555555555556,\"#d8576b\"],[0.6666666666666666,\"#ed7953\"],[0.7777777777777778,\"#fb9f3a\"],[0.8888888888888888,\"#fdca26\"],[1.0,\"#f0f921\"]]}],\"choropleth\":[{\"type\":\"choropleth\",\"colorbar\":{\"outlinewidth\":0,\"ticks\":\"\"}}],\"histogram2d\":[{\"type\":\"histogram2d\",\"colorbar\":{\"outlinewidth\":0,\"ticks\":\"\"},\"colorscale\":[[0.0,\"#0d0887\"],[0.1111111111111111,\"#46039f\"],[0.2222222222222222,\"#7201a8\"],[0.3333333333333333,\"#9c179e\"],[0.4444444444444444,\"#bd3786\"],[0.5555555555555556,\"#d8576b\"],[0.6666666666666666,\"#ed7953\"],[0.7777777777777778,\"#fb9f3a\"],[0.8888888888888888,\"#fdca26\"],[1.0,\"#f0f921\"]]}],\"heatmap\":[{\"type\":\"heatmap\",\"colorbar\":{\"outlinewidth\":0,\"ticks\":\"\"},\"colorscale\":[[0.0,\"#0d0887\"],[0.1111111111111111,\"#46039f\"],[0.2222222222222222,\"#7201a8\"],[0.3333333333333333,\"#9c179e\"],[0.4444444444444444,\"#bd3786\"],[0.5555555555555556,\"#d8576b\"],[0.6666666666666666,\"#ed7953\"],[0.7777777777777778,\"#fb9f3a\"],[0.8888888888888888,\"#fdca26\"],[1.0,\"#f0f921\"]]}],\"heatmapgl\":[{\"type\":\"heatmapgl\",\"colorbar\":{\"outlinewidth\":0,\"ticks\":\"\"},\"colorscale\":[[0.0,\"#0d0887\"],[0.1111111111111111,\"#46039f\"],[0.2222222222222222,\"#7201a8\"],[0.3333333333333333,\"#9c179e\"],[0.4444444444444444,\"#bd3786\"],[0.5555555555555556,\"#d8576b\"],[0.6666666666666666,\"#ed7953\"],[0.7777777777777778,\"#fb9f3a\"],[0.8888888888888888,\"#fdca26\"],[1.0,\"#f0f921\"]]}],\"contourcarpet\":[{\"type\":\"contourcarpet\",\"colorbar\":{\"outlinewidth\":0,\"ticks\":\"\"}}],\"contour\":[{\"type\":\"contour\",\"colorbar\":{\"outlinewidth\":0,\"ticks\":\"\"},\"colorscale\":[[0.0,\"#0d0887\"],[0.1111111111111111,\"#46039f\"],[0.2222222222222222,\"#7201a8\"],[0.3333333333333333,\"#9c179e\"],[0.4444444444444444,\"#bd3786\"],[0.5555555555555556,\"#d8576b\"],[0.6666666666666666,\"#ed7953\"],[0.7777777777777778,\"#fb9f3a\"],[0.8888888888888888,\"#fdca26\"],[1.0,\"#f0f921\"]]}],\"surface\":[{\"type\":\"surface\",\"colorbar\":{\"outlinewidth\":0,\"ticks\":\"\"},\"colorscale\":[[0.0,\"#0d0887\"],[0.1111111111111111,\"#46039f\"],[0.2222222222222222,\"#7201a8\"],[0.3333333333333333,\"#9c179e\"],[0.4444444444444444,\"#bd3786\"],[0.5555555555555556,\"#d8576b\"],[0.6666666666666666,\"#ed7953\"],[0.7777777777777778,\"#fb9f3a\"],[0.8888888888888888,\"#fdca26\"],[1.0,\"#f0f921\"]]}],\"mesh3d\":[{\"type\":\"mesh3d\",\"colorbar\":{\"outlinewidth\":0,\"ticks\":\"\"}}],\"scatter\":[{\"fillpattern\":{\"fillmode\":\"overlay\",\"size\":10,\"solidity\":0.2},\"type\":\"scatter\"}],\"parcoords\":[{\"type\":\"parcoords\",\"line\":{\"colorbar\":{\"outlinewidth\":0,\"ticks\":\"\"}}}],\"scatterpolargl\":[{\"type\":\"scatterpolargl\",\"marker\":{\"colorbar\":{\"outlinewidth\":0,\"ticks\":\"\"}}}],\"bar\":[{\"error_x\":{\"color\":\"#2a3f5f\"},\"error_y\":{\"color\":\"#2a3f5f\"},\"marker\":{\"line\":{\"color\":\"#E5ECF6\",\"width\":0.5},\"pattern\":{\"fillmode\":\"overlay\",\"size\":10,\"solidity\":0.2}},\"type\":\"bar\"}],\"scattergeo\":[{\"type\":\"scattergeo\",\"marker\":{\"colorbar\":{\"outlinewidth\":0,\"ticks\":\"\"}}}],\"scatterpolar\":[{\"type\":\"scatterpolar\",\"marker\":{\"colorbar\":{\"outlinewidth\":0,\"ticks\":\"\"}}}],\"histogram\":[{\"marker\":{\"pattern\":{\"fillmode\":\"overlay\",\"size\":10,\"solidity\":0.2}},\"type\":\"histogram\"}],\"scattergl\":[{\"type\":\"scattergl\",\"marker\":{\"colorbar\":{\"outlinewidth\":0,\"ticks\":\"\"}}}],\"scatter3d\":[{\"type\":\"scatter3d\",\"line\":{\"colorbar\":{\"outlinewidth\":0,\"ticks\":\"\"}},\"marker\":{\"colorbar\":{\"outlinewidth\":0,\"ticks\":\"\"}}}],\"scattermapbox\":[{\"type\":\"scattermapbox\",\"marker\":{\"colorbar\":{\"outlinewidth\":0,\"ticks\":\"\"}}}],\"scatterternary\":[{\"type\":\"scatterternary\",\"marker\":{\"colorbar\":{\"outlinewidth\":0,\"ticks\":\"\"}}}],\"scattercarpet\":[{\"type\":\"scattercarpet\",\"marker\":{\"colorbar\":{\"outlinewidth\":0,\"ticks\":\"\"}}}],\"carpet\":[{\"aaxis\":{\"endlinecolor\":\"#2a3f5f\",\"gridcolor\":\"white\",\"linecolor\":\"white\",\"minorgridcolor\":\"white\",\"startlinecolor\":\"#2a3f5f\"},\"baxis\":{\"endlinecolor\":\"#2a3f5f\",\"gridcolor\":\"white\",\"linecolor\":\"white\",\"minorgridcolor\":\"white\",\"startlinecolor\":\"#2a3f5f\"},\"type\":\"carpet\"}],\"table\":[{\"cells\":{\"fill\":{\"color\":\"#EBF0F8\"},\"line\":{\"color\":\"white\"}},\"header\":{\"fill\":{\"color\":\"#C8D4E3\"},\"line\":{\"color\":\"white\"}},\"type\":\"table\"}],\"barpolar\":[{\"marker\":{\"line\":{\"color\":\"#E5ECF6\",\"width\":0.5},\"pattern\":{\"fillmode\":\"overlay\",\"size\":10,\"solidity\":0.2}},\"type\":\"barpolar\"}],\"pie\":[{\"automargin\":true,\"type\":\"pie\"}]},\"layout\":{\"autotypenumbers\":\"strict\",\"colorway\":[\"#636efa\",\"#EF553B\",\"#00cc96\",\"#ab63fa\",\"#FFA15A\",\"#19d3f3\",\"#FF6692\",\"#B6E880\",\"#FF97FF\",\"#FECB52\"],\"font\":{\"color\":\"#2a3f5f\"},\"hovermode\":\"closest\",\"hoverlabel\":{\"align\":\"left\"},\"paper_bgcolor\":\"white\",\"plot_bgcolor\":\"#E5ECF6\",\"polar\":{\"bgcolor\":\"#E5ECF6\",\"angularaxis\":{\"gridcolor\":\"white\",\"linecolor\":\"white\",\"ticks\":\"\"},\"radialaxis\":{\"gridcolor\":\"white\",\"linecolor\":\"white\",\"ticks\":\"\"}},\"ternary\":{\"bgcolor\":\"#E5ECF6\",\"aaxis\":{\"gridcolor\":\"white\",\"linecolor\":\"white\",\"ticks\":\"\"},\"baxis\":{\"gridcolor\":\"white\",\"linecolor\":\"white\",\"ticks\":\"\"},\"caxis\":{\"gridcolor\":\"white\",\"linecolor\":\"white\",\"ticks\":\"\"}},\"coloraxis\":{\"colorbar\":{\"outlinewidth\":0,\"ticks\":\"\"}},\"colorscale\":{\"sequential\":[[0.0,\"#0d0887\"],[0.1111111111111111,\"#46039f\"],[0.2222222222222222,\"#7201a8\"],[0.3333333333333333,\"#9c179e\"],[0.4444444444444444,\"#bd3786\"],[0.5555555555555556,\"#d8576b\"],[0.6666666666666666,\"#ed7953\"],[0.7777777777777778,\"#fb9f3a\"],[0.8888888888888888,\"#fdca26\"],[1.0,\"#f0f921\"]],\"sequentialminus\":[[0.0,\"#0d0887\"],[0.1111111111111111,\"#46039f\"],[0.2222222222222222,\"#7201a8\"],[0.3333333333333333,\"#9c179e\"],[0.4444444444444444,\"#bd3786\"],[0.5555555555555556,\"#d8576b\"],[0.6666666666666666,\"#ed7953\"],[0.7777777777777778,\"#fb9f3a\"],[0.8888888888888888,\"#fdca26\"],[1.0,\"#f0f921\"]],\"diverging\":[[0,\"#8e0152\"],[0.1,\"#c51b7d\"],[0.2,\"#de77ae\"],[0.3,\"#f1b6da\"],[0.4,\"#fde0ef\"],[0.5,\"#f7f7f7\"],[0.6,\"#e6f5d0\"],[0.7,\"#b8e186\"],[0.8,\"#7fbc41\"],[0.9,\"#4d9221\"],[1,\"#276419\"]]},\"xaxis\":{\"gridcolor\":\"white\",\"linecolor\":\"white\",\"ticks\":\"\",\"title\":{\"standoff\":15},\"zerolinecolor\":\"white\",\"automargin\":true,\"zerolinewidth\":2},\"yaxis\":{\"gridcolor\":\"white\",\"linecolor\":\"white\",\"ticks\":\"\",\"title\":{\"standoff\":15},\"zerolinecolor\":\"white\",\"automargin\":true,\"zerolinewidth\":2},\"scene\":{\"xaxis\":{\"backgroundcolor\":\"#E5ECF6\",\"gridcolor\":\"white\",\"linecolor\":\"white\",\"showbackground\":true,\"ticks\":\"\",\"zerolinecolor\":\"white\",\"gridwidth\":2},\"yaxis\":{\"backgroundcolor\":\"#E5ECF6\",\"gridcolor\":\"white\",\"linecolor\":\"white\",\"showbackground\":true,\"ticks\":\"\",\"zerolinecolor\":\"white\",\"gridwidth\":2},\"zaxis\":{\"backgroundcolor\":\"#E5ECF6\",\"gridcolor\":\"white\",\"linecolor\":\"white\",\"showbackground\":true,\"ticks\":\"\",\"zerolinecolor\":\"white\",\"gridwidth\":2}},\"shapedefaults\":{\"line\":{\"color\":\"#2a3f5f\"}},\"annotationdefaults\":{\"arrowcolor\":\"#2a3f5f\",\"arrowhead\":0,\"arrowwidth\":1},\"geo\":{\"bgcolor\":\"white\",\"landcolor\":\"#E5ECF6\",\"subunitcolor\":\"white\",\"showland\":true,\"showlakes\":true,\"lakecolor\":\"white\"},\"title\":{\"x\":0.05},\"mapbox\":{\"style\":\"light\"}}},\"barmode\":\"group\",\"xaxis\":{\"tickangle\":90}},                        {\"responsive\": true}                    ).then(function(){\n",
       "                            \n",
       "var gd = document.getElementById('bfaf6b70-d017-4d59-b18d-a7a686a0377f');\n",
       "var x = new MutationObserver(function (mutations, observer) {{\n",
       "        var display = window.getComputedStyle(gd).display;\n",
       "        if (!display || display === 'none') {{\n",
       "            console.log([gd, 'removed!']);\n",
       "            Plotly.purge(gd);\n",
       "            observer.disconnect();\n",
       "        }}\n",
       "}});\n",
       "\n",
       "// Listen for the removal of the full notebook cells\n",
       "var notebookContainer = gd.closest('#notebook-container');\n",
       "if (notebookContainer) {{\n",
       "    x.observe(notebookContainer, {childList: true});\n",
       "}}\n",
       "\n",
       "// Listen for the clearing of the current output cell\n",
       "var outputEl = gd.closest('.output');\n",
       "if (outputEl) {{\n",
       "    x.observe(outputEl, {childList: true});\n",
       "}}\n",
       "\n",
       "                        })                };                });            </script>        </div>"
      ]
     },
     "metadata": {},
     "output_type": "display_data"
    }
   ],
   "source": [
    "fig = go.Figure(data=[\n",
    "    go.Bar(name='Bids', x=ob_krak[list(ob_krak.keys())[0]]['bid'], y=df_krak['bid_size'], marker_color='blue', width = 0.4),\n",
    "    go.Bar(name='Asks', x=df_krak['ask'], y=df_krak['ask_size'], marker_color='red', width = 0.4)\n",
    "])\n",
    "# Change the bar mode\n",
    "fig.update_layout(barmode='group')\n",
    "fig.update_xaxes(tickangle=90)\n",
    "fig.show()"
   ]
  },
  {
   "cell_type": "code",
   "execution_count": 28,
   "id": "48a1015a",
   "metadata": {},
   "outputs": [
    {
     "ename": "ValueError",
     "evalue": "\n    Invalid element(s) received for the 'data' property of \n        Invalid elements include: [Figure({\n    'data': [{'marker': {'color': 'blue'},\n              'name': 'Bids',\n              'type': 'bar',\n              'width': 0.4,\n              'x': array([28298.3, 28293.9, 28293.5, 28292.2, 28292. , 28291.2, 28291. , 28290.9,\n                          28290.8, 28290. , 28289.2, 28288.7, 28285.3, 28285.2, 28284.6, 28283.6,\n                          28282.1, 28281.7, 28281. , 28280.7, 28280.3, 28280.2, 28279.4, 28278.8,\n                          28276.7, 28274.7, 28274.3, 28273.4, 28272.6, 28270.3, 28270. , 28269.4,\n                          28268.7, 28268.1, 28267.4, 28263.4, 28262.6, 28258.8, 28258.6, 28253.9,\n                          28253.1, 28253. , 28251.9, 28251.6, 28250.1, 28250. , 28248.5, 28248.4,\n                          28247. , 28246.8, 28244.6, 28243.5, 28241.6, 28238.6, 28234.6, 28234.3,\n                          28232.1, 28228.2, 28226.3, 28226.1, 28225.7, 28225.2, 28220.2, 28218.5,\n                          28217.5, 28217. , 28216.9, 28216.8, 28216.4, 28215.6, 28213.2, 28212.1,\n                          28211.9, 28209.6, 28207.4, 28206.9, 28205.1, 28205. , 28203.5, 28202.4,\n                          28202.2, 28202. , 28200. , 28199.9, 28199.4, 28196.7, 28192. , 28191. ,\n                          28190.5, 28190.2, 28187. , 28185.1, 28183.9, 28183.7, 28180.6, 28179.1,\n                          28178.9, 28169.6, 28168.2, 28167.8]),\n              'y': array([8.800e-01, 3.500e-01, 3.770e-01, 1.100e-02, 1.221e+00, 7.450e-01,\n                          3.960e-01, 3.400e-01, 6.000e-03, 3.000e-03, 3.430e-01, 1.491e+00,\n                          7.980e-01, 3.260e-01, 5.000e-03, 3.000e-01, 2.500e-01, 1.800e-02,\n                          9.300e-02, 1.500e+00, 1.770e-01, 3.000e-01, 1.491e+00, 5.000e-03,\n                          8.000e-01, 1.000e-03, 1.732e+00, 1.000e-01, 1.490e+00, 2.000e-03,\n                          1.770e-01, 1.000e-03, 1.091e+00, 3.500e-02, 1.491e+00, 9.900e-01,\n                          9.220e-01, 3.600e-02, 5.234e+00, 1.000e-03, 2.012e+00, 3.010e-01,\n                          3.200e-02, 6.300e-02, 4.200e-02, 2.000e-03, 1.834e+00, 8.627e+00,\n                          5.200e-02, 3.020e-01, 2.567e+00, 3.600e-02, 2.000e-03, 4.370e-01,\n                          7.090e-01, 4.180e-01, 1.410e-01, 2.000e-03, 1.230e-01, 2.140e-01,\n                          1.000e-03, 2.983e+00, 5.652e+00, 1.011e+00, 6.900e-02, 6.000e-03,\n                          2.430e-01, 1.100e-02, 1.111e+00, 2.752e+00, 1.000e-03, 7.800e-02,\n                          2.000e-03, 4.473e+00, 2.200e+00, 2.000e-03, 2.920e-01, 1.420e-01,\n                          3.200e-02, 3.730e+00, 1.290e-01, 3.000e-01, 1.027e+00, 1.000e-03,\n                          2.821e+00, 9.656e+00, 1.494e+00, 3.873e+00, 1.040e+00, 1.120e-01,\n                          2.755e+00, 1.000e+00, 4.554e+00, 6.457e+00, 1.130e-01, 3.726e+00,\n                          3.059e+00, 3.733e+00, 2.756e+00, 2.498e+00])},\n             {'marker': {'color': 'red'},\n              'name': 'Asks',\n              'type': 'bar',\n              'width': 0.4,\n              'x': array([28298.4, 28300. , 28305.4, 28305.5, 28307.3, 28308.2, 28310. , 28311.8,\n                          28314.9, 28315.2, 28315.8, 28316. , 28316.4, 28316.8, 28317. , 28317.9,\n                          28320. , 28320.9, 28321.8, 28322.1, 28322.3, 28322.7, 28325.2, 28328.1,\n                          28328.7, 28329.4, 28329.8, 28329.9, 28332.2, 28333. , 28333.4, 28334.9,\n                          28335.8, 28337.1, 28338. , 28340.3, 28340.4, 28340.5, 28341. , 28345.1,\n                          28345.4, 28345.5, 28347.6, 28348.4, 28350. , 28352.3, 28353.3, 28355.7,\n                          28356.5, 28357.9, 28358.2, 28360.3, 28362.9, 28366.2, 28366.3, 28368.8,\n                          28368.9, 28372.3, 28372.6, 28372.7, 28374.5, 28375. , 28375.1, 28375.4,\n                          28378.4, 28379.1, 28380.7, 28384.5, 28384.9, 28385.5, 28385.6, 28385.9,\n                          28389.1, 28389.5, 28390.9, 28391.6, 28400.4, 28401.5, 28401.7, 28402.9,\n                          28403.5, 28405.4, 28405.9, 28408.8, 28410.3, 28412.3, 28413.9, 28414. ,\n                          28414.6, 28415.6, 28417.2, 28422.3, 28424.7, 28425. , 28426.6, 28430.4,\n                          28431. , 28431.8, 28432.1, 28446.7]),\n              'y': array([3.352e+00, 2.000e-02, 7.400e-02, 1.230e-01, 2.040e-01, 5.000e-03,\n                          4.000e-03, 7.450e-01, 2.500e-01, 5.000e+00, 9.920e-01, 9.940e-01,\n                          3.770e-01, 9.300e-02, 1.729e+00, 1.490e+00, 5.600e-01, 3.000e-01,\n                          1.500e+00, 1.000e-02, 9.890e-01, 1.089e+00, 6.300e-02, 2.920e-01,\n                          2.340e-01, 5.000e+00, 1.490e+00, 2.700e-02, 4.800e-02, 1.000e+00,\n                          1.490e+00, 1.490e+00, 1.787e+00, 5.370e-01, 1.106e+00, 2.500e-02,\n                          8.190e-01, 5.628e+00, 4.800e-02, 4.000e-03, 1.770e-01, 5.500e-02,\n                          4.140e-01, 9.890e-01, 3.000e+00, 9.180e-01, 5.300e-02, 2.000e-03,\n                          3.020e-01, 2.409e+00, 2.491e+00, 4.005e+00, 4.482e+00, 2.230e-01,\n                          1.011e+00, 5.622e+00, 2.000e-01, 1.105e+00, 1.000e+00, 7.000e-03,\n                          1.484e+00, 3.038e+00, 1.400e-01, 2.844e+00, 2.489e+00, 3.600e-02,\n                          1.000e-03, 3.936e+00, 7.900e-02, 3.570e+00, 2.802e+00, 8.000e-03,\n                          3.936e+00, 2.620e-01, 9.970e-01, 6.000e-02, 3.200e-02, 1.000e-03,\n                          1.130e-01, 1.000e+00, 3.844e+00, 4.646e+00, 6.300e-02, 2.496e+00,\n                          4.475e+00, 5.864e+00, 2.800e+00, 2.840e+00, 3.503e+00, 3.566e+00,\n                          4.475e+00, 9.000e-03, 1.050e-01, 2.000e-03, 1.800e-02, 1.000e-03,\n                          1.000e-03, 3.840e+00, 3.032e+00, 4.470e+00])}],\n    'layout': {'template': '...'}\n}), Figure({\n    'data': [{'marker': {'color': 'blue'},\n              'name': 'Bids',\n              'type': 'bar',\n              'width': 0.4,\n              'x': array([28298.3, 28293.9, 28293.5, 28292.2, 28292. , 28291.2, 28291. , 28290.9,\n                          28290.8, 28290. , 28289.2, 28288.7, 28285.3, 28285.2, 28284.6, 28283.6,\n                          28282.1, 28281.7, 28281. , 28280.7, 28280.3, 28280.2, 28279.4, 28278.8,\n                          28276.7, 28274.7, 28274.3, 28273.4, 28272.6, 28270.3, 28270. , 28269.4,\n                          28268.7, 28268.1, 28267.4, 28263.4, 28262.6, 28258.8, 28258.6, 28253.9,\n                          28253.1, 28253. , 28251.9, 28251.6, 28250.1, 28250. , 28248.5, 28248.4,\n                          28247. , 28246.8, 28244.6, 28243.5, 28241.6, 28238.6, 28234.6, 28234.3,\n                          28232.1, 28228.2, 28226.3, 28226.1, 28225.7, 28225.2, 28220.2, 28218.5,\n                          28217.5, 28217. , 28216.9, 28216.8, 28216.4, 28215.6, 28213.2, 28212.1,\n                          28211.9, 28209.6, 28207.4, 28206.9, 28205.1, 28205. , 28203.5, 28202.4,\n                          28202.2, 28202. , 28200. , 28199.9, 28199.4, 28196.7, 28192. , 28191. ,\n                          28190.5, 28190.2, 28187. , 28185.1, 28183.9, 28183.7, 28180.6, 28179.1,\n                          28178.9, 28169.6, 28168.2, 28167.8]),\n              'y': array([8.800e-01, 3.500e-01, 3.770e-01, 1.100e-02, 1.221e+00, 7.450e-01,\n                          3.960e-01, 3.400e-01, 6.000e-03, 3.000e-03, 3.430e-01, 1.491e+00,\n                          7.980e-01, 3.260e-01, 5.000e-03, 3.000e-01, 2.500e-01, 1.800e-02,\n                          9.300e-02, 1.500e+00, 1.770e-01, 3.000e-01, 1.491e+00, 5.000e-03,\n                          8.000e-01, 1.000e-03, 1.732e+00, 1.000e-01, 1.490e+00, 2.000e-03,\n                          1.770e-01, 1.000e-03, 1.091e+00, 3.500e-02, 1.491e+00, 9.900e-01,\n                          9.220e-01, 3.600e-02, 5.234e+00, 1.000e-03, 2.012e+00, 3.010e-01,\n                          3.200e-02, 6.300e-02, 4.200e-02, 2.000e-03, 1.834e+00, 8.627e+00,\n                          5.200e-02, 3.020e-01, 2.567e+00, 3.600e-02, 2.000e-03, 4.370e-01,\n                          7.090e-01, 4.180e-01, 1.410e-01, 2.000e-03, 1.230e-01, 2.140e-01,\n                          1.000e-03, 2.983e+00, 5.652e+00, 1.011e+00, 6.900e-02, 6.000e-03,\n                          2.430e-01, 1.100e-02, 1.111e+00, 2.752e+00, 1.000e-03, 7.800e-02,\n                          2.000e-03, 4.473e+00, 2.200e+00, 2.000e-03, 2.920e-01, 1.420e-01,\n                          3.200e-02, 3.730e+00, 1.290e-01, 3.000e-01, 1.027e+00, 1.000e-03,\n                          2.821e+00, 9.656e+00, 1.494e+00, 3.873e+00, 1.040e+00, 1.120e-01,\n                          2.755e+00, 1.000e+00, 4.554e+00, 6.457e+00, 1.130e-01, 3.726e+00,\n                          3.059e+00, 3.733e+00, 2.756e+00, 2.498e+00])},\n             {'marker': {'color': 'red'},\n              'name': 'Asks',\n              'type': 'bar',\n              'width': 0.4,\n              'x': array([28298.4, 28300. , 28305.4, 28305.5, 28307.3, 28308.2, 28310. , 28311.8,\n                          28314.9, 28315.2, 28315.8, 28316. , 28316.4, 28316.8, 28317. , 28317.9,\n                          28320. , 28320.9, 28321.8, 28322.1, 28322.3, 28322.7, 28325.2, 28328.1,\n                          28328.7, 28329.4, 28329.8, 28329.9, 28332.2, 28333. , 28333.4, 28334.9,\n                          28335.8, 28337.1, 28338. , 28340.3, 28340.4, 28340.5, 28341. , 28345.1,\n                          28345.4, 28345.5, 28347.6, 28348.4, 28350. , 28352.3, 28353.3, 28355.7,\n                          28356.5, 28357.9, 28358.2, 28360.3, 28362.9, 28366.2, 28366.3, 28368.8,\n                          28368.9, 28372.3, 28372.6, 28372.7, 28374.5, 28375. , 28375.1, 28375.4,\n                          28378.4, 28379.1, 28380.7, 28384.5, 28384.9, 28385.5, 28385.6, 28385.9,\n                          28389.1, 28389.5, 28390.9, 28391.6, 28400.4, 28401.5, 28401.7, 28402.9,\n                          28403.5, 28405.4, 28405.9, 28408.8, 28410.3, 28412.3, 28413.9, 28414. ,\n                          28414.6, 28415.6, 28417.2, 28422.3, 28424.7, 28425. , 28426.6, 28430.4,\n                          28431. , 28431.8, 28432.1, 28446.7]),\n              'y': array([3.352e+00, 2.000e-02, 7.400e-02, 1.230e-01, 2.040e-01, 5.000e-03,\n                          4.000e-03, 7.450e-01, 2.500e-01, 5.000e+00, 9.920e-01, 9.940e-01,\n                          3.770e-01, 9.300e-02, 1.729e+00, 1.490e+00, 5.600e-01, 3.000e-01,\n                          1.500e+00, 1.000e-02, 9.890e-01, 1.089e+00, 6.300e-02, 2.920e-01,\n                          2.340e-01, 5.000e+00, 1.490e+00, 2.700e-02, 4.800e-02, 1.000e+00,\n                          1.490e+00, 1.490e+00, 1.787e+00, 5.370e-01, 1.106e+00, 2.500e-02,\n                          8.190e-01, 5.628e+00, 4.800e-02, 4.000e-03, 1.770e-01, 5.500e-02,\n                          4.140e-01, 9.890e-01, 3.000e+00, 9.180e-01, 5.300e-02, 2.000e-03,\n                          3.020e-01, 2.409e+00, 2.491e+00, 4.005e+00, 4.482e+00, 2.230e-01,\n                          1.011e+00, 5.622e+00, 2.000e-01, 1.105e+00, 1.000e+00, 7.000e-03,\n                          1.484e+00, 3.038e+00, 1.400e-01, 2.844e+00, 2.489e+00, 3.600e-02,\n                          1.000e-03, 3.936e+00, 7.900e-02, 3.570e+00, 2.802e+00, 8.000e-03,\n                          3.936e+00, 2.620e-01, 9.970e-01, 6.000e-02, 3.200e-02, 1.000e-03,\n                          1.130e-01, 1.000e+00, 3.844e+00, 4.646e+00, 6.300e-02, 2.496e+00,\n                          4.475e+00, 5.864e+00, 2.800e+00, 2.840e+00, 3.503e+00, 3.566e+00,\n                          4.475e+00, 9.000e-03, 1.050e-01, 2.000e-03, 1.800e-02, 1.000e-03,\n                          1.000e-03, 3.840e+00, 3.032e+00, 4.470e+00])}],\n    'layout': {'template': '...'}\n}), Figure({\n    'data': [{'marker': {'color': 'blue'},\n              'name': 'Bids',\n              'type': 'bar',\n              'width': 0.4,\n              'x': array([28309.9, 28305.5, 28305.4, 28303.6, 28303.5, 28298.2, 28298.1, 28298. ,\n                          28297.8, 28296.8, 28296. , 28294.5, 28294.4, 28293.5, 28292.1, 28292. ,\n                          28291.2, 28291. , 28290.9, 28290.8, 28290. , 28289.9, 28289.2, 28288.7,\n                          28285.4, 28285.3, 28285.2, 28284.6, 28283.6, 28280.5, 28279.4, 28278.8,\n                          28276.3, 28274.7, 28274.5, 28274.3, 28270.3, 28270. , 28269.4, 28268.7,\n                          28267.4, 28265.2, 28263.9, 28263.4, 28262.3, 28258.8, 28258.6, 28255.8,\n                          28253.9, 28253. , 28251.9, 28251.3, 28250.1, 28250. , 28248.5, 28248.4,\n                          28246.8, 28245.8, 28244.7, 28244.6, 28241.6, 28239.4, 28238.6, 28234.6,\n                          28229.4, 28228.2, 28226.3, 28226.1, 28225.7, 28225.2, 28223. , 28220.2,\n                          28218.5, 28217. , 28216.9, 28216.8, 28216.2, 28213.2, 28211.9, 28209.6,\n                          28207.4, 28206.9, 28205.1, 28205. , 28202.9, 28202.4, 28202.2, 28202. ,\n                          28200. , 28199.9, 28199.4, 28196.7, 28196.6, 28192. , 28191. , 28190.2,\n                          28189.7, 28187. , 28185.1, 28183.9]),\n              'y': array([1.507e+00, 4.000e-01, 1.625e+00, 5.000e-03, 1.100e-02, 7.400e-02,\n                          4.000e-01, 9.630e-01, 3.100e-01, 6.000e-03, 9.410e-01, 1.500e+00,\n                          2.500e-01, 3.770e-01, 3.930e-01, 2.900e-01, 5.361e+00, 3.960e-01,\n                          3.400e-01, 6.000e-03, 3.000e-03, 1.000e-01, 3.430e-01, 1.491e+00,\n                          1.770e-01, 7.980e-01, 3.260e-01, 5.000e-03, 3.000e-01, 2.020e-01,\n                          1.491e+00, 5.000e-03, 8.000e-01, 1.000e-03, 8.460e-01, 1.732e+00,\n                          2.000e-03, 1.770e-01, 1.000e-03, 1.091e+00, 1.491e+00, 5.000e+00,\n                          6.300e-02, 9.900e-01, 2.012e+00, 3.600e-02, 2.340e-01, 1.109e+00,\n                          1.000e-03, 3.010e-01, 3.200e-02, 3.980e-01, 4.200e-02, 2.000e-03,\n                          8.830e-01, 2.981e+00, 3.020e-01, 1.400e-01, 9.770e-01, 2.567e+00,\n                          2.000e-03, 2.000e-03, 4.370e-01, 7.090e-01, 1.110e+00, 2.000e-03,\n                          1.230e-01, 2.140e-01, 1.000e-03, 2.983e+00, 7.800e-02, 5.652e+00,\n                          1.011e+00, 6.000e-03, 2.430e-01, 1.100e-02, 1.005e+00, 1.000e-03,\n                          2.000e-03, 4.473e+00, 2.200e+00, 2.000e-03, 2.920e-01, 1.420e-01,\n                          3.056e+00, 3.730e+00, 1.290e-01, 3.000e-01, 1.027e+00, 1.000e-03,\n                          2.821e+00, 9.656e+00, 2.610e-01, 1.494e+00, 3.873e+00, 1.120e-01,\n                          6.000e-02, 2.755e+00, 1.000e+00, 4.554e+00])},\n             {'marker': {'color': 'red'},\n              'name': 'Asks',\n              'type': 'bar',\n              'width': 0.4,\n              'x': array([28310. , 28314.6, 28319.8, 28320. , 28322.1, 28322.3, 28322.9, 28324.6,\n                          28325.8, 28328.1, 28328.7, 28329.8, 28332.1, 28332.5, 28333.4, 28333.5,\n                          28334.9, 28337.1, 28338. , 28339.9, 28340. , 28340.3, 28340.4, 28340.5,\n                          28341. , 28342.5, 28345.4, 28345.5, 28348.4, 28349. , 28350. , 28352.5,\n                          28355.7, 28356.5, 28357.9, 28358.2, 28360.3, 28362.9, 28364.7, 28366.2,\n                          28368.8, 28368.9, 28372.3, 28372.6, 28372.7, 28374.5, 28375. , 28375.1,\n                          28375.4, 28378.4, 28379.1, 28380.7, 28384.5, 28385.5, 28385.6, 28385.9,\n                          28386.2, 28389.1, 28395. , 28398.9, 28401.5, 28401.7, 28402.9, 28403.5,\n                          28405.4, 28408.8, 28409.1, 28410.3, 28412.3, 28413.9, 28414. , 28414.6,\n                          28415.6, 28416.2, 28417.2, 28418.8, 28422.3, 28425. , 28426.6, 28430.4,\n                          28431. , 28431.8, 28432.1, 28434.1, 28446.7, 28446.8, 28448.7, 28448.8,\n                          28451.1, 28451.5, 28451.6, 28452.8, 28453.8, 28454.2, 28454.4, 28461.5,\n                          28461.8, 28466.3, 28469.7, 28471.9]),\n              'y': array([3.354e+00, 1.230e-01, 7.400e-02, 5.600e-01, 1.000e-02, 5.890e-01,\n                          1.729e+00, 5.000e-03, 5.000e+00, 1.381e+00, 2.340e-01, 1.490e+00,\n                          6.300e-02, 9.570e-01, 1.490e+00, 1.500e+00, 1.490e+00, 5.370e-01,\n                          1.106e+00, 9.870e-01, 5.000e+00, 2.408e+00, 8.190e-01, 5.628e+00,\n                          4.800e-02, 2.296e+00, 2.500e-02, 5.500e-02, 9.890e-01, 1.786e+00,\n                          3.000e+00, 4.000e-03, 2.000e-03, 3.020e-01, 2.409e+00, 2.491e+00,\n                          2.979e+00, 4.482e+00, 4.120e-01, 2.230e-01, 5.622e+00, 2.000e-01,\n                          1.105e+00, 1.000e+00, 7.000e-03, 1.484e+00, 3.038e+00, 1.400e-01,\n                          2.844e+00, 2.489e+00, 3.600e-02, 1.000e-03, 3.936e+00, 3.570e+00,\n                          2.802e+00, 8.000e-03, 9.980e-01, 3.936e+00, 1.011e+00, 3.200e-02,\n                          1.000e-03, 1.130e-01, 1.000e+00, 3.844e+00, 4.646e+00, 2.496e+00,\n                          6.300e-02, 4.475e+00, 5.864e+00, 2.800e+00, 2.840e+00, 3.503e+00,\n                          3.566e+00, 6.000e-02, 4.475e+00, 2.600e-01, 9.000e-03, 2.000e-03,\n                          1.800e-02, 1.000e-03, 1.000e-03, 3.840e+00, 3.032e+00, 9.700e-01,\n                          4.470e+00, 2.000e-03, 3.000e+00, 4.000e-03, 1.773e+00, 3.030e+00,\n                          3.561e+00, 2.796e+00, 3.880e+00, 3.927e+00, 2.835e+00, 5.860e+00,\n                          4.469e+00, 1.000e-03, 2.000e-03, 1.000e-03])}],\n    'layout': {'template': '...'}\n}), Figure({\n    'data': [{'marker': {'color': 'blue'},\n              'name': 'Bids',\n              'type': 'bar',\n              'width': 0.4,\n              'x': array([28309.9, 28305.5, 28305.4, 28303.6, 28303.5, 28298.2, 28298.1, 28298. ,\n                          28297.8, 28296.8, 28296. , 28294.5, 28294.4, 28293.5, 28292.1, 28292. ,\n                          28291.2, 28291. , 28290.9, 28290.8, 28290. , 28289.9, 28289.2, 28288.7,\n                          28285.4, 28285.3, 28285.2, 28284.6, 28283.6, 28280.5, 28279.4, 28278.8,\n                          28276.3, 28274.7, 28274.5, 28274.3, 28270.3, 28270. , 28269.4, 28268.7,\n                          28267.4, 28265.2, 28263.9, 28263.4, 28262.3, 28258.8, 28258.6, 28255.8,\n                          28253.9, 28253. , 28251.9, 28251.3, 28250.1, 28250. , 28248.5, 28248.4,\n                          28246.8, 28245.8, 28244.7, 28244.6, 28241.6, 28239.4, 28238.6, 28234.6,\n                          28229.4, 28228.2, 28226.3, 28226.1, 28225.7, 28225.2, 28223. , 28220.2,\n                          28218.5, 28217. , 28216.9, 28216.8, 28216.2, 28213.2, 28211.9, 28209.6,\n                          28207.4, 28206.9, 28205.1, 28205. , 28202.9, 28202.4, 28202.2, 28202. ,\n                          28200. , 28199.9, 28199.4, 28196.7, 28196.6, 28192. , 28191. , 28190.2,\n                          28189.7, 28187. , 28185.1, 28183.9]),\n              'y': array([1.507e+00, 4.000e-01, 1.625e+00, 5.000e-03, 1.100e-02, 7.400e-02,\n                          4.000e-01, 9.630e-01, 3.100e-01, 6.000e-03, 9.410e-01, 1.500e+00,\n                          2.500e-01, 3.770e-01, 3.930e-01, 2.900e-01, 5.361e+00, 3.960e-01,\n                          3.400e-01, 6.000e-03, 3.000e-03, 1.000e-01, 3.430e-01, 1.491e+00,\n                          1.770e-01, 7.980e-01, 3.260e-01, 5.000e-03, 3.000e-01, 2.020e-01,\n                          1.491e+00, 5.000e-03, 8.000e-01, 1.000e-03, 8.460e-01, 1.732e+00,\n                          2.000e-03, 1.770e-01, 1.000e-03, 1.091e+00, 1.491e+00, 5.000e+00,\n                          6.300e-02, 9.900e-01, 2.012e+00, 3.600e-02, 2.340e-01, 1.109e+00,\n                          1.000e-03, 3.010e-01, 3.200e-02, 3.980e-01, 4.200e-02, 2.000e-03,\n                          8.830e-01, 2.981e+00, 3.020e-01, 1.400e-01, 9.770e-01, 2.567e+00,\n                          2.000e-03, 2.000e-03, 4.370e-01, 7.090e-01, 1.110e+00, 2.000e-03,\n                          1.230e-01, 2.140e-01, 1.000e-03, 2.983e+00, 7.800e-02, 5.652e+00,\n                          1.011e+00, 6.000e-03, 2.430e-01, 1.100e-02, 1.005e+00, 1.000e-03,\n                          2.000e-03, 4.473e+00, 2.200e+00, 2.000e-03, 2.920e-01, 1.420e-01,\n                          3.056e+00, 3.730e+00, 1.290e-01, 3.000e-01, 1.027e+00, 1.000e-03,\n                          2.821e+00, 9.656e+00, 2.610e-01, 1.494e+00, 3.873e+00, 1.120e-01,\n                          6.000e-02, 2.755e+00, 1.000e+00, 4.554e+00])},\n             {'marker': {'color': 'red'},\n              'name': 'Asks',\n              'type': 'bar',\n              'width': 0.4,\n              'x': array([28310. , 28314.6, 28319.8, 28320. , 28322.1, 28322.3, 28322.9, 28324.6,\n                          28325.8, 28328.1, 28328.7, 28329.8, 28332.1, 28332.5, 28333.4, 28333.5,\n                          28334.9, 28337.1, 28338. , 28339.9, 28340. , 28340.3, 28340.4, 28340.5,\n                          28341. , 28342.5, 28345.4, 28345.5, 28348.4, 28349. , 28350. , 28352.5,\n                          28355.7, 28356.5, 28357.9, 28358.2, 28360.3, 28362.9, 28364.7, 28366.2,\n                          28368.8, 28368.9, 28372.3, 28372.6, 28372.7, 28374.5, 28375. , 28375.1,\n                          28375.4, 28378.4, 28379.1, 28380.7, 28384.5, 28385.5, 28385.6, 28385.9,\n                          28386.2, 28389.1, 28395. , 28398.9, 28401.5, 28401.7, 28402.9, 28403.5,\n                          28405.4, 28408.8, 28409.1, 28410.3, 28412.3, 28413.9, 28414. , 28414.6,\n                          28415.6, 28416.2, 28417.2, 28418.8, 28422.3, 28425. , 28426.6, 28430.4,\n                          28431. , 28431.8, 28432.1, 28434.1, 28446.7, 28446.8, 28448.7, 28448.8,\n                          28451.1, 28451.5, 28451.6, 28452.8, 28453.8, 28454.2, 28454.4, 28461.5,\n                          28461.8, 28466.3, 28469.7, 28471.9]),\n              'y': array([3.354e+00, 1.230e-01, 7.400e-02, 5.600e-01, 1.000e-02, 5.890e-01,\n                          1.729e+00, 5.000e-03, 5.000e+00, 1.381e+00, 2.340e-01, 1.490e+00,\n                          6.300e-02, 9.570e-01, 1.490e+00, 1.500e+00, 1.490e+00, 5.370e-01,\n                          1.106e+00, 9.870e-01, 5.000e+00, 2.408e+00, 8.190e-01, 5.628e+00,\n                          4.800e-02, 2.296e+00, 2.500e-02, 5.500e-02, 9.890e-01, 1.786e+00,\n                          3.000e+00, 4.000e-03, 2.000e-03, 3.020e-01, 2.409e+00, 2.491e+00,\n                          2.979e+00, 4.482e+00, 4.120e-01, 2.230e-01, 5.622e+00, 2.000e-01,\n                          1.105e+00, 1.000e+00, 7.000e-03, 1.484e+00, 3.038e+00, 1.400e-01,\n                          2.844e+00, 2.489e+00, 3.600e-02, 1.000e-03, 3.936e+00, 3.570e+00,\n                          2.802e+00, 8.000e-03, 9.980e-01, 3.936e+00, 1.011e+00, 3.200e-02,\n                          1.000e-03, 1.130e-01, 1.000e+00, 3.844e+00, 4.646e+00, 2.496e+00,\n                          6.300e-02, 4.475e+00, 5.864e+00, 2.800e+00, 2.840e+00, 3.503e+00,\n                          3.566e+00, 6.000e-02, 4.475e+00, 2.600e-01, 9.000e-03, 2.000e-03,\n                          1.800e-02, 1.000e-03, 1.000e-03, 3.840e+00, 3.032e+00, 9.700e-01,\n                          4.470e+00, 2.000e-03, 3.000e+00, 4.000e-03, 1.773e+00, 3.030e+00,\n                          3.561e+00, 2.796e+00, 3.880e+00, 3.927e+00, 2.835e+00, 5.860e+00,\n                          4.469e+00, 1.000e-03, 2.000e-03, 1.000e-03])}],\n    'layout': {'template': '...'}\n})]\n\n    The 'data' property is a tuple of trace instances\n    that may be specified as:\n      - A list or tuple of trace instances\n        (e.g. [Scatter(...), Bar(...)])\n      - A single trace instance\n        (e.g. Scatter(...), Bar(...), etc.)\n      - A list or tuple of dicts of string/value properties where:\n        - The 'type' property specifies the trace type\n            One of: ['bar', 'barpolar', 'box', 'candlestick',\n                     'carpet', 'choropleth', 'choroplethmapbox',\n                     'cone', 'contour', 'contourcarpet',\n                     'densitymapbox', 'funnel', 'funnelarea',\n                     'heatmap', 'heatmapgl', 'histogram',\n                     'histogram2d', 'histogram2dcontour', 'icicle',\n                     'image', 'indicator', 'isosurface', 'mesh3d',\n                     'ohlc', 'parcats', 'parcoords', 'pie',\n                     'pointcloud', 'sankey', 'scatter',\n                     'scatter3d', 'scattercarpet', 'scattergeo',\n                     'scattergl', 'scattermapbox', 'scatterpolar',\n                     'scatterpolargl', 'scattersmith',\n                     'scatterternary', 'splom', 'streamtube',\n                     'sunburst', 'surface', 'table', 'treemap',\n                     'violin', 'volume', 'waterfall']\n\n        - All remaining properties are passed to the constructor of\n          the specified trace type\n\n        (e.g. [{'type': 'scatter', ...}, {'type': 'bar, ...}])",
     "output_type": "error",
     "traceback": [
      "\u001b[1;31m---------------------------------------------------------------------------\u001b[0m",
      "\u001b[1;31mValueError\u001b[0m                                Traceback (most recent call last)",
      "Input \u001b[1;32mIn [28]\u001b[0m, in \u001b[0;36m<cell line: 10>\u001b[1;34m()\u001b[0m\n\u001b[0;32m      6\u001b[0m     x \u001b[38;5;241m=\u001b[39m go\u001b[38;5;241m.\u001b[39mFigure(data \u001b[38;5;241m=\u001b[39m [\n\u001b[0;32m      7\u001b[0m     go\u001b[38;5;241m.\u001b[39mBar(name\u001b[38;5;241m=\u001b[39m\u001b[38;5;124m'\u001b[39m\u001b[38;5;124mBids\u001b[39m\u001b[38;5;124m'\u001b[39m, x\u001b[38;5;241m=\u001b[39mob_krak[\u001b[38;5;28mlist\u001b[39m(ob_krak\u001b[38;5;241m.\u001b[39mkeys())[time]][\u001b[38;5;124m'\u001b[39m\u001b[38;5;124mbid\u001b[39m\u001b[38;5;124m'\u001b[39m], y\u001b[38;5;241m=\u001b[39mob_krak[\u001b[38;5;28mlist\u001b[39m(ob_krak\u001b[38;5;241m.\u001b[39mkeys())[time]][\u001b[38;5;124m'\u001b[39m\u001b[38;5;124mbid_size\u001b[39m\u001b[38;5;124m'\u001b[39m], marker_color\u001b[38;5;241m=\u001b[39m\u001b[38;5;124m'\u001b[39m\u001b[38;5;124mblue\u001b[39m\u001b[38;5;124m'\u001b[39m, width \u001b[38;5;241m=\u001b[39m \u001b[38;5;241m0.4\u001b[39m),\n\u001b[0;32m      8\u001b[0m     go\u001b[38;5;241m.\u001b[39mBar(name\u001b[38;5;241m=\u001b[39m\u001b[38;5;124m'\u001b[39m\u001b[38;5;124mAsks\u001b[39m\u001b[38;5;124m'\u001b[39m, x\u001b[38;5;241m=\u001b[39mob_krak[\u001b[38;5;28mlist\u001b[39m(ob_krak\u001b[38;5;241m.\u001b[39mkeys())[time]][\u001b[38;5;124m'\u001b[39m\u001b[38;5;124mask\u001b[39m\u001b[38;5;124m'\u001b[39m], y\u001b[38;5;241m=\u001b[39mob_krak[\u001b[38;5;28mlist\u001b[39m(ob_krak\u001b[38;5;241m.\u001b[39mkeys())[time]][\u001b[38;5;124m'\u001b[39m\u001b[38;5;124mask_size\u001b[39m\u001b[38;5;124m'\u001b[39m], marker_color\u001b[38;5;241m=\u001b[39m\u001b[38;5;124m'\u001b[39m\u001b[38;5;124mred\u001b[39m\u001b[38;5;124m'\u001b[39m, width \u001b[38;5;241m=\u001b[39m \u001b[38;5;241m0.4\u001b[39m)])\n\u001b[0;32m      9\u001b[0m     l\u001b[38;5;241m.\u001b[39mappend(x)\n\u001b[1;32m---> 10\u001b[0m fig \u001b[38;5;241m=\u001b[39m \u001b[43mgo\u001b[49m\u001b[38;5;241;43m.\u001b[39;49m\u001b[43mFigureWidget\u001b[49m\u001b[43m(\u001b[49m\u001b[43mdata\u001b[49m\u001b[38;5;241;43m=\u001b[39;49m\u001b[43ml\u001b[49m\u001b[43m)\u001b[49m\n\u001b[0;32m     12\u001b[0m \u001b[38;5;66;03m# Create and add slider\u001b[39;00m\n\u001b[0;32m     13\u001b[0m steps \u001b[38;5;241m=\u001b[39m []\n",
      "File \u001b[1;32m~\\OneDrive - HP Inc\\Documents\\Iteso\\MyST\\MyST_XEMM\\env\\lib\\site-packages\\plotly\\graph_objs\\_figurewidget.py:594\u001b[0m, in \u001b[0;36mFigureWidget.__init__\u001b[1;34m(self, data, layout, frames, skip_invalid, **kwargs)\u001b[0m\n\u001b[0;32m      5\u001b[0m \u001b[38;5;28;01mdef\u001b[39;00m \u001b[38;5;21m__init__\u001b[39m(\n\u001b[0;32m      6\u001b[0m     \u001b[38;5;28mself\u001b[39m, data\u001b[38;5;241m=\u001b[39m\u001b[38;5;28;01mNone\u001b[39;00m, layout\u001b[38;5;241m=\u001b[39m\u001b[38;5;28;01mNone\u001b[39;00m, frames\u001b[38;5;241m=\u001b[39m\u001b[38;5;28;01mNone\u001b[39;00m, skip_invalid\u001b[38;5;241m=\u001b[39m\u001b[38;5;28;01mFalse\u001b[39;00m, \u001b[38;5;241m*\u001b[39m\u001b[38;5;241m*\u001b[39mkwargs\n\u001b[0;32m      7\u001b[0m ):\n\u001b[0;32m      8\u001b[0m     \u001b[38;5;124;03m\"\"\"\u001b[39;00m\n\u001b[0;32m      9\u001b[0m \u001b[38;5;124;03m    Create a new :class:FigureWidget instance\u001b[39;00m\n\u001b[0;32m     10\u001b[0m \n\u001b[1;32m   (...)\u001b[0m\n\u001b[0;32m    592\u001b[0m \u001b[38;5;124;03m        is invalid AND skip_invalid is False\u001b[39;00m\n\u001b[0;32m    593\u001b[0m \u001b[38;5;124;03m    \"\"\"\u001b[39;00m\n\u001b[1;32m--> 594\u001b[0m     \u001b[38;5;28msuper\u001b[39m(FigureWidget, \u001b[38;5;28mself\u001b[39m)\u001b[38;5;241m.\u001b[39m\u001b[38;5;21m__init__\u001b[39m(data, layout, frames, skip_invalid, \u001b[38;5;241m*\u001b[39m\u001b[38;5;241m*\u001b[39mkwargs)\n",
      "File \u001b[1;32m~\\OneDrive - HP Inc\\Documents\\Iteso\\MyST\\MyST_XEMM\\env\\lib\\site-packages\\plotly\\basewidget.py:117\u001b[0m, in \u001b[0;36mBaseFigureWidget.__init__\u001b[1;34m(self, data, layout, frames, skip_invalid, **kwargs)\u001b[0m\n\u001b[0;32m    108\u001b[0m \u001b[38;5;28;01mdef\u001b[39;00m \u001b[38;5;21m__init__\u001b[39m(\n\u001b[0;32m    109\u001b[0m     \u001b[38;5;28mself\u001b[39m, data\u001b[38;5;241m=\u001b[39m\u001b[38;5;28;01mNone\u001b[39;00m, layout\u001b[38;5;241m=\u001b[39m\u001b[38;5;28;01mNone\u001b[39;00m, frames\u001b[38;5;241m=\u001b[39m\u001b[38;5;28;01mNone\u001b[39;00m, skip_invalid\u001b[38;5;241m=\u001b[39m\u001b[38;5;28;01mFalse\u001b[39;00m, \u001b[38;5;241m*\u001b[39m\u001b[38;5;241m*\u001b[39mkwargs\n\u001b[0;32m    110\u001b[0m ):\n\u001b[1;32m   (...)\u001b[0m\n\u001b[0;32m    115\u001b[0m     \u001b[38;5;66;03m# with the `layout` constructor parameter of the `widgets.DOMWidget`\u001b[39;00m\n\u001b[0;32m    116\u001b[0m     \u001b[38;5;66;03m# ipywidgets class\u001b[39;00m\n\u001b[1;32m--> 117\u001b[0m     \u001b[38;5;28msuper\u001b[39m(BaseFigureWidget, \u001b[38;5;28mself\u001b[39m)\u001b[38;5;241m.\u001b[39m\u001b[38;5;21m__init__\u001b[39m(\n\u001b[0;32m    118\u001b[0m         data\u001b[38;5;241m=\u001b[39mdata,\n\u001b[0;32m    119\u001b[0m         layout_plotly\u001b[38;5;241m=\u001b[39mlayout,\n\u001b[0;32m    120\u001b[0m         frames\u001b[38;5;241m=\u001b[39mframes,\n\u001b[0;32m    121\u001b[0m         skip_invalid\u001b[38;5;241m=\u001b[39mskip_invalid,\n\u001b[0;32m    122\u001b[0m         \u001b[38;5;241m*\u001b[39m\u001b[38;5;241m*\u001b[39mkwargs,\n\u001b[0;32m    123\u001b[0m     )\n\u001b[0;32m    125\u001b[0m     \u001b[38;5;66;03m# Validate Frames\u001b[39;00m\n\u001b[0;32m    126\u001b[0m     \u001b[38;5;66;03m# ---------------\u001b[39;00m\n\u001b[0;32m    127\u001b[0m     \u001b[38;5;66;03m# Frames are not supported by figure widget\u001b[39;00m\n\u001b[0;32m    128\u001b[0m     \u001b[38;5;28;01mif\u001b[39;00m \u001b[38;5;28mself\u001b[39m\u001b[38;5;241m.\u001b[39m_frame_objs:\n",
      "File \u001b[1;32m~\\OneDrive - HP Inc\\Documents\\Iteso\\MyST\\MyST_XEMM\\env\\lib\\site-packages\\plotly\\basedatatypes.py:514\u001b[0m, in \u001b[0;36mBaseFigure.__init__\u001b[1;34m(self, data, layout_plotly, frames, skip_invalid, **kwargs)\u001b[0m\n\u001b[0;32m    511\u001b[0m \u001b[38;5;28mself\u001b[39m\u001b[38;5;241m.\u001b[39m_data_validator \u001b[38;5;241m=\u001b[39m DataValidator(set_uid\u001b[38;5;241m=\u001b[39m\u001b[38;5;28mself\u001b[39m\u001b[38;5;241m.\u001b[39m_set_trace_uid)\n\u001b[0;32m    513\u001b[0m \u001b[38;5;66;03m# ### Import traces ###\u001b[39;00m\n\u001b[1;32m--> 514\u001b[0m data \u001b[38;5;241m=\u001b[39m \u001b[38;5;28;43mself\u001b[39;49m\u001b[38;5;241;43m.\u001b[39;49m\u001b[43m_data_validator\u001b[49m\u001b[38;5;241;43m.\u001b[39;49m\u001b[43mvalidate_coerce\u001b[49m\u001b[43m(\u001b[49m\n\u001b[0;32m    515\u001b[0m \u001b[43m    \u001b[49m\u001b[43mdata\u001b[49m\u001b[43m,\u001b[49m\u001b[43m \u001b[49m\u001b[43mskip_invalid\u001b[49m\u001b[38;5;241;43m=\u001b[39;49m\u001b[43mskip_invalid\u001b[49m\u001b[43m,\u001b[49m\u001b[43m \u001b[49m\u001b[43m_validate\u001b[49m\u001b[38;5;241;43m=\u001b[39;49m\u001b[38;5;28;43mself\u001b[39;49m\u001b[38;5;241;43m.\u001b[39;49m\u001b[43m_validate\u001b[49m\n\u001b[0;32m    516\u001b[0m \u001b[43m\u001b[49m\u001b[43m)\u001b[49m\n\u001b[0;32m    518\u001b[0m \u001b[38;5;66;03m# ### Save tuple of trace objects ###\u001b[39;00m\n\u001b[0;32m    519\u001b[0m \u001b[38;5;28mself\u001b[39m\u001b[38;5;241m.\u001b[39m_data_objs \u001b[38;5;241m=\u001b[39m data\n",
      "File \u001b[1;32m~\\OneDrive - HP Inc\\Documents\\Iteso\\MyST\\MyST_XEMM\\env\\lib\\site-packages\\_plotly_utils\\basevalidators.py:2682\u001b[0m, in \u001b[0;36mBaseDataValidator.validate_coerce\u001b[1;34m(self, v, skip_invalid, _validate)\u001b[0m\n\u001b[0;32m   2679\u001b[0m             invalid_els\u001b[38;5;241m.\u001b[39mappend(v_el)\n\u001b[0;32m   2681\u001b[0m \u001b[38;5;28;01mif\u001b[39;00m invalid_els:\n\u001b[1;32m-> 2682\u001b[0m     \u001b[38;5;28;43mself\u001b[39;49m\u001b[38;5;241;43m.\u001b[39;49m\u001b[43mraise_invalid_elements\u001b[49m\u001b[43m(\u001b[49m\u001b[43minvalid_els\u001b[49m\u001b[43m)\u001b[49m\n\u001b[0;32m   2684\u001b[0m v \u001b[38;5;241m=\u001b[39m to_scalar_or_list(res)\n\u001b[0;32m   2686\u001b[0m \u001b[38;5;66;03m# Set new UIDs\u001b[39;00m\n",
      "File \u001b[1;32m~\\OneDrive - HP Inc\\Documents\\Iteso\\MyST\\MyST_XEMM\\env\\lib\\site-packages\\_plotly_utils\\basevalidators.py:304\u001b[0m, in \u001b[0;36mBaseValidator.raise_invalid_elements\u001b[1;34m(self, invalid_els)\u001b[0m\n\u001b[0;32m    302\u001b[0m     \u001b[38;5;28;01mdef\u001b[39;00m \u001b[38;5;21mraise_invalid_elements\u001b[39m(\u001b[38;5;28mself\u001b[39m, invalid_els):\n\u001b[0;32m    303\u001b[0m         \u001b[38;5;28;01mif\u001b[39;00m invalid_els:\n\u001b[1;32m--> 304\u001b[0m             \u001b[38;5;28;01mraise\u001b[39;00m \u001b[38;5;167;01mValueError\u001b[39;00m(\n\u001b[0;32m    305\u001b[0m                 \u001b[38;5;124;03m\"\"\"\u001b[39;00m\n\u001b[0;32m    306\u001b[0m \u001b[38;5;124;03m    Invalid element(s) received for the '{name}' property of {pname}\u001b[39;00m\n\u001b[0;32m    307\u001b[0m \u001b[38;5;124;03m        Invalid elements include: {invalid}\u001b[39;00m\n\u001b[0;32m    308\u001b[0m \n\u001b[0;32m    309\u001b[0m \u001b[38;5;124;03m{valid_clr_desc}\"\"\"\u001b[39;00m\u001b[38;5;241m.\u001b[39mformat(\n\u001b[0;32m    310\u001b[0m                     name\u001b[38;5;241m=\u001b[39m\u001b[38;5;28mself\u001b[39m\u001b[38;5;241m.\u001b[39mplotly_name,\n\u001b[0;32m    311\u001b[0m                     pname\u001b[38;5;241m=\u001b[39m\u001b[38;5;28mself\u001b[39m\u001b[38;5;241m.\u001b[39mparent_name,\n\u001b[0;32m    312\u001b[0m                     invalid\u001b[38;5;241m=\u001b[39minvalid_els[:\u001b[38;5;241m10\u001b[39m],\n\u001b[0;32m    313\u001b[0m                     valid_clr_desc\u001b[38;5;241m=\u001b[39m\u001b[38;5;28mself\u001b[39m\u001b[38;5;241m.\u001b[39mdescription(),\n\u001b[0;32m    314\u001b[0m                 )\n\u001b[0;32m    315\u001b[0m             )\n",
      "\u001b[1;31mValueError\u001b[0m: \n    Invalid element(s) received for the 'data' property of \n        Invalid elements include: [Figure({\n    'data': [{'marker': {'color': 'blue'},\n              'name': 'Bids',\n              'type': 'bar',\n              'width': 0.4,\n              'x': array([28298.3, 28293.9, 28293.5, 28292.2, 28292. , 28291.2, 28291. , 28290.9,\n                          28290.8, 28290. , 28289.2, 28288.7, 28285.3, 28285.2, 28284.6, 28283.6,\n                          28282.1, 28281.7, 28281. , 28280.7, 28280.3, 28280.2, 28279.4, 28278.8,\n                          28276.7, 28274.7, 28274.3, 28273.4, 28272.6, 28270.3, 28270. , 28269.4,\n                          28268.7, 28268.1, 28267.4, 28263.4, 28262.6, 28258.8, 28258.6, 28253.9,\n                          28253.1, 28253. , 28251.9, 28251.6, 28250.1, 28250. , 28248.5, 28248.4,\n                          28247. , 28246.8, 28244.6, 28243.5, 28241.6, 28238.6, 28234.6, 28234.3,\n                          28232.1, 28228.2, 28226.3, 28226.1, 28225.7, 28225.2, 28220.2, 28218.5,\n                          28217.5, 28217. , 28216.9, 28216.8, 28216.4, 28215.6, 28213.2, 28212.1,\n                          28211.9, 28209.6, 28207.4, 28206.9, 28205.1, 28205. , 28203.5, 28202.4,\n                          28202.2, 28202. , 28200. , 28199.9, 28199.4, 28196.7, 28192. , 28191. ,\n                          28190.5, 28190.2, 28187. , 28185.1, 28183.9, 28183.7, 28180.6, 28179.1,\n                          28178.9, 28169.6, 28168.2, 28167.8]),\n              'y': array([8.800e-01, 3.500e-01, 3.770e-01, 1.100e-02, 1.221e+00, 7.450e-01,\n                          3.960e-01, 3.400e-01, 6.000e-03, 3.000e-03, 3.430e-01, 1.491e+00,\n                          7.980e-01, 3.260e-01, 5.000e-03, 3.000e-01, 2.500e-01, 1.800e-02,\n                          9.300e-02, 1.500e+00, 1.770e-01, 3.000e-01, 1.491e+00, 5.000e-03,\n                          8.000e-01, 1.000e-03, 1.732e+00, 1.000e-01, 1.490e+00, 2.000e-03,\n                          1.770e-01, 1.000e-03, 1.091e+00, 3.500e-02, 1.491e+00, 9.900e-01,\n                          9.220e-01, 3.600e-02, 5.234e+00, 1.000e-03, 2.012e+00, 3.010e-01,\n                          3.200e-02, 6.300e-02, 4.200e-02, 2.000e-03, 1.834e+00, 8.627e+00,\n                          5.200e-02, 3.020e-01, 2.567e+00, 3.600e-02, 2.000e-03, 4.370e-01,\n                          7.090e-01, 4.180e-01, 1.410e-01, 2.000e-03, 1.230e-01, 2.140e-01,\n                          1.000e-03, 2.983e+00, 5.652e+00, 1.011e+00, 6.900e-02, 6.000e-03,\n                          2.430e-01, 1.100e-02, 1.111e+00, 2.752e+00, 1.000e-03, 7.800e-02,\n                          2.000e-03, 4.473e+00, 2.200e+00, 2.000e-03, 2.920e-01, 1.420e-01,\n                          3.200e-02, 3.730e+00, 1.290e-01, 3.000e-01, 1.027e+00, 1.000e-03,\n                          2.821e+00, 9.656e+00, 1.494e+00, 3.873e+00, 1.040e+00, 1.120e-01,\n                          2.755e+00, 1.000e+00, 4.554e+00, 6.457e+00, 1.130e-01, 3.726e+00,\n                          3.059e+00, 3.733e+00, 2.756e+00, 2.498e+00])},\n             {'marker': {'color': 'red'},\n              'name': 'Asks',\n              'type': 'bar',\n              'width': 0.4,\n              'x': array([28298.4, 28300. , 28305.4, 28305.5, 28307.3, 28308.2, 28310. , 28311.8,\n                          28314.9, 28315.2, 28315.8, 28316. , 28316.4, 28316.8, 28317. , 28317.9,\n                          28320. , 28320.9, 28321.8, 28322.1, 28322.3, 28322.7, 28325.2, 28328.1,\n                          28328.7, 28329.4, 28329.8, 28329.9, 28332.2, 28333. , 28333.4, 28334.9,\n                          28335.8, 28337.1, 28338. , 28340.3, 28340.4, 28340.5, 28341. , 28345.1,\n                          28345.4, 28345.5, 28347.6, 28348.4, 28350. , 28352.3, 28353.3, 28355.7,\n                          28356.5, 28357.9, 28358.2, 28360.3, 28362.9, 28366.2, 28366.3, 28368.8,\n                          28368.9, 28372.3, 28372.6, 28372.7, 28374.5, 28375. , 28375.1, 28375.4,\n                          28378.4, 28379.1, 28380.7, 28384.5, 28384.9, 28385.5, 28385.6, 28385.9,\n                          28389.1, 28389.5, 28390.9, 28391.6, 28400.4, 28401.5, 28401.7, 28402.9,\n                          28403.5, 28405.4, 28405.9, 28408.8, 28410.3, 28412.3, 28413.9, 28414. ,\n                          28414.6, 28415.6, 28417.2, 28422.3, 28424.7, 28425. , 28426.6, 28430.4,\n                          28431. , 28431.8, 28432.1, 28446.7]),\n              'y': array([3.352e+00, 2.000e-02, 7.400e-02, 1.230e-01, 2.040e-01, 5.000e-03,\n                          4.000e-03, 7.450e-01, 2.500e-01, 5.000e+00, 9.920e-01, 9.940e-01,\n                          3.770e-01, 9.300e-02, 1.729e+00, 1.490e+00, 5.600e-01, 3.000e-01,\n                          1.500e+00, 1.000e-02, 9.890e-01, 1.089e+00, 6.300e-02, 2.920e-01,\n                          2.340e-01, 5.000e+00, 1.490e+00, 2.700e-02, 4.800e-02, 1.000e+00,\n                          1.490e+00, 1.490e+00, 1.787e+00, 5.370e-01, 1.106e+00, 2.500e-02,\n                          8.190e-01, 5.628e+00, 4.800e-02, 4.000e-03, 1.770e-01, 5.500e-02,\n                          4.140e-01, 9.890e-01, 3.000e+00, 9.180e-01, 5.300e-02, 2.000e-03,\n                          3.020e-01, 2.409e+00, 2.491e+00, 4.005e+00, 4.482e+00, 2.230e-01,\n                          1.011e+00, 5.622e+00, 2.000e-01, 1.105e+00, 1.000e+00, 7.000e-03,\n                          1.484e+00, 3.038e+00, 1.400e-01, 2.844e+00, 2.489e+00, 3.600e-02,\n                          1.000e-03, 3.936e+00, 7.900e-02, 3.570e+00, 2.802e+00, 8.000e-03,\n                          3.936e+00, 2.620e-01, 9.970e-01, 6.000e-02, 3.200e-02, 1.000e-03,\n                          1.130e-01, 1.000e+00, 3.844e+00, 4.646e+00, 6.300e-02, 2.496e+00,\n                          4.475e+00, 5.864e+00, 2.800e+00, 2.840e+00, 3.503e+00, 3.566e+00,\n                          4.475e+00, 9.000e-03, 1.050e-01, 2.000e-03, 1.800e-02, 1.000e-03,\n                          1.000e-03, 3.840e+00, 3.032e+00, 4.470e+00])}],\n    'layout': {'template': '...'}\n}), Figure({\n    'data': [{'marker': {'color': 'blue'},\n              'name': 'Bids',\n              'type': 'bar',\n              'width': 0.4,\n              'x': array([28298.3, 28293.9, 28293.5, 28292.2, 28292. , 28291.2, 28291. , 28290.9,\n                          28290.8, 28290. , 28289.2, 28288.7, 28285.3, 28285.2, 28284.6, 28283.6,\n                          28282.1, 28281.7, 28281. , 28280.7, 28280.3, 28280.2, 28279.4, 28278.8,\n                          28276.7, 28274.7, 28274.3, 28273.4, 28272.6, 28270.3, 28270. , 28269.4,\n                          28268.7, 28268.1, 28267.4, 28263.4, 28262.6, 28258.8, 28258.6, 28253.9,\n                          28253.1, 28253. , 28251.9, 28251.6, 28250.1, 28250. , 28248.5, 28248.4,\n                          28247. , 28246.8, 28244.6, 28243.5, 28241.6, 28238.6, 28234.6, 28234.3,\n                          28232.1, 28228.2, 28226.3, 28226.1, 28225.7, 28225.2, 28220.2, 28218.5,\n                          28217.5, 28217. , 28216.9, 28216.8, 28216.4, 28215.6, 28213.2, 28212.1,\n                          28211.9, 28209.6, 28207.4, 28206.9, 28205.1, 28205. , 28203.5, 28202.4,\n                          28202.2, 28202. , 28200. , 28199.9, 28199.4, 28196.7, 28192. , 28191. ,\n                          28190.5, 28190.2, 28187. , 28185.1, 28183.9, 28183.7, 28180.6, 28179.1,\n                          28178.9, 28169.6, 28168.2, 28167.8]),\n              'y': array([8.800e-01, 3.500e-01, 3.770e-01, 1.100e-02, 1.221e+00, 7.450e-01,\n                          3.960e-01, 3.400e-01, 6.000e-03, 3.000e-03, 3.430e-01, 1.491e+00,\n                          7.980e-01, 3.260e-01, 5.000e-03, 3.000e-01, 2.500e-01, 1.800e-02,\n                          9.300e-02, 1.500e+00, 1.770e-01, 3.000e-01, 1.491e+00, 5.000e-03,\n                          8.000e-01, 1.000e-03, 1.732e+00, 1.000e-01, 1.490e+00, 2.000e-03,\n                          1.770e-01, 1.000e-03, 1.091e+00, 3.500e-02, 1.491e+00, 9.900e-01,\n                          9.220e-01, 3.600e-02, 5.234e+00, 1.000e-03, 2.012e+00, 3.010e-01,\n                          3.200e-02, 6.300e-02, 4.200e-02, 2.000e-03, 1.834e+00, 8.627e+00,\n                          5.200e-02, 3.020e-01, 2.567e+00, 3.600e-02, 2.000e-03, 4.370e-01,\n                          7.090e-01, 4.180e-01, 1.410e-01, 2.000e-03, 1.230e-01, 2.140e-01,\n                          1.000e-03, 2.983e+00, 5.652e+00, 1.011e+00, 6.900e-02, 6.000e-03,\n                          2.430e-01, 1.100e-02, 1.111e+00, 2.752e+00, 1.000e-03, 7.800e-02,\n                          2.000e-03, 4.473e+00, 2.200e+00, 2.000e-03, 2.920e-01, 1.420e-01,\n                          3.200e-02, 3.730e+00, 1.290e-01, 3.000e-01, 1.027e+00, 1.000e-03,\n                          2.821e+00, 9.656e+00, 1.494e+00, 3.873e+00, 1.040e+00, 1.120e-01,\n                          2.755e+00, 1.000e+00, 4.554e+00, 6.457e+00, 1.130e-01, 3.726e+00,\n                          3.059e+00, 3.733e+00, 2.756e+00, 2.498e+00])},\n             {'marker': {'color': 'red'},\n              'name': 'Asks',\n              'type': 'bar',\n              'width': 0.4,\n              'x': array([28298.4, 28300. , 28305.4, 28305.5, 28307.3, 28308.2, 28310. , 28311.8,\n                          28314.9, 28315.2, 28315.8, 28316. , 28316.4, 28316.8, 28317. , 28317.9,\n                          28320. , 28320.9, 28321.8, 28322.1, 28322.3, 28322.7, 28325.2, 28328.1,\n                          28328.7, 28329.4, 28329.8, 28329.9, 28332.2, 28333. , 28333.4, 28334.9,\n                          28335.8, 28337.1, 28338. , 28340.3, 28340.4, 28340.5, 28341. , 28345.1,\n                          28345.4, 28345.5, 28347.6, 28348.4, 28350. , 28352.3, 28353.3, 28355.7,\n                          28356.5, 28357.9, 28358.2, 28360.3, 28362.9, 28366.2, 28366.3, 28368.8,\n                          28368.9, 28372.3, 28372.6, 28372.7, 28374.5, 28375. , 28375.1, 28375.4,\n                          28378.4, 28379.1, 28380.7, 28384.5, 28384.9, 28385.5, 28385.6, 28385.9,\n                          28389.1, 28389.5, 28390.9, 28391.6, 28400.4, 28401.5, 28401.7, 28402.9,\n                          28403.5, 28405.4, 28405.9, 28408.8, 28410.3, 28412.3, 28413.9, 28414. ,\n                          28414.6, 28415.6, 28417.2, 28422.3, 28424.7, 28425. , 28426.6, 28430.4,\n                          28431. , 28431.8, 28432.1, 28446.7]),\n              'y': array([3.352e+00, 2.000e-02, 7.400e-02, 1.230e-01, 2.040e-01, 5.000e-03,\n                          4.000e-03, 7.450e-01, 2.500e-01, 5.000e+00, 9.920e-01, 9.940e-01,\n                          3.770e-01, 9.300e-02, 1.729e+00, 1.490e+00, 5.600e-01, 3.000e-01,\n                          1.500e+00, 1.000e-02, 9.890e-01, 1.089e+00, 6.300e-02, 2.920e-01,\n                          2.340e-01, 5.000e+00, 1.490e+00, 2.700e-02, 4.800e-02, 1.000e+00,\n                          1.490e+00, 1.490e+00, 1.787e+00, 5.370e-01, 1.106e+00, 2.500e-02,\n                          8.190e-01, 5.628e+00, 4.800e-02, 4.000e-03, 1.770e-01, 5.500e-02,\n                          4.140e-01, 9.890e-01, 3.000e+00, 9.180e-01, 5.300e-02, 2.000e-03,\n                          3.020e-01, 2.409e+00, 2.491e+00, 4.005e+00, 4.482e+00, 2.230e-01,\n                          1.011e+00, 5.622e+00, 2.000e-01, 1.105e+00, 1.000e+00, 7.000e-03,\n                          1.484e+00, 3.038e+00, 1.400e-01, 2.844e+00, 2.489e+00, 3.600e-02,\n                          1.000e-03, 3.936e+00, 7.900e-02, 3.570e+00, 2.802e+00, 8.000e-03,\n                          3.936e+00, 2.620e-01, 9.970e-01, 6.000e-02, 3.200e-02, 1.000e-03,\n                          1.130e-01, 1.000e+00, 3.844e+00, 4.646e+00, 6.300e-02, 2.496e+00,\n                          4.475e+00, 5.864e+00, 2.800e+00, 2.840e+00, 3.503e+00, 3.566e+00,\n                          4.475e+00, 9.000e-03, 1.050e-01, 2.000e-03, 1.800e-02, 1.000e-03,\n                          1.000e-03, 3.840e+00, 3.032e+00, 4.470e+00])}],\n    'layout': {'template': '...'}\n}), Figure({\n    'data': [{'marker': {'color': 'blue'},\n              'name': 'Bids',\n              'type': 'bar',\n              'width': 0.4,\n              'x': array([28309.9, 28305.5, 28305.4, 28303.6, 28303.5, 28298.2, 28298.1, 28298. ,\n                          28297.8, 28296.8, 28296. , 28294.5, 28294.4, 28293.5, 28292.1, 28292. ,\n                          28291.2, 28291. , 28290.9, 28290.8, 28290. , 28289.9, 28289.2, 28288.7,\n                          28285.4, 28285.3, 28285.2, 28284.6, 28283.6, 28280.5, 28279.4, 28278.8,\n                          28276.3, 28274.7, 28274.5, 28274.3, 28270.3, 28270. , 28269.4, 28268.7,\n                          28267.4, 28265.2, 28263.9, 28263.4, 28262.3, 28258.8, 28258.6, 28255.8,\n                          28253.9, 28253. , 28251.9, 28251.3, 28250.1, 28250. , 28248.5, 28248.4,\n                          28246.8, 28245.8, 28244.7, 28244.6, 28241.6, 28239.4, 28238.6, 28234.6,\n                          28229.4, 28228.2, 28226.3, 28226.1, 28225.7, 28225.2, 28223. , 28220.2,\n                          28218.5, 28217. , 28216.9, 28216.8, 28216.2, 28213.2, 28211.9, 28209.6,\n                          28207.4, 28206.9, 28205.1, 28205. , 28202.9, 28202.4, 28202.2, 28202. ,\n                          28200. , 28199.9, 28199.4, 28196.7, 28196.6, 28192. , 28191. , 28190.2,\n                          28189.7, 28187. , 28185.1, 28183.9]),\n              'y': array([1.507e+00, 4.000e-01, 1.625e+00, 5.000e-03, 1.100e-02, 7.400e-02,\n                          4.000e-01, 9.630e-01, 3.100e-01, 6.000e-03, 9.410e-01, 1.500e+00,\n                          2.500e-01, 3.770e-01, 3.930e-01, 2.900e-01, 5.361e+00, 3.960e-01,\n                          3.400e-01, 6.000e-03, 3.000e-03, 1.000e-01, 3.430e-01, 1.491e+00,\n                          1.770e-01, 7.980e-01, 3.260e-01, 5.000e-03, 3.000e-01, 2.020e-01,\n                          1.491e+00, 5.000e-03, 8.000e-01, 1.000e-03, 8.460e-01, 1.732e+00,\n                          2.000e-03, 1.770e-01, 1.000e-03, 1.091e+00, 1.491e+00, 5.000e+00,\n                          6.300e-02, 9.900e-01, 2.012e+00, 3.600e-02, 2.340e-01, 1.109e+00,\n                          1.000e-03, 3.010e-01, 3.200e-02, 3.980e-01, 4.200e-02, 2.000e-03,\n                          8.830e-01, 2.981e+00, 3.020e-01, 1.400e-01, 9.770e-01, 2.567e+00,\n                          2.000e-03, 2.000e-03, 4.370e-01, 7.090e-01, 1.110e+00, 2.000e-03,\n                          1.230e-01, 2.140e-01, 1.000e-03, 2.983e+00, 7.800e-02, 5.652e+00,\n                          1.011e+00, 6.000e-03, 2.430e-01, 1.100e-02, 1.005e+00, 1.000e-03,\n                          2.000e-03, 4.473e+00, 2.200e+00, 2.000e-03, 2.920e-01, 1.420e-01,\n                          3.056e+00, 3.730e+00, 1.290e-01, 3.000e-01, 1.027e+00, 1.000e-03,\n                          2.821e+00, 9.656e+00, 2.610e-01, 1.494e+00, 3.873e+00, 1.120e-01,\n                          6.000e-02, 2.755e+00, 1.000e+00, 4.554e+00])},\n             {'marker': {'color': 'red'},\n              'name': 'Asks',\n              'type': 'bar',\n              'width': 0.4,\n              'x': array([28310. , 28314.6, 28319.8, 28320. , 28322.1, 28322.3, 28322.9, 28324.6,\n                          28325.8, 28328.1, 28328.7, 28329.8, 28332.1, 28332.5, 28333.4, 28333.5,\n                          28334.9, 28337.1, 28338. , 28339.9, 28340. , 28340.3, 28340.4, 28340.5,\n                          28341. , 28342.5, 28345.4, 28345.5, 28348.4, 28349. , 28350. , 28352.5,\n                          28355.7, 28356.5, 28357.9, 28358.2, 28360.3, 28362.9, 28364.7, 28366.2,\n                          28368.8, 28368.9, 28372.3, 28372.6, 28372.7, 28374.5, 28375. , 28375.1,\n                          28375.4, 28378.4, 28379.1, 28380.7, 28384.5, 28385.5, 28385.6, 28385.9,\n                          28386.2, 28389.1, 28395. , 28398.9, 28401.5, 28401.7, 28402.9, 28403.5,\n                          28405.4, 28408.8, 28409.1, 28410.3, 28412.3, 28413.9, 28414. , 28414.6,\n                          28415.6, 28416.2, 28417.2, 28418.8, 28422.3, 28425. , 28426.6, 28430.4,\n                          28431. , 28431.8, 28432.1, 28434.1, 28446.7, 28446.8, 28448.7, 28448.8,\n                          28451.1, 28451.5, 28451.6, 28452.8, 28453.8, 28454.2, 28454.4, 28461.5,\n                          28461.8, 28466.3, 28469.7, 28471.9]),\n              'y': array([3.354e+00, 1.230e-01, 7.400e-02, 5.600e-01, 1.000e-02, 5.890e-01,\n                          1.729e+00, 5.000e-03, 5.000e+00, 1.381e+00, 2.340e-01, 1.490e+00,\n                          6.300e-02, 9.570e-01, 1.490e+00, 1.500e+00, 1.490e+00, 5.370e-01,\n                          1.106e+00, 9.870e-01, 5.000e+00, 2.408e+00, 8.190e-01, 5.628e+00,\n                          4.800e-02, 2.296e+00, 2.500e-02, 5.500e-02, 9.890e-01, 1.786e+00,\n                          3.000e+00, 4.000e-03, 2.000e-03, 3.020e-01, 2.409e+00, 2.491e+00,\n                          2.979e+00, 4.482e+00, 4.120e-01, 2.230e-01, 5.622e+00, 2.000e-01,\n                          1.105e+00, 1.000e+00, 7.000e-03, 1.484e+00, 3.038e+00, 1.400e-01,\n                          2.844e+00, 2.489e+00, 3.600e-02, 1.000e-03, 3.936e+00, 3.570e+00,\n                          2.802e+00, 8.000e-03, 9.980e-01, 3.936e+00, 1.011e+00, 3.200e-02,\n                          1.000e-03, 1.130e-01, 1.000e+00, 3.844e+00, 4.646e+00, 2.496e+00,\n                          6.300e-02, 4.475e+00, 5.864e+00, 2.800e+00, 2.840e+00, 3.503e+00,\n                          3.566e+00, 6.000e-02, 4.475e+00, 2.600e-01, 9.000e-03, 2.000e-03,\n                          1.800e-02, 1.000e-03, 1.000e-03, 3.840e+00, 3.032e+00, 9.700e-01,\n                          4.470e+00, 2.000e-03, 3.000e+00, 4.000e-03, 1.773e+00, 3.030e+00,\n                          3.561e+00, 2.796e+00, 3.880e+00, 3.927e+00, 2.835e+00, 5.860e+00,\n                          4.469e+00, 1.000e-03, 2.000e-03, 1.000e-03])}],\n    'layout': {'template': '...'}\n}), Figure({\n    'data': [{'marker': {'color': 'blue'},\n              'name': 'Bids',\n              'type': 'bar',\n              'width': 0.4,\n              'x': array([28309.9, 28305.5, 28305.4, 28303.6, 28303.5, 28298.2, 28298.1, 28298. ,\n                          28297.8, 28296.8, 28296. , 28294.5, 28294.4, 28293.5, 28292.1, 28292. ,\n                          28291.2, 28291. , 28290.9, 28290.8, 28290. , 28289.9, 28289.2, 28288.7,\n                          28285.4, 28285.3, 28285.2, 28284.6, 28283.6, 28280.5, 28279.4, 28278.8,\n                          28276.3, 28274.7, 28274.5, 28274.3, 28270.3, 28270. , 28269.4, 28268.7,\n                          28267.4, 28265.2, 28263.9, 28263.4, 28262.3, 28258.8, 28258.6, 28255.8,\n                          28253.9, 28253. , 28251.9, 28251.3, 28250.1, 28250. , 28248.5, 28248.4,\n                          28246.8, 28245.8, 28244.7, 28244.6, 28241.6, 28239.4, 28238.6, 28234.6,\n                          28229.4, 28228.2, 28226.3, 28226.1, 28225.7, 28225.2, 28223. , 28220.2,\n                          28218.5, 28217. , 28216.9, 28216.8, 28216.2, 28213.2, 28211.9, 28209.6,\n                          28207.4, 28206.9, 28205.1, 28205. , 28202.9, 28202.4, 28202.2, 28202. ,\n                          28200. , 28199.9, 28199.4, 28196.7, 28196.6, 28192. , 28191. , 28190.2,\n                          28189.7, 28187. , 28185.1, 28183.9]),\n              'y': array([1.507e+00, 4.000e-01, 1.625e+00, 5.000e-03, 1.100e-02, 7.400e-02,\n                          4.000e-01, 9.630e-01, 3.100e-01, 6.000e-03, 9.410e-01, 1.500e+00,\n                          2.500e-01, 3.770e-01, 3.930e-01, 2.900e-01, 5.361e+00, 3.960e-01,\n                          3.400e-01, 6.000e-03, 3.000e-03, 1.000e-01, 3.430e-01, 1.491e+00,\n                          1.770e-01, 7.980e-01, 3.260e-01, 5.000e-03, 3.000e-01, 2.020e-01,\n                          1.491e+00, 5.000e-03, 8.000e-01, 1.000e-03, 8.460e-01, 1.732e+00,\n                          2.000e-03, 1.770e-01, 1.000e-03, 1.091e+00, 1.491e+00, 5.000e+00,\n                          6.300e-02, 9.900e-01, 2.012e+00, 3.600e-02, 2.340e-01, 1.109e+00,\n                          1.000e-03, 3.010e-01, 3.200e-02, 3.980e-01, 4.200e-02, 2.000e-03,\n                          8.830e-01, 2.981e+00, 3.020e-01, 1.400e-01, 9.770e-01, 2.567e+00,\n                          2.000e-03, 2.000e-03, 4.370e-01, 7.090e-01, 1.110e+00, 2.000e-03,\n                          1.230e-01, 2.140e-01, 1.000e-03, 2.983e+00, 7.800e-02, 5.652e+00,\n                          1.011e+00, 6.000e-03, 2.430e-01, 1.100e-02, 1.005e+00, 1.000e-03,\n                          2.000e-03, 4.473e+00, 2.200e+00, 2.000e-03, 2.920e-01, 1.420e-01,\n                          3.056e+00, 3.730e+00, 1.290e-01, 3.000e-01, 1.027e+00, 1.000e-03,\n                          2.821e+00, 9.656e+00, 2.610e-01, 1.494e+00, 3.873e+00, 1.120e-01,\n                          6.000e-02, 2.755e+00, 1.000e+00, 4.554e+00])},\n             {'marker': {'color': 'red'},\n              'name': 'Asks',\n              'type': 'bar',\n              'width': 0.4,\n              'x': array([28310. , 28314.6, 28319.8, 28320. , 28322.1, 28322.3, 28322.9, 28324.6,\n                          28325.8, 28328.1, 28328.7, 28329.8, 28332.1, 28332.5, 28333.4, 28333.5,\n                          28334.9, 28337.1, 28338. , 28339.9, 28340. , 28340.3, 28340.4, 28340.5,\n                          28341. , 28342.5, 28345.4, 28345.5, 28348.4, 28349. , 28350. , 28352.5,\n                          28355.7, 28356.5, 28357.9, 28358.2, 28360.3, 28362.9, 28364.7, 28366.2,\n                          28368.8, 28368.9, 28372.3, 28372.6, 28372.7, 28374.5, 28375. , 28375.1,\n                          28375.4, 28378.4, 28379.1, 28380.7, 28384.5, 28385.5, 28385.6, 28385.9,\n                          28386.2, 28389.1, 28395. , 28398.9, 28401.5, 28401.7, 28402.9, 28403.5,\n                          28405.4, 28408.8, 28409.1, 28410.3, 28412.3, 28413.9, 28414. , 28414.6,\n                          28415.6, 28416.2, 28417.2, 28418.8, 28422.3, 28425. , 28426.6, 28430.4,\n                          28431. , 28431.8, 28432.1, 28434.1, 28446.7, 28446.8, 28448.7, 28448.8,\n                          28451.1, 28451.5, 28451.6, 28452.8, 28453.8, 28454.2, 28454.4, 28461.5,\n                          28461.8, 28466.3, 28469.7, 28471.9]),\n              'y': array([3.354e+00, 1.230e-01, 7.400e-02, 5.600e-01, 1.000e-02, 5.890e-01,\n                          1.729e+00, 5.000e-03, 5.000e+00, 1.381e+00, 2.340e-01, 1.490e+00,\n                          6.300e-02, 9.570e-01, 1.490e+00, 1.500e+00, 1.490e+00, 5.370e-01,\n                          1.106e+00, 9.870e-01, 5.000e+00, 2.408e+00, 8.190e-01, 5.628e+00,\n                          4.800e-02, 2.296e+00, 2.500e-02, 5.500e-02, 9.890e-01, 1.786e+00,\n                          3.000e+00, 4.000e-03, 2.000e-03, 3.020e-01, 2.409e+00, 2.491e+00,\n                          2.979e+00, 4.482e+00, 4.120e-01, 2.230e-01, 5.622e+00, 2.000e-01,\n                          1.105e+00, 1.000e+00, 7.000e-03, 1.484e+00, 3.038e+00, 1.400e-01,\n                          2.844e+00, 2.489e+00, 3.600e-02, 1.000e-03, 3.936e+00, 3.570e+00,\n                          2.802e+00, 8.000e-03, 9.980e-01, 3.936e+00, 1.011e+00, 3.200e-02,\n                          1.000e-03, 1.130e-01, 1.000e+00, 3.844e+00, 4.646e+00, 2.496e+00,\n                          6.300e-02, 4.475e+00, 5.864e+00, 2.800e+00, 2.840e+00, 3.503e+00,\n                          3.566e+00, 6.000e-02, 4.475e+00, 2.600e-01, 9.000e-03, 2.000e-03,\n                          1.800e-02, 1.000e-03, 1.000e-03, 3.840e+00, 3.032e+00, 9.700e-01,\n                          4.470e+00, 2.000e-03, 3.000e+00, 4.000e-03, 1.773e+00, 3.030e+00,\n                          3.561e+00, 2.796e+00, 3.880e+00, 3.927e+00, 2.835e+00, 5.860e+00,\n                          4.469e+00, 1.000e-03, 2.000e-03, 1.000e-03])}],\n    'layout': {'template': '...'}\n})]\n\n    The 'data' property is a tuple of trace instances\n    that may be specified as:\n      - A list or tuple of trace instances\n        (e.g. [Scatter(...), Bar(...)])\n      - A single trace instance\n        (e.g. Scatter(...), Bar(...), etc.)\n      - A list or tuple of dicts of string/value properties where:\n        - The 'type' property specifies the trace type\n            One of: ['bar', 'barpolar', 'box', 'candlestick',\n                     'carpet', 'choropleth', 'choroplethmapbox',\n                     'cone', 'contour', 'contourcarpet',\n                     'densitymapbox', 'funnel', 'funnelarea',\n                     'heatmap', 'heatmapgl', 'histogram',\n                     'histogram2d', 'histogram2dcontour', 'icicle',\n                     'image', 'indicator', 'isosurface', 'mesh3d',\n                     'ohlc', 'parcats', 'parcoords', 'pie',\n                     'pointcloud', 'sankey', 'scatter',\n                     'scatter3d', 'scattercarpet', 'scattergeo',\n                     'scattergl', 'scattermapbox', 'scatterpolar',\n                     'scatterpolargl', 'scattersmith',\n                     'scatterternary', 'splom', 'streamtube',\n                     'sunburst', 'surface', 'table', 'treemap',\n                     'violin', 'volume', 'waterfall']\n\n        - All remaining properties are passed to the constructor of\n          the specified trace type\n\n        (e.g. [{'type': 'scatter', ...}, {'type': 'bar, ...}])"
     ]
    }
   ],
   "source": [
    "# Create figure\n",
    "fig = go.Figure()\n",
    "l = []\n",
    "# Add traces, one for each slider step\n",
    "for time in range(0, len(list(ob_krak.keys())[0:4])):\n",
    "    x = go.Figure(data = [\n",
    "    go.Bar(name='Bids', x=ob_krak[list(ob_krak.keys())[time]]['bid'], y=ob_krak[list(ob_krak.keys())[time]]['bid_size'], marker_color='blue', width = 0.4),\n",
    "    go.Bar(name='Asks', x=ob_krak[list(ob_krak.keys())[time]]['ask'], y=ob_krak[list(ob_krak.keys())[time]]['ask_size'], marker_color='red', width = 0.4)])\n",
    "    l.append(x)\n",
    "fig = go.FigureWidget(data=l)\n",
    "    \n",
    "# Create and add slider\n",
    "steps = []\n",
    "for i in range(len(fig.data)):\n",
    "    step = dict(\n",
    "        method=\"update\",\n",
    "        args=[{\"visible\": [False] * len(fig.data)},\n",
    "              {\"title\": \"Slider switched to step: \" + str(i)}],  # layout attribute\n",
    "    )\n",
    "    step[\"args\"][0][\"visible\"][i] = True  # Toggle i'th trace to \"visible\"\n",
    "    steps.append(step)\n",
    "\n",
    "sliders = [dict(\n",
    "    currentvalue={\"prefix\": \"Frequency: \"},\n",
    "    pad={\"t\": len(list(ob_krak.keys())[0:3])},\n",
    "    steps=steps\n",
    ")]\n",
    "\n",
    "fig.update_layout(\n",
    "    sliders=sliders\n",
    ")\n",
    "\n",
    "fig.show()"
   ]
  },
  {
   "cell_type": "code",
   "execution_count": 27,
   "id": "f3bc0898",
   "metadata": {},
   "outputs": [
    {
     "data": {
      "application/vnd.jupyter.widget-view+json": {
       "model_id": "b71940017277415096c7e9bb14f35d9e",
       "version_major": 2,
       "version_minor": 0
      },
      "text/plain": [
       "FigureWidget({\n",
       "    'data': [{'marker': {'color': 'blue'},\n",
       "              'name': 'Bids',\n",
       "              'type': …"
      ]
     },
     "metadata": {},
     "output_type": "display_data"
    }
   ],
   "source": [
    "x = go.Figure(data = [\n",
    "    go.Bar(name='Bids', x=ob_krak[list(ob_krak.keys())[0]]['bid'], y=ob_krak[list(ob_krak.keys())[0]]['bid_size'], marker_color='blue', width = 0.4),\n",
    "    go.Bar(name='Asks', x=ob_krak[list(ob_krak.keys())[0]]['ask'], y=ob_krak[list(ob_krak.keys())[0]]['ask_size'], marker_color='red', width = 0.4)])\n",
    "go.FigureWidget(data=x)"
   ]
  },
  {
   "cell_type": "code",
   "execution_count": 44,
   "id": "b95e1a58",
   "metadata": {},
   "outputs": [
    {
     "data": {
      "text/html": [
       "        <script type=\"text/javascript\">\n",
       "        window.PlotlyConfig = {MathJaxConfig: 'local'};\n",
       "        if (window.MathJax && window.MathJax.Hub && window.MathJax.Hub.Config) {window.MathJax.Hub.Config({SVG: {font: \"STIX-Web\"}});}\n",
       "        if (typeof require !== 'undefined') {\n",
       "        require.undef(\"plotly\");\n",
       "        requirejs.config({\n",
       "            paths: {\n",
       "                'plotly': ['https://cdn.plot.ly/plotly-2.12.1.min']\n",
       "            }\n",
       "        });\n",
       "        require(['plotly'], function(Plotly) {\n",
       "            window._Plotly = Plotly;\n",
       "        });\n",
       "        }\n",
       "        </script>\n",
       "        "
      ]
     },
     "metadata": {},
     "output_type": "display_data"
    },
    {
     "data": {
      "text/html": [
       "        <script type=\"text/javascript\">\n",
       "        window.PlotlyConfig = {MathJaxConfig: 'local'};\n",
       "        if (window.MathJax && window.MathJax.Hub && window.MathJax.Hub.Config) {window.MathJax.Hub.Config({SVG: {font: \"STIX-Web\"}});}\n",
       "        if (typeof require !== 'undefined') {\n",
       "        require.undef(\"plotly\");\n",
       "        requirejs.config({\n",
       "            paths: {\n",
       "                'plotly': ['https://cdn.plot.ly/plotly-2.12.1.min']\n",
       "            }\n",
       "        });\n",
       "        require(['plotly'], function(Plotly) {\n",
       "            window._Plotly = Plotly;\n",
       "        });\n",
       "        }\n",
       "        </script>\n",
       "        "
      ]
     },
     "metadata": {},
     "output_type": "display_data"
    }
   ],
   "source": [
    "import plotly.offline as pyo\n",
    "import plotly.graph_objs as go\n",
    "from plotly.tools import FigureFactory as FF\n",
    "\n",
    "from plotly.offline import download_plotlyjs, init_notebook_mode, plot, iplot \n",
    "init_notebook_mode(connected=True)\n",
    "\n",
    "init_notebook_mode(connected=True)"
   ]
  },
  {
   "cell_type": "code",
   "execution_count": null,
   "id": "91b95e53",
   "metadata": {},
   "outputs": [],
   "source": [
    "traces = []\n",
    "q = np.linspace(0,1,100)\n",
    "for i in range(0,len(q)):\n",
    "    trace = dict(\n",
    "                type = 'bar',\n",
    "                visible = False,\n",
    "                x=[1, 2],\n",
    "                y=[q[i], 1 - q[i]],\n",
    "                marker=dict(color='#ffbf00'),\n",
    "                width=0.5\n",
    "             )\n",
    "    traces.append(trace)\n",
    "\n",
    "traces[0]['visible'] = 'True'"
   ]
  },
  {
   "cell_type": "code",
   "execution_count": null,
   "id": "82bb6a12",
   "metadata": {},
   "outputs": [],
   "source": [
    "len(list(ob_krak.keys())[0:100])"
   ]
  },
  {
   "cell_type": "code",
   "execution_count": 46,
   "id": "d0e084ed",
   "metadata": {},
   "outputs": [
    {
     "data": {
      "text/plain": [
       "['2021-07-05T13:06:49.495Z',\n",
       " '2021-07-05T13:06:52.415Z',\n",
       " '2021-07-05T13:06:55.500Z',\n",
       " '2021-07-05T13:06:58.414Z',\n",
       " '2021-07-05T13:07:01.503Z',\n",
       " '2021-07-05T13:07:04.412Z',\n",
       " '2021-07-05T13:07:07.506Z',\n",
       " '2021-07-05T13:07:10.414Z',\n",
       " '2021-07-05T13:07:13.517Z',\n",
       " '2021-07-05T13:07:16.415Z',\n",
       " '2021-07-05T13:07:19.500Z',\n",
       " '2021-07-05T13:07:22.420Z',\n",
       " '2021-07-05T13:07:25.504Z',\n",
       " '2021-07-05T13:07:28.422Z',\n",
       " '2021-07-05T13:07:31.499Z',\n",
       " '2021-07-05T13:07:34.421Z',\n",
       " '2021-07-05T13:07:37.505Z',\n",
       " '2021-07-05T13:07:40.419Z',\n",
       " '2021-07-05T13:07:43.495Z',\n",
       " '2021-07-05T13:07:46.496Z',\n",
       " '2021-07-05T13:07:49.423Z',\n",
       " '2021-07-05T13:07:52.534Z',\n",
       " '2021-07-05T13:07:55.418Z',\n",
       " '2021-07-05T13:07:58.497Z',\n",
       " '2021-07-05T13:08:01.525Z',\n",
       " '2021-07-05T13:08:04.417Z',\n",
       " '2021-07-05T13:08:07.499Z',\n",
       " '2021-07-05T13:08:10.420Z',\n",
       " '2021-07-05T13:08:13.495Z',\n",
       " '2021-07-05T13:08:16.417Z',\n",
       " '2021-07-05T13:08:19.500Z',\n",
       " '2021-07-05T13:08:22.414Z',\n",
       " '2021-07-05T13:08:25.495Z',\n",
       " '2021-07-05T13:08:28.414Z',\n",
       " '2021-07-05T13:08:31.497Z',\n",
       " '2021-07-05T13:08:34.420Z',\n",
       " '2021-07-05T13:08:37.500Z',\n",
       " '2021-07-05T13:08:40.443Z',\n",
       " '2021-07-05T13:08:43.498Z',\n",
       " '2021-07-05T13:08:46.496Z',\n",
       " '2021-07-05T13:08:49.419Z',\n",
       " '2021-07-05T13:08:52.736Z',\n",
       " '2021-07-05T13:08:55.414Z',\n",
       " '2021-07-05T13:08:58.514Z',\n",
       " '2021-07-05T13:09:01.504Z',\n",
       " '2021-07-05T13:09:04.498Z',\n",
       " '2021-07-05T13:09:07.503Z',\n",
       " '2021-07-05T13:09:10.415Z',\n",
       " '2021-07-05T13:09:13.494Z',\n",
       " '2021-07-05T13:09:16.421Z',\n",
       " '2021-07-05T13:09:19.501Z',\n",
       " '2021-07-05T13:09:22.415Z',\n",
       " '2021-07-05T13:09:25.503Z',\n",
       " '2021-07-05T13:09:28.417Z',\n",
       " '2021-07-05T13:09:31.496Z',\n",
       " '2021-07-05T13:09:34.415Z',\n",
       " '2021-07-05T13:09:37.496Z',\n",
       " '2021-07-05T13:09:40.417Z',\n",
       " '2021-07-05T13:09:43.497Z',\n",
       " '2021-07-05T13:09:46.413Z',\n",
       " '2021-07-05T13:09:49.741Z',\n",
       " '2021-07-05T13:09:52.423Z',\n",
       " '2021-07-05T13:09:55.502Z',\n",
       " '2021-07-05T13:09:58.422Z',\n",
       " '2021-07-05T13:10:01.503Z',\n",
       " '2021-07-05T13:10:04.416Z',\n",
       " '2021-07-05T13:10:07.655Z',\n",
       " '2021-07-05T13:10:10.423Z',\n",
       " '2021-07-05T13:10:13.502Z',\n",
       " '2021-07-05T13:10:16.414Z',\n",
       " '2021-07-05T13:10:19.497Z',\n",
       " '2021-07-05T13:10:22.415Z',\n",
       " '2021-07-05T13:10:25.499Z',\n",
       " '2021-07-05T13:10:28.413Z',\n",
       " '2021-07-05T13:10:31.499Z',\n",
       " '2021-07-05T13:10:34.503Z',\n",
       " '2021-07-05T13:10:37.497Z',\n",
       " '2021-07-05T13:10:40.501Z',\n",
       " '2021-07-05T13:10:43.418Z',\n",
       " '2021-07-05T13:10:46.527Z',\n",
       " '2021-07-05T13:10:49.412Z',\n",
       " '2021-07-05T13:10:52.498Z',\n",
       " '2021-07-05T13:10:55.419Z',\n",
       " '2021-07-05T13:10:58.500Z',\n",
       " '2021-07-05T13:11:01.412Z',\n",
       " '2021-07-05T13:11:04.495Z',\n",
       " '2021-07-05T13:11:07.413Z',\n",
       " '2021-07-05T13:11:10.653Z',\n",
       " '2021-07-05T13:11:13.418Z',\n",
       " '2021-07-05T13:11:16.498Z',\n",
       " '2021-07-05T13:11:19.421Z',\n",
       " '2021-07-05T13:11:22.495Z',\n",
       " '2021-07-05T13:11:25.415Z',\n",
       " '2021-07-05T13:11:28.497Z',\n",
       " '2021-07-05T13:11:31.504Z',\n",
       " '2021-07-05T13:11:34.418Z',\n",
       " '2021-07-05T13:11:37.497Z',\n",
       " '2021-07-05T13:11:40.501Z',\n",
       " '2021-07-05T13:11:43.414Z',\n",
       " '2021-07-05T13:11:46.598Z',\n",
       " '2021-07-05T13:11:49.414Z',\n",
       " '2021-07-05T13:11:52.579Z',\n",
       " '2021-07-05T13:11:55.426Z',\n",
       " '2021-07-05T13:11:58.496Z',\n",
       " '2021-07-05T13:12:01.509Z',\n",
       " '2021-07-05T13:12:04.413Z',\n",
       " '2021-07-05T13:12:07.498Z',\n",
       " '2021-07-05T13:12:10.415Z',\n",
       " '2021-07-05T13:12:13.645Z',\n",
       " '2021-07-05T13:12:16.417Z',\n",
       " '2021-07-05T13:12:19.509Z',\n",
       " '2021-07-05T13:12:22.424Z',\n",
       " '2021-07-05T13:12:25.741Z',\n",
       " '2021-07-05T13:12:28.414Z',\n",
       " '2021-07-05T13:12:31.506Z',\n",
       " '2021-07-05T13:12:34.420Z',\n",
       " '2021-07-05T13:12:37.494Z',\n",
       " '2021-07-05T13:12:40.421Z',\n",
       " '2021-07-05T13:12:43.503Z',\n",
       " '2021-07-05T13:12:46.416Z',\n",
       " '2021-07-05T13:12:49.496Z',\n",
       " '2021-07-05T13:12:52.414Z',\n",
       " '2021-07-05T13:12:55.501Z',\n",
       " '2021-07-05T13:12:58.421Z',\n",
       " '2021-07-05T13:13:01.502Z',\n",
       " '2021-07-05T13:13:04.497Z',\n",
       " '2021-07-05T13:13:07.422Z',\n",
       " '2021-07-05T13:13:10.502Z',\n",
       " '2021-07-05T13:13:13.499Z',\n",
       " '2021-07-05T13:13:16.423Z',\n",
       " '2021-07-05T13:13:19.660Z',\n",
       " '2021-07-05T13:13:22.421Z',\n",
       " '2021-07-05T13:13:25.498Z',\n",
       " '2021-07-05T13:13:28.422Z',\n",
       " '2021-07-05T13:13:31.494Z',\n",
       " '2021-07-05T13:13:34.423Z',\n",
       " '2021-07-05T13:13:37.506Z',\n",
       " '2021-07-05T13:13:40.495Z',\n",
       " '2021-07-05T13:13:43.412Z',\n",
       " '2021-07-05T13:13:46.499Z',\n",
       " '2021-07-05T13:13:49.497Z',\n",
       " '2021-07-05T13:13:52.414Z',\n",
       " '2021-07-05T13:13:55.497Z',\n",
       " '2021-07-05T13:13:58.413Z',\n",
       " '2021-07-05T13:14:01.501Z',\n",
       " '2021-07-05T13:14:04.501Z',\n",
       " '2021-07-05T13:14:07.417Z',\n",
       " '2021-07-05T13:14:10.504Z',\n",
       " '2021-07-05T13:14:13.496Z',\n",
       " '2021-07-05T13:14:16.414Z',\n",
       " '2021-07-05T13:14:19.504Z',\n",
       " '2021-07-05T13:14:22.414Z',\n",
       " '2021-07-05T13:14:25.511Z',\n",
       " '2021-07-05T13:14:28.413Z',\n",
       " '2021-07-05T13:14:31.499Z',\n",
       " '2021-07-05T13:14:34.505Z',\n",
       " '2021-07-05T13:14:37.416Z',\n",
       " '2021-07-05T13:14:40.497Z',\n",
       " '2021-07-05T13:14:43.422Z',\n",
       " '2021-07-05T13:14:46.497Z',\n",
       " '2021-07-05T13:14:49.421Z',\n",
       " '2021-07-05T13:14:52.500Z',\n",
       " '2021-07-05T13:14:55.413Z',\n",
       " '2021-07-05T13:14:58.501Z',\n",
       " '2021-07-05T13:15:01.508Z',\n",
       " '2021-07-05T13:15:04.416Z',\n",
       " '2021-07-05T13:15:07.501Z',\n",
       " '2021-07-05T13:15:10.427Z',\n",
       " '2021-07-05T13:15:13.499Z',\n",
       " '2021-07-05T13:15:16.504Z',\n",
       " '2021-07-05T13:15:19.414Z',\n",
       " '2021-07-05T13:15:22.617Z',\n",
       " '2021-07-05T13:15:25.412Z',\n",
       " '2021-07-05T13:15:28.494Z',\n",
       " '2021-07-05T13:15:31.426Z',\n",
       " '2021-07-05T13:15:34.529Z',\n",
       " '2021-07-05T13:15:37.419Z',\n",
       " '2021-07-05T13:15:40.501Z',\n",
       " '2021-07-05T13:15:43.415Z',\n",
       " '2021-07-05T13:15:46.497Z',\n",
       " '2021-07-05T13:15:49.423Z',\n",
       " '2021-07-05T13:15:52.504Z',\n",
       " '2021-07-05T13:15:55.417Z',\n",
       " '2021-07-05T13:15:58.501Z',\n",
       " '2021-07-05T13:16:01.505Z',\n",
       " '2021-07-05T13:16:04.416Z',\n",
       " '2021-07-05T13:16:07.504Z',\n",
       " '2021-07-05T13:16:10.417Z',\n",
       " '2021-07-05T13:16:13.502Z',\n",
       " '2021-07-05T13:16:16.417Z',\n",
       " '2021-07-05T13:16:19.500Z',\n",
       " '2021-07-05T13:16:22.494Z',\n",
       " '2021-07-05T13:16:25.413Z',\n",
       " '2021-07-05T13:16:28.644Z',\n",
       " '2021-07-05T13:16:31.421Z',\n",
       " '2021-07-05T13:16:34.501Z',\n",
       " '2021-07-05T13:16:37.413Z',\n",
       " '2021-07-05T13:16:40.498Z',\n",
       " '2021-07-05T13:16:43.414Z',\n",
       " '2021-07-05T13:16:46.510Z',\n",
       " '2021-07-05T13:16:49.418Z',\n",
       " '2021-07-05T13:16:52.497Z',\n",
       " '2021-07-05T13:16:55.420Z',\n",
       " '2021-07-05T13:16:58.504Z',\n",
       " '2021-07-05T13:17:01.510Z',\n",
       " '2021-07-05T13:17:04.412Z',\n",
       " '2021-07-05T13:17:07.510Z',\n",
       " '2021-07-05T13:17:10.413Z',\n",
       " '2021-07-05T13:17:13.495Z',\n",
       " '2021-07-05T13:17:16.496Z',\n",
       " '2021-07-05T13:17:19.425Z',\n",
       " '2021-07-05T13:17:22.497Z',\n",
       " '2021-07-05T13:17:25.497Z',\n",
       " '2021-07-05T13:17:28.412Z',\n",
       " '2021-07-05T13:17:31.647Z',\n",
       " '2021-07-05T13:17:34.423Z',\n",
       " '2021-07-05T13:17:37.506Z',\n",
       " '2021-07-05T13:17:40.415Z',\n",
       " '2021-07-05T13:17:43.499Z',\n",
       " '2021-07-05T13:17:46.497Z',\n",
       " '2021-07-05T13:17:49.414Z',\n",
       " '2021-07-05T13:17:52.506Z',\n",
       " '2021-07-05T13:17:55.420Z',\n",
       " '2021-07-05T13:17:58.494Z',\n",
       " '2021-07-05T13:18:01.423Z',\n",
       " '2021-07-05T13:18:04.510Z',\n",
       " '2021-07-05T13:18:07.415Z',\n",
       " '2021-07-05T13:18:10.747Z',\n",
       " '2021-07-05T13:18:13.414Z',\n",
       " '2021-07-05T13:18:16.496Z',\n",
       " '2021-07-05T13:18:19.502Z',\n",
       " '2021-07-05T13:18:22.435Z',\n",
       " '2021-07-05T13:18:25.498Z',\n",
       " '2021-07-05T13:18:28.412Z',\n",
       " '2021-07-05T13:18:31.498Z',\n",
       " '2021-07-05T13:18:34.529Z',\n",
       " '2021-07-05T13:18:37.498Z',\n",
       " '2021-07-05T13:18:40.425Z',\n",
       " '2021-07-05T13:18:43.514Z',\n",
       " '2021-07-05T13:18:46.430Z',\n",
       " '2021-07-05T13:18:49.499Z',\n",
       " '2021-07-05T13:18:52.416Z',\n",
       " '2021-07-05T13:18:55.504Z',\n",
       " '2021-07-05T13:18:58.423Z',\n",
       " '2021-07-05T13:19:01.510Z',\n",
       " '2021-07-05T13:19:04.424Z',\n",
       " '2021-07-05T13:19:07.500Z',\n",
       " '2021-07-05T13:19:10.499Z',\n",
       " '2021-07-05T13:19:13.499Z',\n",
       " '2021-07-05T13:19:16.416Z',\n",
       " '2021-07-05T13:19:19.499Z',\n",
       " '2021-07-05T13:19:22.424Z',\n",
       " '2021-07-05T13:19:25.506Z',\n",
       " '2021-07-05T13:19:28.424Z',\n",
       " '2021-07-05T13:19:31.502Z',\n",
       " '2021-07-05T13:19:34.418Z',\n",
       " '2021-07-05T13:19:37.497Z',\n",
       " '2021-07-05T13:19:40.421Z',\n",
       " '2021-07-05T13:19:43.510Z',\n",
       " '2021-07-05T13:19:46.501Z',\n",
       " '2021-07-05T13:19:49.498Z',\n",
       " '2021-07-05T13:19:52.416Z',\n",
       " '2021-07-05T13:19:55.509Z',\n",
       " '2021-07-05T13:19:58.413Z',\n",
       " '2021-07-05T13:20:01.502Z',\n",
       " '2021-07-05T13:20:04.420Z',\n",
       " '2021-07-05T13:20:07.502Z',\n",
       " '2021-07-05T13:20:10.416Z',\n",
       " '2021-07-05T13:20:13.505Z',\n",
       " '2021-07-05T13:20:16.414Z',\n",
       " '2021-07-05T13:20:19.506Z',\n",
       " '2021-07-05T13:20:22.496Z',\n",
       " '2021-07-05T13:20:25.417Z',\n",
       " '2021-07-05T13:20:28.502Z',\n",
       " '2021-07-05T13:20:31.504Z',\n",
       " '2021-07-05T13:20:34.417Z',\n",
       " '2021-07-05T13:20:37.504Z',\n",
       " '2021-07-05T13:20:40.422Z',\n",
       " '2021-07-05T13:20:43.508Z',\n",
       " '2021-07-05T13:20:46.415Z',\n",
       " '2021-07-05T13:20:49.496Z',\n",
       " '2021-07-05T13:20:52.417Z',\n",
       " '2021-07-05T13:20:55.497Z',\n",
       " '2021-07-05T13:20:58.416Z',\n",
       " '2021-07-05T13:21:01.501Z',\n",
       " '2021-07-05T13:21:04.415Z',\n",
       " '2021-07-05T13:21:07.498Z',\n",
       " '2021-07-05T13:21:10.424Z',\n",
       " '2021-07-05T13:21:13.503Z',\n",
       " '2021-07-05T13:21:16.499Z',\n",
       " '2021-07-05T13:21:19.499Z',\n",
       " '2021-07-05T13:21:22.414Z',\n",
       " '2021-07-05T13:21:25.515Z',\n",
       " '2021-07-05T13:21:28.424Z',\n",
       " '2021-07-05T13:21:31.496Z',\n",
       " '2021-07-05T13:21:34.500Z',\n",
       " '2021-07-05T13:21:37.513Z',\n",
       " '2021-07-05T13:21:40.419Z',\n",
       " '2021-07-05T13:21:43.502Z',\n",
       " '2021-07-05T13:21:46.416Z',\n",
       " '2021-07-05T13:21:49.506Z',\n",
       " '2021-07-05T13:21:52.431Z',\n",
       " '2021-07-05T13:21:55.493Z',\n",
       " '2021-07-05T13:21:58.414Z',\n",
       " '2021-07-05T13:22:01.506Z',\n",
       " '2021-07-05T13:22:04.416Z',\n",
       " '2021-07-05T13:22:07.499Z',\n",
       " '2021-07-05T13:22:10.413Z',\n",
       " '2021-07-05T13:22:13.510Z',\n",
       " '2021-07-05T13:22:16.505Z',\n",
       " '2021-07-05T13:22:19.417Z',\n",
       " '2021-07-05T13:22:22.504Z',\n",
       " '2021-07-05T13:22:25.509Z',\n",
       " '2021-07-05T13:22:28.660Z',\n",
       " '2021-07-05T13:22:31.417Z',\n",
       " '2021-07-05T13:22:34.497Z',\n",
       " '2021-07-05T13:22:37.415Z',\n",
       " '2021-07-05T13:22:40.495Z',\n",
       " '2021-07-05T13:22:43.504Z',\n",
       " '2021-07-05T13:22:46.417Z',\n",
       " '2021-07-05T13:22:49.501Z',\n",
       " '2021-07-05T13:22:52.419Z',\n",
       " '2021-07-05T13:22:55.514Z',\n",
       " '2021-07-05T13:22:58.428Z',\n",
       " '2021-07-05T13:23:01.500Z',\n",
       " '2021-07-05T13:23:04.419Z',\n",
       " '2021-07-05T13:23:07.509Z',\n",
       " '2021-07-05T13:23:10.497Z',\n",
       " '2021-07-05T13:23:13.417Z',\n",
       " '2021-07-05T13:23:16.498Z',\n",
       " '2021-07-05T13:23:19.425Z',\n",
       " '2021-07-05T13:23:22.498Z',\n",
       " '2021-07-05T13:23:25.500Z',\n",
       " '2021-07-05T13:23:28.415Z',\n",
       " '2021-07-05T13:23:31.506Z',\n",
       " '2021-07-05T13:23:34.414Z',\n",
       " '2021-07-05T13:23:37.497Z',\n",
       " '2021-07-05T13:23:40.414Z',\n",
       " '2021-07-05T13:23:43.498Z',\n",
       " '2021-07-05T13:23:46.419Z',\n",
       " '2021-07-05T13:23:49.496Z',\n",
       " '2021-07-05T13:23:52.417Z',\n",
       " '2021-07-05T13:23:55.499Z',\n",
       " '2021-07-05T13:23:58.416Z',\n",
       " '2021-07-05T13:24:01.500Z',\n",
       " '2021-07-05T13:24:04.415Z',\n",
       " '2021-07-05T13:24:07.505Z',\n",
       " '2021-07-05T13:24:10.427Z',\n",
       " '2021-07-05T13:24:13.501Z',\n",
       " '2021-07-05T13:24:16.426Z',\n",
       " '2021-07-05T13:24:19.503Z',\n",
       " '2021-07-05T13:24:22.412Z',\n",
       " '2021-07-05T13:24:25.507Z',\n",
       " '2021-07-05T13:24:28.419Z',\n",
       " '2021-07-05T13:24:31.661Z',\n",
       " '2021-07-05T13:24:34.500Z',\n",
       " '2021-07-05T13:24:37.415Z',\n",
       " '2021-07-05T13:24:40.498Z',\n",
       " '2021-07-05T13:24:43.415Z',\n",
       " '2021-07-05T13:24:46.515Z',\n",
       " '2021-07-05T13:24:49.419Z',\n",
       " '2021-07-05T13:24:52.498Z',\n",
       " '2021-07-05T13:24:55.419Z',\n",
       " '2021-07-05T13:24:58.504Z',\n",
       " '2021-07-05T13:25:01.501Z',\n",
       " '2021-07-05T13:25:04.503Z',\n",
       " '2021-07-05T13:25:07.414Z',\n",
       " '2021-07-05T13:25:10.499Z',\n",
       " '2021-07-05T13:25:13.418Z',\n",
       " '2021-07-05T13:25:16.511Z',\n",
       " '2021-07-05T13:25:19.417Z',\n",
       " '2021-07-05T13:25:22.495Z',\n",
       " '2021-07-05T13:25:25.451Z',\n",
       " '2021-07-05T13:25:28.498Z',\n",
       " '2021-07-05T13:25:31.419Z',\n",
       " '2021-07-05T13:25:34.515Z',\n",
       " '2021-07-05T13:25:37.498Z',\n",
       " '2021-07-05T13:25:40.496Z',\n",
       " '2021-07-05T13:25:43.415Z',\n",
       " '2021-07-05T13:25:46.496Z',\n",
       " '2021-07-05T13:25:49.435Z',\n",
       " '2021-07-05T13:25:52.495Z',\n",
       " '2021-07-05T13:25:55.416Z',\n",
       " '2021-07-05T13:25:58.503Z',\n",
       " '2021-07-05T13:26:01.419Z',\n",
       " '2021-07-05T13:26:04.512Z',\n",
       " '2021-07-05T13:26:07.418Z',\n",
       " '2021-07-05T13:26:10.504Z',\n",
       " '2021-07-05T13:26:13.498Z',\n",
       " '2021-07-05T13:26:16.502Z',\n",
       " '2021-07-05T13:26:19.415Z',\n",
       " '2021-07-05T13:26:22.533Z',\n",
       " '2021-07-05T13:26:25.503Z',\n",
       " '2021-07-05T13:26:28.435Z',\n",
       " '2021-07-05T13:26:31.498Z',\n",
       " '2021-07-05T13:26:34.418Z',\n",
       " '2021-07-05T13:26:37.666Z',\n",
       " '2021-07-05T13:26:40.502Z',\n",
       " '2021-07-05T13:26:43.498Z',\n",
       " '2021-07-05T13:26:46.424Z',\n",
       " '2021-07-05T13:26:49.507Z',\n",
       " '2021-07-05T13:26:52.497Z',\n",
       " '2021-07-05T13:26:55.502Z',\n",
       " '2021-07-05T13:26:58.422Z',\n",
       " '2021-07-05T13:27:01.500Z',\n",
       " '2021-07-05T13:27:04.415Z',\n",
       " '2021-07-05T13:27:07.505Z',\n",
       " '2021-07-05T13:27:10.510Z',\n",
       " '2021-07-05T13:27:13.504Z',\n",
       " '2021-07-05T13:27:16.417Z',\n",
       " '2021-07-05T13:27:19.495Z',\n",
       " '2021-07-05T13:27:22.420Z',\n",
       " '2021-07-05T13:27:25.503Z',\n",
       " '2021-07-05T13:27:28.422Z',\n",
       " '2021-07-05T13:27:31.507Z',\n",
       " '2021-07-05T13:27:34.417Z',\n",
       " '2021-07-05T13:27:37.545Z',\n",
       " '2021-07-05T13:27:40.418Z',\n",
       " '2021-07-05T13:27:43.597Z',\n",
       " '2021-07-05T13:27:46.414Z',\n",
       " '2021-07-05T13:27:49.499Z',\n",
       " '2021-07-05T13:27:52.418Z',\n",
       " '2021-07-05T13:27:55.510Z',\n",
       " '2021-07-05T13:27:58.500Z',\n",
       " '2021-07-05T13:28:01.418Z',\n",
       " '2021-07-05T13:28:04.501Z',\n",
       " '2021-07-05T13:28:07.414Z',\n",
       " '2021-07-05T13:28:10.496Z',\n",
       " '2021-07-05T13:28:13.418Z',\n",
       " '2021-07-05T13:28:16.506Z',\n",
       " '2021-07-05T13:28:19.423Z',\n",
       " '2021-07-05T13:28:22.496Z',\n",
       " '2021-07-05T13:28:25.433Z',\n",
       " '2021-07-05T13:28:28.498Z',\n",
       " '2021-07-05T13:28:31.419Z',\n",
       " '2021-07-05T13:28:34.503Z',\n",
       " '2021-07-05T13:28:37.433Z',\n",
       " '2021-07-05T13:28:40.502Z',\n",
       " '2021-07-05T13:28:43.505Z',\n",
       " '2021-07-05T13:28:46.425Z',\n",
       " '2021-07-05T13:28:49.695Z',\n",
       " '2021-07-05T13:28:52.498Z',\n",
       " '2021-07-05T13:28:55.420Z',\n",
       " '2021-07-05T13:28:58.500Z',\n",
       " '2021-07-05T13:29:01.503Z',\n",
       " '2021-07-05T13:29:04.495Z',\n",
       " '2021-07-05T13:29:07.509Z',\n",
       " '2021-07-05T13:29:10.500Z',\n",
       " '2021-07-05T13:29:13.495Z',\n",
       " '2021-07-05T13:29:16.427Z',\n",
       " '2021-07-05T13:29:19.500Z',\n",
       " '2021-07-05T13:29:22.418Z',\n",
       " '2021-07-05T13:29:25.504Z',\n",
       " '2021-07-05T13:29:28.502Z',\n",
       " '2021-07-05T13:29:31.413Z',\n",
       " '2021-07-05T13:29:34.504Z',\n",
       " '2021-07-05T13:29:37.417Z',\n",
       " '2021-07-05T13:29:40.498Z',\n",
       " '2021-07-05T13:29:43.422Z',\n",
       " '2021-07-05T13:29:46.500Z',\n",
       " '2021-07-05T13:29:49.494Z',\n",
       " '2021-07-05T13:29:52.417Z',\n",
       " '2021-07-05T13:29:55.673Z',\n",
       " '2021-07-05T13:29:58.420Z',\n",
       " '2021-07-05T13:30:01.516Z',\n",
       " '2021-07-05T13:30:04.536Z',\n",
       " '2021-07-05T13:30:07.499Z',\n",
       " '2021-07-05T13:30:10.416Z',\n",
       " '2021-07-05T13:30:13.500Z',\n",
       " '2021-07-05T13:30:16.421Z',\n",
       " '2021-07-05T13:30:19.508Z',\n",
       " '2021-07-05T13:30:22.414Z',\n",
       " '2021-07-05T13:30:25.501Z',\n",
       " '2021-07-05T13:30:28.444Z',\n",
       " '2021-07-05T13:30:31.511Z',\n",
       " '2021-07-05T13:30:34.428Z',\n",
       " '2021-07-05T13:30:37.506Z',\n",
       " '2021-07-05T13:30:40.414Z',\n",
       " '2021-07-05T13:30:43.497Z',\n",
       " '2021-07-05T13:30:46.415Z',\n",
       " '2021-07-05T13:30:49.494Z',\n",
       " '2021-07-05T13:30:52.414Z',\n",
       " '2021-07-05T13:30:55.503Z',\n",
       " '2021-07-05T13:30:58.424Z',\n",
       " '2021-07-05T13:31:01.630Z',\n",
       " '2021-07-05T13:31:04.432Z',\n",
       " '2021-07-05T13:31:07.499Z',\n",
       " '2021-07-05T13:31:10.412Z',\n",
       " '2021-07-05T13:31:13.496Z',\n",
       " '2021-07-05T13:31:16.498Z',\n",
       " '2021-07-05T13:31:19.415Z',\n",
       " '2021-07-05T13:31:22.499Z',\n",
       " '2021-07-05T13:31:25.417Z',\n",
       " '2021-07-05T13:31:28.494Z',\n",
       " '2021-07-05T13:31:31.502Z',\n",
       " '2021-07-05T13:31:34.501Z',\n",
       " '2021-07-05T13:31:37.506Z',\n",
       " '2021-07-05T13:31:40.414Z',\n",
       " '2021-07-05T13:31:43.510Z',\n",
       " '2021-07-05T13:31:46.414Z',\n",
       " '2021-07-05T13:31:49.495Z',\n",
       " '2021-07-05T13:31:52.497Z',\n",
       " '2021-07-05T13:31:55.432Z',\n",
       " '2021-07-05T13:31:58.510Z',\n",
       " '2021-07-05T13:32:01.422Z',\n",
       " '2021-07-05T13:32:04.627Z',\n",
       " '2021-07-05T13:32:07.414Z',\n",
       " '2021-07-05T13:32:10.501Z',\n",
       " '2021-07-05T13:32:13.417Z',\n",
       " '2021-07-05T13:32:16.497Z',\n",
       " '2021-07-05T13:32:19.418Z',\n",
       " '2021-07-05T13:32:22.742Z',\n",
       " '2021-07-05T13:32:25.419Z',\n",
       " '2021-07-05T13:32:28.503Z',\n",
       " '2021-07-05T13:32:31.417Z',\n",
       " '2021-07-05T13:32:34.512Z',\n",
       " '2021-07-05T13:32:37.514Z',\n",
       " '2021-07-05T13:32:40.415Z',\n",
       " '2021-07-05T13:32:43.502Z',\n",
       " '2021-07-05T13:32:46.426Z',\n",
       " '2021-07-05T13:32:49.495Z',\n",
       " '2021-07-05T13:32:52.413Z',\n",
       " '2021-07-05T13:32:55.500Z',\n",
       " '2021-07-05T13:32:58.420Z',\n",
       " '2021-07-05T13:33:01.519Z',\n",
       " '2021-07-05T13:33:04.414Z',\n",
       " '2021-07-05T13:33:07.623Z',\n",
       " '2021-07-05T13:33:10.496Z',\n",
       " '2021-07-05T13:33:13.418Z',\n",
       " '2021-07-05T13:33:16.499Z',\n",
       " '2021-07-05T13:33:19.412Z',\n",
       " '2021-07-05T13:33:22.494Z',\n",
       " '2021-07-05T13:33:25.419Z',\n",
       " '2021-07-05T13:33:28.500Z',\n",
       " '2021-07-05T13:33:31.420Z',\n",
       " '2021-07-05T13:33:34.498Z',\n",
       " '2021-07-05T13:33:37.414Z',\n",
       " '2021-07-05T13:33:40.513Z',\n",
       " '2021-07-05T13:33:43.423Z',\n",
       " '2021-07-05T13:33:46.502Z',\n",
       " '2021-07-05T13:33:49.415Z',\n",
       " '2021-07-05T13:33:52.504Z',\n",
       " '2021-07-05T13:33:55.499Z',\n",
       " '2021-07-05T13:33:58.413Z',\n",
       " '2021-07-05T13:34:01.504Z',\n",
       " '2021-07-05T13:34:04.415Z',\n",
       " '2021-07-05T13:34:07.519Z',\n",
       " '2021-07-05T13:34:10.683Z',\n",
       " '2021-07-05T13:34:13.424Z',\n",
       " '2021-07-05T13:34:16.501Z',\n",
       " '2021-07-05T13:34:19.504Z',\n",
       " '2021-07-05T13:34:22.414Z',\n",
       " '2021-07-05T13:34:25.498Z',\n",
       " '2021-07-05T13:34:28.422Z',\n",
       " '2021-07-05T13:34:31.496Z',\n",
       " '2021-07-05T13:34:34.424Z',\n",
       " '2021-07-05T13:34:37.505Z',\n",
       " '2021-07-05T13:34:40.415Z',\n",
       " '2021-07-05T13:34:43.503Z',\n",
       " '2021-07-05T13:34:46.420Z',\n",
       " '2021-07-05T13:34:49.500Z',\n",
       " '2021-07-05T13:34:52.496Z',\n",
       " '2021-07-05T13:34:55.526Z',\n",
       " '2021-07-05T13:34:58.416Z',\n",
       " '2021-07-05T13:35:01.502Z',\n",
       " '2021-07-05T13:35:04.427Z',\n",
       " '2021-07-05T13:35:07.504Z',\n",
       " '2021-07-05T13:35:10.415Z',\n",
       " '2021-07-05T13:35:13.677Z',\n",
       " '2021-07-05T13:35:16.499Z',\n",
       " '2021-07-05T13:35:19.415Z',\n",
       " '2021-07-05T13:35:22.499Z',\n",
       " '2021-07-05T13:35:25.419Z',\n",
       " '2021-07-05T13:35:28.499Z',\n",
       " '2021-07-05T13:35:31.426Z',\n",
       " '2021-07-05T13:35:34.498Z',\n",
       " '2021-07-05T13:35:37.439Z',\n",
       " '2021-07-05T13:35:40.502Z',\n",
       " '2021-07-05T13:35:43.414Z',\n",
       " '2021-07-05T13:35:46.530Z',\n",
       " '2021-07-05T13:35:49.429Z',\n",
       " '2021-07-05T13:35:52.505Z',\n",
       " '2021-07-05T13:35:55.415Z',\n",
       " '2021-07-05T13:35:58.522Z',\n",
       " '2021-07-05T13:36:01.427Z',\n",
       " '2021-07-05T13:36:04.510Z',\n",
       " '2021-07-05T13:36:07.424Z',\n",
       " '2021-07-05T13:36:10.503Z',\n",
       " '2021-07-05T13:36:13.424Z',\n",
       " '2021-07-05T13:36:16.711Z',\n",
       " '2021-07-05T13:36:19.497Z',\n",
       " '2021-07-05T13:36:22.416Z',\n",
       " '2021-07-05T13:36:25.501Z',\n",
       " '2021-07-05T13:36:28.416Z',\n",
       " '2021-07-05T13:36:31.499Z',\n",
       " '2021-07-05T13:36:34.422Z',\n",
       " '2021-07-05T13:36:37.500Z',\n",
       " '2021-07-05T13:36:40.423Z',\n",
       " '2021-07-05T13:36:43.499Z',\n",
       " '2021-07-05T13:36:46.416Z',\n",
       " '2021-07-05T13:36:49.515Z',\n",
       " '2021-07-05T13:36:52.418Z',\n",
       " '2021-07-05T13:36:55.519Z',\n",
       " '2021-07-05T13:36:58.414Z',\n",
       " '2021-07-05T13:37:01.499Z',\n",
       " '2021-07-05T13:37:04.499Z',\n",
       " '2021-07-05T13:37:07.503Z',\n",
       " '2021-07-05T13:37:10.415Z',\n",
       " '2021-07-05T13:37:13.502Z',\n",
       " '2021-07-05T13:37:16.416Z',\n",
       " '2021-07-05T13:37:19.665Z',\n",
       " '2021-07-05T13:37:22.415Z',\n",
       " '2021-07-05T13:37:25.496Z',\n",
       " '2021-07-05T13:37:28.417Z',\n",
       " '2021-07-05T13:37:31.498Z',\n",
       " '2021-07-05T13:37:34.416Z',\n",
       " '2021-07-05T13:37:37.512Z',\n",
       " '2021-07-05T13:37:40.421Z',\n",
       " '2021-07-05T13:37:43.510Z',\n",
       " '2021-07-05T13:37:46.415Z',\n",
       " '2021-07-05T13:37:49.502Z',\n",
       " '2021-07-05T13:37:52.417Z',\n",
       " '2021-07-05T13:37:55.504Z',\n",
       " '2021-07-05T13:37:58.415Z',\n",
       " '2021-07-05T13:38:01.504Z',\n",
       " '2021-07-05T13:38:04.413Z',\n",
       " '2021-07-05T13:38:07.496Z',\n",
       " '2021-07-05T13:38:10.413Z',\n",
       " '2021-07-05T13:38:13.500Z',\n",
       " '2021-07-05T13:38:16.414Z',\n",
       " '2021-07-05T13:38:19.508Z',\n",
       " '2021-07-05T13:38:22.417Z',\n",
       " '2021-07-05T13:38:25.503Z',\n",
       " '2021-07-05T13:38:28.415Z',\n",
       " '2021-07-05T13:38:31.500Z',\n",
       " '2021-07-05T13:38:34.421Z',\n",
       " '2021-07-05T13:38:37.497Z',\n",
       " '2021-07-05T13:38:40.413Z',\n",
       " '2021-07-05T13:38:43.502Z',\n",
       " '2021-07-05T13:38:46.415Z',\n",
       " '2021-07-05T13:38:49.505Z',\n",
       " '2021-07-05T13:38:52.414Z',\n",
       " '2021-07-05T13:38:55.518Z',\n",
       " '2021-07-05T13:38:58.416Z',\n",
       " '2021-07-05T13:39:01.501Z',\n",
       " '2021-07-05T13:39:04.446Z',\n",
       " '2021-07-05T13:39:07.498Z',\n",
       " '2021-07-05T13:39:10.414Z',\n",
       " '2021-07-05T13:39:13.496Z',\n",
       " '2021-07-05T13:39:16.417Z',\n",
       " '2021-07-05T13:39:19.498Z',\n",
       " '2021-07-05T13:39:22.415Z',\n",
       " '2021-07-05T13:39:25.658Z',\n",
       " '2021-07-05T13:39:28.501Z',\n",
       " '2021-07-05T13:39:31.496Z',\n",
       " '2021-07-05T13:39:34.498Z',\n",
       " '2021-07-05T13:39:37.498Z',\n",
       " '2021-07-05T13:39:40.501Z',\n",
       " '2021-07-05T13:39:43.497Z',\n",
       " '2021-07-05T13:39:46.424Z',\n",
       " '2021-07-05T13:39:49.502Z',\n",
       " '2021-07-05T13:39:52.421Z',\n",
       " '2021-07-05T13:39:55.501Z',\n",
       " '2021-07-05T13:39:58.431Z',\n",
       " '2021-07-05T13:40:01.507Z',\n",
       " '2021-07-05T13:40:04.416Z',\n",
       " '2021-07-05T13:40:07.501Z',\n",
       " '2021-07-05T13:40:10.435Z',\n",
       " '2021-07-05T13:40:13.499Z',\n",
       " '2021-07-05T13:40:16.421Z',\n",
       " '2021-07-05T13:40:19.513Z',\n",
       " '2021-07-05T13:40:22.418Z',\n",
       " '2021-07-05T13:40:25.497Z',\n",
       " '2021-07-05T13:40:28.420Z',\n",
       " '2021-07-05T13:40:31.654Z',\n",
       " '2021-07-05T13:40:34.415Z',\n",
       " '2021-07-05T13:40:37.496Z',\n",
       " '2021-07-05T13:40:40.416Z',\n",
       " '2021-07-05T13:40:43.502Z',\n",
       " '2021-07-05T13:40:46.416Z',\n",
       " '2021-07-05T13:40:49.508Z',\n",
       " '2021-07-05T13:40:52.417Z',\n",
       " '2021-07-05T13:40:55.495Z',\n",
       " '2021-07-05T13:40:58.415Z',\n",
       " '2021-07-05T13:41:01.497Z',\n",
       " '2021-07-05T13:41:04.502Z',\n",
       " '2021-07-05T13:41:07.415Z',\n",
       " '2021-07-05T13:41:10.513Z',\n",
       " '2021-07-05T13:41:13.417Z',\n",
       " '2021-07-05T13:41:16.511Z',\n",
       " '2021-07-05T13:41:19.417Z',\n",
       " '2021-07-05T13:41:22.504Z',\n",
       " '2021-07-05T13:41:25.416Z',\n",
       " '2021-07-05T13:41:28.518Z',\n",
       " '2021-07-05T13:41:31.416Z',\n",
       " '2021-07-05T13:41:34.643Z',\n",
       " '2021-07-05T13:41:37.414Z',\n",
       " '2021-07-05T13:41:40.497Z',\n",
       " '2021-07-05T13:41:43.423Z',\n",
       " '2021-07-05T13:41:46.496Z',\n",
       " '2021-07-05T13:41:49.421Z',\n",
       " '2021-07-05T13:41:52.537Z',\n",
       " '2021-07-05T13:41:55.501Z',\n",
       " '2021-07-05T13:41:58.418Z',\n",
       " '2021-07-05T13:42:01.495Z',\n",
       " '2021-07-05T13:42:04.498Z',\n",
       " '2021-07-05T13:42:07.506Z',\n",
       " '2021-07-05T13:42:10.500Z',\n",
       " '2021-07-05T13:42:13.423Z',\n",
       " '2021-07-05T13:42:16.509Z',\n",
       " '2021-07-05T13:42:19.413Z',\n",
       " '2021-07-05T13:42:22.501Z',\n",
       " '2021-07-05T13:42:25.423Z',\n",
       " '2021-07-05T13:42:28.502Z',\n",
       " '2021-07-05T13:42:31.417Z',\n",
       " '2021-07-05T13:42:34.500Z',\n",
       " '2021-07-05T13:42:37.415Z',\n",
       " '2021-07-05T13:42:40.512Z',\n",
       " '2021-07-05T13:42:43.498Z',\n",
       " '2021-07-05T13:42:46.418Z',\n",
       " '2021-07-05T13:42:49.500Z',\n",
       " '2021-07-05T13:42:52.413Z',\n",
       " '2021-07-05T13:42:55.502Z',\n",
       " '2021-07-05T13:42:58.414Z',\n",
       " '2021-07-05T13:43:01.497Z',\n",
       " '2021-07-05T13:43:04.497Z',\n",
       " '2021-07-05T13:43:07.418Z',\n",
       " '2021-07-05T13:43:10.509Z',\n",
       " '2021-07-05T13:43:13.421Z',\n",
       " '2021-07-05T13:43:16.505Z',\n",
       " '2021-07-05T13:43:19.412Z',\n",
       " '2021-07-05T13:43:22.499Z',\n",
       " '2021-07-05T13:43:25.412Z',\n",
       " '2021-07-05T13:43:28.498Z',\n",
       " '2021-07-05T13:43:31.498Z',\n",
       " '2021-07-05T13:43:34.500Z',\n",
       " '2021-07-05T13:43:37.415Z',\n",
       " '2021-07-05T13:43:40.624Z',\n",
       " '2021-07-05T13:43:43.422Z',\n",
       " '2021-07-05T13:43:46.498Z',\n",
       " '2021-07-05T13:43:49.421Z',\n",
       " '2021-07-05T13:43:52.501Z',\n",
       " '2021-07-05T13:43:55.420Z',\n",
       " '2021-07-05T13:43:58.499Z',\n",
       " '2021-07-05T13:44:01.433Z',\n",
       " '2021-07-05T13:44:04.500Z',\n",
       " '2021-07-05T13:44:07.416Z',\n",
       " '2021-07-05T13:44:10.499Z',\n",
       " '2021-07-05T13:44:13.503Z',\n",
       " '2021-07-05T13:44:16.420Z',\n",
       " '2021-07-05T13:44:19.503Z',\n",
       " '2021-07-05T13:44:22.413Z',\n",
       " '2021-07-05T13:44:25.511Z',\n",
       " '2021-07-05T13:44:28.420Z',\n",
       " '2021-07-05T13:44:31.497Z',\n",
       " '2021-07-05T13:44:34.512Z',\n",
       " '2021-07-05T13:44:37.513Z',\n",
       " '2021-07-05T13:44:40.420Z',\n",
       " '2021-07-05T13:44:43.645Z',\n",
       " '2021-07-05T13:44:46.418Z',\n",
       " '2021-07-05T13:44:49.500Z',\n",
       " '2021-07-05T13:44:52.413Z',\n",
       " '2021-07-05T13:44:55.562Z',\n",
       " '2021-07-05T13:44:58.721Z',\n",
       " '2021-07-05T13:45:01.413Z',\n",
       " '2021-07-05T13:45:04.547Z',\n",
       " '2021-07-05T13:45:07.421Z',\n",
       " '2021-07-05T13:45:10.702Z',\n",
       " '2021-07-05T13:45:13.420Z',\n",
       " '2021-07-05T13:45:16.518Z',\n",
       " '2021-07-05T13:45:19.414Z',\n",
       " '2021-07-05T13:45:22.506Z',\n",
       " '2021-07-05T13:45:25.416Z',\n",
       " '2021-07-05T13:45:28.505Z',\n",
       " '2021-07-05T13:45:31.414Z',\n",
       " '2021-07-05T13:45:34.501Z',\n",
       " '2021-07-05T13:45:37.414Z',\n",
       " '2021-07-05T13:45:40.509Z',\n",
       " '2021-07-05T13:45:43.420Z',\n",
       " '2021-07-05T13:45:46.504Z',\n",
       " '2021-07-05T13:45:49.553Z',\n",
       " '2021-07-05T13:45:52.413Z',\n",
       " '2021-07-05T13:45:55.517Z',\n",
       " '2021-07-05T13:45:58.418Z',\n",
       " '2021-07-05T13:46:01.497Z',\n",
       " '2021-07-05T13:46:04.496Z',\n",
       " '2021-07-05T13:46:07.505Z',\n",
       " '2021-07-05T13:46:10.500Z',\n",
       " '2021-07-05T13:46:13.419Z',\n",
       " '2021-07-05T13:46:16.510Z',\n",
       " '2021-07-05T13:46:19.422Z',\n",
       " '2021-07-05T13:46:22.545Z',\n",
       " '2021-07-05T13:46:25.417Z',\n",
       " '2021-07-05T13:46:28.495Z',\n",
       " '2021-07-05T13:46:31.414Z',\n",
       " '2021-07-05T13:46:34.503Z',\n",
       " '2021-07-05T13:46:37.424Z',\n",
       " '2021-07-05T13:46:40.509Z',\n",
       " '2021-07-05T13:46:43.416Z',\n",
       " '2021-07-05T13:46:46.594Z',\n",
       " '2021-07-05T13:46:49.416Z',\n",
       " '2021-07-05T13:46:52.557Z',\n",
       " '2021-07-05T13:46:55.419Z',\n",
       " '2021-07-05T13:46:58.502Z',\n",
       " '2021-07-05T13:47:01.414Z',\n",
       " '2021-07-05T13:47:04.558Z',\n",
       " '2021-07-05T13:47:07.427Z',\n",
       " '2021-07-05T13:47:10.568Z',\n",
       " '2021-07-05T13:47:13.521Z',\n",
       " '2021-07-05T13:47:16.437Z',\n",
       " '2021-07-05T13:47:19.515Z',\n",
       " '2021-07-05T13:47:22.414Z',\n",
       " '2021-07-05T13:47:25.497Z',\n",
       " '2021-07-05T13:47:28.417Z',\n",
       " '2021-07-05T13:47:31.509Z',\n",
       " '2021-07-05T13:47:34.421Z',\n",
       " '2021-07-05T13:47:37.503Z',\n",
       " '2021-07-05T13:47:40.418Z',\n",
       " '2021-07-05T13:47:43.497Z',\n",
       " '2021-07-05T13:47:46.420Z',\n",
       " '2021-07-05T13:47:49.505Z',\n",
       " '2021-07-05T13:47:52.416Z',\n",
       " '2021-07-05T13:47:55.502Z',\n",
       " '2021-07-05T13:47:58.418Z',\n",
       " '2021-07-05T13:48:01.501Z',\n",
       " '2021-07-05T13:48:04.504Z',\n",
       " '2021-07-05T13:48:07.417Z',\n",
       " '2021-07-05T13:48:10.520Z',\n",
       " '2021-07-05T13:48:13.420Z',\n",
       " '2021-07-05T13:48:16.520Z',\n",
       " '2021-07-05T13:48:19.433Z',\n",
       " '2021-07-05T13:48:22.503Z',\n",
       " '2021-07-05T13:48:25.433Z',\n",
       " '2021-07-05T13:48:28.500Z',\n",
       " '2021-07-05T13:48:31.419Z',\n",
       " '2021-07-05T13:48:34.645Z',\n",
       " '2021-07-05T13:48:37.416Z',\n",
       " '2021-07-05T13:48:40.495Z',\n",
       " '2021-07-05T13:48:43.418Z',\n",
       " '2021-07-05T13:48:46.503Z',\n",
       " '2021-07-05T13:48:49.429Z',\n",
       " '2021-07-05T13:48:52.503Z',\n",
       " '2021-07-05T13:48:55.421Z',\n",
       " '2021-07-05T13:48:58.500Z',\n",
       " '2021-07-05T13:49:01.424Z',\n",
       " '2021-07-05T13:49:04.511Z',\n",
       " '2021-07-05T13:49:07.537Z',\n",
       " '2021-07-05T13:49:10.414Z',\n",
       " '2021-07-05T13:49:13.496Z',\n",
       " '2021-07-05T13:49:16.418Z',\n",
       " '2021-07-05T13:49:19.510Z',\n",
       " '2021-07-05T13:49:22.531Z',\n",
       " '2021-07-05T13:49:25.414Z',\n",
       " '2021-07-05T13:49:28.497Z',\n",
       " '2021-07-05T13:49:31.417Z',\n",
       " '2021-07-05T13:49:34.570Z',\n",
       " '2021-07-05T13:49:37.412Z',\n",
       " '2021-07-05T13:49:40.505Z',\n",
       " '2021-07-05T13:49:43.425Z',\n",
       " '2021-07-05T13:49:46.502Z',\n",
       " '2021-07-05T13:49:49.430Z',\n",
       " '2021-07-05T13:49:52.496Z',\n",
       " '2021-07-05T13:49:55.418Z',\n",
       " '2021-07-05T13:49:58.496Z',\n",
       " '2021-07-05T13:50:01.436Z',\n",
       " '2021-07-05T13:50:04.517Z',\n",
       " '2021-07-05T13:50:07.416Z',\n",
       " '2021-07-05T13:50:10.505Z',\n",
       " '2021-07-05T13:50:13.416Z',\n",
       " '2021-07-05T13:50:16.498Z',\n",
       " '2021-07-05T13:50:19.416Z',\n",
       " '2021-07-05T13:50:22.498Z',\n",
       " '2021-07-05T13:50:25.416Z',\n",
       " '2021-07-05T13:50:28.506Z',\n",
       " '2021-07-05T13:50:31.417Z',\n",
       " '2021-07-05T13:50:34.501Z',\n",
       " '2021-07-05T13:50:37.417Z',\n",
       " '2021-07-05T13:50:40.682Z',\n",
       " '2021-07-05T13:50:43.414Z',\n",
       " '2021-07-05T13:50:46.504Z',\n",
       " '2021-07-05T13:50:49.414Z',\n",
       " '2021-07-05T13:50:52.549Z',\n",
       " '2021-07-05T13:50:55.416Z',\n",
       " '2021-07-05T13:50:58.521Z',\n",
       " '2021-07-05T13:51:01.415Z',\n",
       " '2021-07-05T13:51:04.507Z',\n",
       " '2021-07-05T13:51:07.414Z',\n",
       " '2021-07-05T13:51:10.534Z',\n",
       " '2021-07-05T13:51:13.413Z',\n",
       " '2021-07-05T13:51:16.499Z',\n",
       " '2021-07-05T13:51:19.414Z',\n",
       " '2021-07-05T13:51:22.499Z',\n",
       " '2021-07-05T13:51:25.423Z',\n",
       " '2021-07-05T13:51:28.563Z',\n",
       " '2021-07-05T13:51:31.417Z',\n",
       " '2021-07-05T13:51:34.704Z',\n",
       " '2021-07-05T13:51:37.412Z',\n",
       " '2021-07-05T13:51:40.502Z',\n",
       " '2021-07-05T13:51:43.421Z',\n",
       " '2021-07-05T13:51:46.548Z',\n",
       " '2021-07-05T13:51:49.431Z',\n",
       " '2021-07-05T13:51:52.620Z',\n",
       " '2021-07-05T13:51:55.419Z',\n",
       " '2021-07-05T13:51:58.503Z',\n",
       " '2021-07-05T13:52:01.421Z',\n",
       " '2021-07-05T13:52:04.498Z',\n",
       " '2021-07-05T13:52:07.414Z',\n",
       " '2021-07-05T13:52:10.502Z',\n",
       " '2021-07-05T13:52:13.506Z',\n",
       " '2021-07-05T13:52:16.425Z',\n",
       " '2021-07-05T13:52:19.500Z',\n",
       " '2021-07-05T13:52:22.502Z',\n",
       " '2021-07-05T13:52:25.505Z',\n",
       " '2021-07-05T13:52:28.414Z',\n",
       " '2021-07-05T13:52:31.501Z',\n",
       " '2021-07-05T13:52:34.415Z',\n",
       " '2021-07-05T13:52:37.632Z',\n",
       " '2021-07-05T13:52:40.413Z',\n",
       " '2021-07-05T13:52:43.500Z',\n",
       " '2021-07-05T13:52:46.417Z',\n",
       " '2021-07-05T13:52:49.578Z',\n",
       " '2021-07-05T13:52:52.412Z',\n",
       " '2021-07-05T13:52:55.498Z',\n",
       " '2021-07-05T13:52:58.506Z',\n",
       " '2021-07-05T13:53:01.498Z',\n",
       " '2021-07-05T13:53:04.419Z',\n",
       " '2021-07-05T13:53:07.495Z',\n",
       " '2021-07-05T13:53:10.417Z',\n",
       " '2021-07-05T13:53:13.500Z',\n",
       " '2021-07-05T13:53:16.415Z',\n",
       " '2021-07-05T13:53:19.555Z',\n",
       " '2021-07-05T13:53:22.424Z',\n",
       " '2021-07-05T13:53:25.554Z',\n",
       " '2021-07-05T13:53:28.495Z',\n",
       " '2021-07-05T13:53:31.415Z',\n",
       " '2021-07-05T13:53:34.499Z',\n",
       " '2021-07-05T13:53:37.412Z',\n",
       " '2021-07-05T13:53:40.579Z',\n",
       " '2021-07-05T13:53:43.418Z',\n",
       " '2021-07-05T13:53:46.503Z',\n",
       " '2021-07-05T13:53:49.423Z',\n",
       " '2021-07-05T13:53:52.509Z',\n",
       " '2021-07-05T13:53:55.427Z',\n",
       " '2021-07-05T13:53:58.496Z',\n",
       " '2021-07-05T13:54:01.416Z',\n",
       " '2021-07-05T13:54:04.498Z',\n",
       " '2021-07-05T13:54:07.422Z',\n",
       " '2021-07-05T13:54:10.497Z',\n",
       " '2021-07-05T13:54:13.414Z',\n",
       " '2021-07-05T13:54:16.495Z',\n",
       " '2021-07-05T13:54:19.502Z',\n",
       " '2021-07-05T13:54:22.501Z',\n",
       " '2021-07-05T13:54:25.504Z',\n",
       " '2021-07-05T13:54:28.420Z',\n",
       " '2021-07-05T13:54:31.499Z',\n",
       " '2021-07-05T13:54:34.501Z',\n",
       " '2021-07-05T13:54:37.417Z',\n",
       " '2021-07-05T13:54:40.500Z',\n",
       " '2021-07-05T13:54:43.498Z',\n",
       " '2021-07-05T13:54:46.423Z',\n",
       " '2021-07-05T13:54:49.529Z',\n",
       " '2021-07-05T13:54:52.413Z',\n",
       " '2021-07-05T13:54:55.502Z',\n",
       " '2021-07-05T13:54:58.416Z',\n",
       " '2021-07-05T13:55:01.504Z',\n",
       " '2021-07-05T13:55:04.416Z',\n",
       " '2021-07-05T13:55:07.505Z',\n",
       " '2021-07-05T13:55:10.415Z',\n",
       " '2021-07-05T13:55:13.504Z',\n",
       " '2021-07-05T13:55:16.420Z',\n",
       " '2021-07-05T13:55:19.499Z',\n",
       " '2021-07-05T13:55:22.421Z',\n",
       " '2021-07-05T13:55:25.506Z',\n",
       " '2021-07-05T13:55:28.422Z',\n",
       " '2021-07-05T13:55:31.499Z',\n",
       " '2021-07-05T13:55:34.418Z',\n",
       " '2021-07-05T13:55:37.602Z',\n",
       " '2021-07-05T13:55:40.417Z',\n",
       " '2021-07-05T13:55:43.504Z',\n",
       " '2021-07-05T13:55:46.414Z',\n",
       " '2021-07-05T13:55:49.501Z',\n",
       " '2021-07-05T13:55:52.421Z',\n",
       " '2021-07-05T13:55:55.500Z',\n",
       " '2021-07-05T13:55:58.415Z',\n",
       " '2021-07-05T13:56:01.506Z',\n",
       " '2021-07-05T13:56:04.495Z',\n",
       " '2021-07-05T13:56:07.503Z',\n",
       " '2021-07-05T13:56:10.497Z',\n",
       " '2021-07-05T13:56:13.413Z',\n",
       " '2021-07-05T13:56:16.516Z',\n",
       " '2021-07-05T13:56:19.417Z',\n",
       " '2021-07-05T13:56:22.498Z',\n",
       " '2021-07-05T13:56:25.414Z',\n",
       " '2021-07-05T13:56:28.501Z',\n",
       " '2021-07-05T13:56:31.418Z',\n",
       " '2021-07-05T13:56:34.504Z',\n",
       " '2021-07-05T13:56:37.417Z',\n",
       " '2021-07-05T13:56:40.499Z',\n",
       " '2021-07-05T13:56:43.572Z',\n",
       " '2021-07-05T13:56:46.414Z',\n",
       " ...]"
      ]
     },
     "execution_count": 46,
     "metadata": {},
     "output_type": "execute_result"
    }
   ],
   "source": [
    "list(ob_krak.keys())"
   ]
  }
 ],
 "metadata": {
  "kernelspec": {
   "display_name": "Python 3 (ipykernel)",
   "language": "python",
   "name": "python3"
  },
  "language_info": {
   "codemirror_mode": {
    "name": "ipython",
    "version": 3
   },
   "file_extension": ".py",
   "mimetype": "text/x-python",
   "name": "python",
   "nbconvert_exporter": "python",
   "pygments_lexer": "ipython3",
   "version": "3.9.7"
  }
 },
 "nbformat": 4,
 "nbformat_minor": 5
}
