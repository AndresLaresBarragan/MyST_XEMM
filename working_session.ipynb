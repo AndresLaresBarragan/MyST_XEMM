{
 "cells": [
  {
   "cell_type": "code",
   "execution_count": 1,
   "metadata": {},
   "outputs": [],
   "source": [
    "# import packages\n",
    "import pandas as pd, numpy as np\n",
    "import json\n",
    "# import files\n",
    "import data as dt"
   ]
  },
  {
   "cell_type": "markdown",
   "metadata": {},
   "source": [
    "1. Replicar 100 bps? -> **10 Basis points: dejar como parametro del backtest**\n",
    "2. Determinar origin vs destination exchange -> **Kraken es origin, Bitfinex es destination**\n",
    "3. Como replicar los niveles del origin en el destination (volumen)\n",
    "4. Validar el método para determinar maker/taker fee: iterativo vs estático\n",
    "5. Orden de llenado por tiempo de entrada.\n",
    "6. Evolución de Orderbooks tipo bootstrap."
   ]
  },
  {
   "cell_type": "code",
   "execution_count": 3,
   "metadata": {},
   "outputs": [],
   "source": [
    "# load data\n",
    "ob_krak, ob_bit = dt.read_jsonOB(file_name = 'orderbooks_05jul21.json')\n"
   ]
  },
  {
   "cell_type": "code",
   "execution_count": 4,
   "metadata": {},
   "outputs": [
    {
     "data": {
      "text/plain": [
       "dict"
      ]
     },
     "execution_count": 4,
     "metadata": {},
     "output_type": "execute_result"
    }
   ],
   "source": [
    "type(ob_krak)"
   ]
  },
  {
   "cell_type": "markdown",
   "metadata": {},
   "source": [
    "# Alineacion de timestamps"
   ]
  },
  {
   "cell_type": "code",
   "execution_count": 9,
   "metadata": {},
   "outputs": [
    {
     "data": {
      "text/plain": [
       "('2021-07-05T13:06:49.495Z',\n",
       " '2021-07-05T13:06:51.077Z',\n",
       " '2021-07-05T13:06:52.426Z',\n",
       " '2021-07-05T13:06:53.921Z',\n",
       " '2021-07-05T13:06:55.563Z')"
      ]
     },
     "execution_count": 9,
     "metadata": {},
     "output_type": "execute_result"
    }
   ],
   "source": [
    "list(ob_krak.keys())[0], list(ob_bit.keys())[0], list(ob_bit.keys())[1], list(ob_bit.keys())[2], list(ob_bit.keys())[3]"
   ]
  },
  {
   "cell_type": "code",
   "execution_count": 10,
   "metadata": {},
   "outputs": [
    {
     "data": {
      "text/plain": [
       "[]"
      ]
     },
     "execution_count": 10,
     "metadata": {},
     "output_type": "execute_result"
    }
   ],
   "source": [
    "# filtro  para que destination sea despues de origin\n",
    "aux = sum(pd.to_datetime(pd.Series((ob_bit.keys()))) < pd.to_datetime(pd.Series(ob_krak.keys()))[0])\n",
    "[ob_bit.pop(key) for key in list(ob_bit.keys())[:aux]]"
   ]
  },
  {
   "cell_type": "code",
   "execution_count": 12,
   "metadata": {},
   "outputs": [
    {
     "data": {
      "text/plain": [
       "0.001"
      ]
     },
     "execution_count": 12,
     "metadata": {},
     "output_type": "execute_result"
    }
   ],
   "source": [
    "10/10000"
   ]
  },
  {
   "cell_type": "markdown",
   "metadata": {},
   "source": [
    "# Origin exchange (Kraken)"
   ]
  },
  {
   "cell_type": "code",
   "execution_count": 7,
   "metadata": {},
   "outputs": [
    {
     "data": {
      "text/html": [
       "<div>\n",
       "<style scoped>\n",
       "    .dataframe tbody tr th:only-of-type {\n",
       "        vertical-align: middle;\n",
       "    }\n",
       "\n",
       "    .dataframe tbody tr th {\n",
       "        vertical-align: top;\n",
       "    }\n",
       "\n",
       "    .dataframe thead th {\n",
       "        text-align: right;\n",
       "    }\n",
       "</style>\n",
       "<table border=\"1\" class=\"dataframe\">\n",
       "  <thead>\n",
       "    <tr style=\"text-align: right;\">\n",
       "      <th></th>\n",
       "      <th>bid_size</th>\n",
       "      <th>bid</th>\n",
       "      <th>ask</th>\n",
       "      <th>ask_size</th>\n",
       "    </tr>\n",
       "  </thead>\n",
       "  <tbody>\n",
       "    <tr>\n",
       "      <th>0</th>\n",
       "      <td>0.880</td>\n",
       "      <td>28298.3</td>\n",
       "      <td>28298.4</td>\n",
       "      <td>3.352</td>\n",
       "    </tr>\n",
       "    <tr>\n",
       "      <th>1</th>\n",
       "      <td>0.350</td>\n",
       "      <td>28293.9</td>\n",
       "      <td>28300.0</td>\n",
       "      <td>0.020</td>\n",
       "    </tr>\n",
       "    <tr>\n",
       "      <th>2</th>\n",
       "      <td>0.377</td>\n",
       "      <td>28293.5</td>\n",
       "      <td>28305.4</td>\n",
       "      <td>0.074</td>\n",
       "    </tr>\n",
       "  </tbody>\n",
       "</table>\n",
       "</div>"
      ],
      "text/plain": [
       "   bid_size      bid      ask  ask_size\n",
       "0     0.880  28298.3  28298.4     3.352\n",
       "1     0.350  28293.9  28300.0     0.020\n",
       "2     0.377  28293.5  28305.4     0.074"
      ]
     },
     "metadata": {},
     "output_type": "display_data"
    },
    {
     "data": {
      "text/plain": [
       "28298.35"
      ]
     },
     "execution_count": 7,
     "metadata": {},
     "output_type": "execute_result"
    }
   ],
   "source": [
    "# OB 1\n",
    "df_krak = ob_krak[list(ob_krak.keys())[0]]\n",
    "# midprice\n",
    "mid_krak = (df_krak['bid'][0]+df_krak['ask'][0])/2\n",
    "display(df_krak.head(3))\n",
    "mid_krak"
   ]
  },
  {
   "cell_type": "code",
   "execution_count": 8,
   "metadata": {},
   "outputs": [
    {
     "data": {
      "text/plain": [
       "(28270.051649999998, 28326.648349999996)"
      ]
     },
     "execution_count": 8,
     "metadata": {},
     "output_type": "execute_result"
    }
   ],
   "source": [
    "upper_krak = mid_krak*1.001\n",
    "lower_krak = mid_krak*0.999\n",
    "(lower_krak, upper_krak)"
   ]
  },
  {
   "cell_type": "code",
   "execution_count": 9,
   "metadata": {
    "scrolled": false
   },
   "outputs": [],
   "source": [
    "bids_krak = df_krak[df_krak['bid']>lower_krak][['bid','bid_size']]\n",
    "asks_krak = df_krak[df_krak['ask']<upper_krak][['ask','ask_size']]"
   ]
  },
  {
   "cell_type": "code",
   "execution_count": 10,
   "metadata": {},
   "outputs": [
    {
     "data": {
      "text/plain": [
       "[(100, 4), (30, 2), (23, 2)]"
      ]
     },
     "execution_count": 10,
     "metadata": {},
     "output_type": "execute_result"
    }
   ],
   "source": [
    "[d.shape for d in [df_krak, bids_krak, asks_krak]]"
   ]
  },
  {
   "cell_type": "code",
   "execution_count": 11,
   "metadata": {
    "scrolled": true
   },
   "outputs": [],
   "source": [
    "levels = pd.concat([bids_krak, asks_krak], axis=1)"
   ]
  },
  {
   "cell_type": "code",
   "execution_count": 12,
   "metadata": {
    "scrolled": true
   },
   "outputs": [
    {
     "data": {
      "text/html": [
       "<div>\n",
       "<style scoped>\n",
       "    .dataframe tbody tr th:only-of-type {\n",
       "        vertical-align: middle;\n",
       "    }\n",
       "\n",
       "    .dataframe tbody tr th {\n",
       "        vertical-align: top;\n",
       "    }\n",
       "\n",
       "    .dataframe thead th {\n",
       "        text-align: right;\n",
       "    }\n",
       "</style>\n",
       "<table border=\"1\" class=\"dataframe\">\n",
       "  <thead>\n",
       "    <tr style=\"text-align: right;\">\n",
       "      <th></th>\n",
       "      <th>bid</th>\n",
       "      <th>bid_size</th>\n",
       "      <th>ask</th>\n",
       "      <th>ask_size</th>\n",
       "    </tr>\n",
       "  </thead>\n",
       "  <tbody>\n",
       "    <tr>\n",
       "      <th>0</th>\n",
       "      <td>28298.3</td>\n",
       "      <td>0.880</td>\n",
       "      <td>28298.4</td>\n",
       "      <td>3.352</td>\n",
       "    </tr>\n",
       "    <tr>\n",
       "      <th>1</th>\n",
       "      <td>28293.9</td>\n",
       "      <td>0.350</td>\n",
       "      <td>28300.0</td>\n",
       "      <td>0.020</td>\n",
       "    </tr>\n",
       "    <tr>\n",
       "      <th>2</th>\n",
       "      <td>28293.5</td>\n",
       "      <td>0.377</td>\n",
       "      <td>28305.4</td>\n",
       "      <td>0.074</td>\n",
       "    </tr>\n",
       "    <tr>\n",
       "      <th>3</th>\n",
       "      <td>28292.2</td>\n",
       "      <td>0.011</td>\n",
       "      <td>28305.5</td>\n",
       "      <td>0.123</td>\n",
       "    </tr>\n",
       "    <tr>\n",
       "      <th>4</th>\n",
       "      <td>28292.0</td>\n",
       "      <td>1.221</td>\n",
       "      <td>28307.3</td>\n",
       "      <td>0.204</td>\n",
       "    </tr>\n",
       "    <tr>\n",
       "      <th>5</th>\n",
       "      <td>28291.2</td>\n",
       "      <td>0.745</td>\n",
       "      <td>28308.2</td>\n",
       "      <td>0.005</td>\n",
       "    </tr>\n",
       "    <tr>\n",
       "      <th>6</th>\n",
       "      <td>28291.0</td>\n",
       "      <td>0.396</td>\n",
       "      <td>28310.0</td>\n",
       "      <td>0.004</td>\n",
       "    </tr>\n",
       "    <tr>\n",
       "      <th>7</th>\n",
       "      <td>28290.9</td>\n",
       "      <td>0.340</td>\n",
       "      <td>28311.8</td>\n",
       "      <td>0.745</td>\n",
       "    </tr>\n",
       "    <tr>\n",
       "      <th>8</th>\n",
       "      <td>28290.8</td>\n",
       "      <td>0.006</td>\n",
       "      <td>28314.9</td>\n",
       "      <td>0.250</td>\n",
       "    </tr>\n",
       "    <tr>\n",
       "      <th>9</th>\n",
       "      <td>28290.0</td>\n",
       "      <td>0.003</td>\n",
       "      <td>28315.2</td>\n",
       "      <td>5.000</td>\n",
       "    </tr>\n",
       "    <tr>\n",
       "      <th>10</th>\n",
       "      <td>28289.2</td>\n",
       "      <td>0.343</td>\n",
       "      <td>28315.8</td>\n",
       "      <td>0.992</td>\n",
       "    </tr>\n",
       "    <tr>\n",
       "      <th>11</th>\n",
       "      <td>28288.7</td>\n",
       "      <td>1.491</td>\n",
       "      <td>28316.0</td>\n",
       "      <td>0.994</td>\n",
       "    </tr>\n",
       "    <tr>\n",
       "      <th>12</th>\n",
       "      <td>28285.3</td>\n",
       "      <td>0.798</td>\n",
       "      <td>28316.4</td>\n",
       "      <td>0.377</td>\n",
       "    </tr>\n",
       "    <tr>\n",
       "      <th>13</th>\n",
       "      <td>28285.2</td>\n",
       "      <td>0.326</td>\n",
       "      <td>28316.8</td>\n",
       "      <td>0.093</td>\n",
       "    </tr>\n",
       "    <tr>\n",
       "      <th>14</th>\n",
       "      <td>28284.6</td>\n",
       "      <td>0.005</td>\n",
       "      <td>28317.0</td>\n",
       "      <td>1.729</td>\n",
       "    </tr>\n",
       "    <tr>\n",
       "      <th>15</th>\n",
       "      <td>28283.6</td>\n",
       "      <td>0.300</td>\n",
       "      <td>28317.9</td>\n",
       "      <td>1.490</td>\n",
       "    </tr>\n",
       "    <tr>\n",
       "      <th>16</th>\n",
       "      <td>28282.1</td>\n",
       "      <td>0.250</td>\n",
       "      <td>28320.0</td>\n",
       "      <td>0.560</td>\n",
       "    </tr>\n",
       "    <tr>\n",
       "      <th>17</th>\n",
       "      <td>28281.7</td>\n",
       "      <td>0.018</td>\n",
       "      <td>28320.9</td>\n",
       "      <td>0.300</td>\n",
       "    </tr>\n",
       "    <tr>\n",
       "      <th>18</th>\n",
       "      <td>28281.0</td>\n",
       "      <td>0.093</td>\n",
       "      <td>28321.8</td>\n",
       "      <td>1.500</td>\n",
       "    </tr>\n",
       "    <tr>\n",
       "      <th>19</th>\n",
       "      <td>28280.7</td>\n",
       "      <td>1.500</td>\n",
       "      <td>28322.1</td>\n",
       "      <td>0.010</td>\n",
       "    </tr>\n",
       "    <tr>\n",
       "      <th>20</th>\n",
       "      <td>28280.3</td>\n",
       "      <td>0.177</td>\n",
       "      <td>28322.3</td>\n",
       "      <td>0.989</td>\n",
       "    </tr>\n",
       "    <tr>\n",
       "      <th>21</th>\n",
       "      <td>28280.2</td>\n",
       "      <td>0.300</td>\n",
       "      <td>28322.7</td>\n",
       "      <td>1.089</td>\n",
       "    </tr>\n",
       "    <tr>\n",
       "      <th>22</th>\n",
       "      <td>28279.4</td>\n",
       "      <td>1.491</td>\n",
       "      <td>28325.2</td>\n",
       "      <td>0.063</td>\n",
       "    </tr>\n",
       "    <tr>\n",
       "      <th>23</th>\n",
       "      <td>28278.8</td>\n",
       "      <td>0.005</td>\n",
       "      <td>NaN</td>\n",
       "      <td>NaN</td>\n",
       "    </tr>\n",
       "    <tr>\n",
       "      <th>24</th>\n",
       "      <td>28276.7</td>\n",
       "      <td>0.800</td>\n",
       "      <td>NaN</td>\n",
       "      <td>NaN</td>\n",
       "    </tr>\n",
       "    <tr>\n",
       "      <th>25</th>\n",
       "      <td>28274.7</td>\n",
       "      <td>0.001</td>\n",
       "      <td>NaN</td>\n",
       "      <td>NaN</td>\n",
       "    </tr>\n",
       "    <tr>\n",
       "      <th>26</th>\n",
       "      <td>28274.3</td>\n",
       "      <td>1.732</td>\n",
       "      <td>NaN</td>\n",
       "      <td>NaN</td>\n",
       "    </tr>\n",
       "    <tr>\n",
       "      <th>27</th>\n",
       "      <td>28273.4</td>\n",
       "      <td>0.100</td>\n",
       "      <td>NaN</td>\n",
       "      <td>NaN</td>\n",
       "    </tr>\n",
       "    <tr>\n",
       "      <th>28</th>\n",
       "      <td>28272.6</td>\n",
       "      <td>1.490</td>\n",
       "      <td>NaN</td>\n",
       "      <td>NaN</td>\n",
       "    </tr>\n",
       "    <tr>\n",
       "      <th>29</th>\n",
       "      <td>28270.3</td>\n",
       "      <td>0.002</td>\n",
       "      <td>NaN</td>\n",
       "      <td>NaN</td>\n",
       "    </tr>\n",
       "  </tbody>\n",
       "</table>\n",
       "</div>"
      ],
      "text/plain": [
       "        bid  bid_size      ask  ask_size\n",
       "0   28298.3     0.880  28298.4     3.352\n",
       "1   28293.9     0.350  28300.0     0.020\n",
       "2   28293.5     0.377  28305.4     0.074\n",
       "3   28292.2     0.011  28305.5     0.123\n",
       "4   28292.0     1.221  28307.3     0.204\n",
       "5   28291.2     0.745  28308.2     0.005\n",
       "6   28291.0     0.396  28310.0     0.004\n",
       "7   28290.9     0.340  28311.8     0.745\n",
       "8   28290.8     0.006  28314.9     0.250\n",
       "9   28290.0     0.003  28315.2     5.000\n",
       "10  28289.2     0.343  28315.8     0.992\n",
       "11  28288.7     1.491  28316.0     0.994\n",
       "12  28285.3     0.798  28316.4     0.377\n",
       "13  28285.2     0.326  28316.8     0.093\n",
       "14  28284.6     0.005  28317.0     1.729\n",
       "15  28283.6     0.300  28317.9     1.490\n",
       "16  28282.1     0.250  28320.0     0.560\n",
       "17  28281.7     0.018  28320.9     0.300\n",
       "18  28281.0     0.093  28321.8     1.500\n",
       "19  28280.7     1.500  28322.1     0.010\n",
       "20  28280.3     0.177  28322.3     0.989\n",
       "21  28280.2     0.300  28322.7     1.089\n",
       "22  28279.4     1.491  28325.2     0.063\n",
       "23  28278.8     0.005      NaN       NaN\n",
       "24  28276.7     0.800      NaN       NaN\n",
       "25  28274.7     0.001      NaN       NaN\n",
       "26  28274.3     1.732      NaN       NaN\n",
       "27  28273.4     0.100      NaN       NaN\n",
       "28  28272.6     1.490      NaN       NaN\n",
       "29  28270.3     0.002      NaN       NaN"
      ]
     },
     "execution_count": 12,
     "metadata": {},
     "output_type": "execute_result"
    }
   ],
   "source": [
    "levels"
   ]
  },
  {
   "cell_type": "markdown",
   "metadata": {},
   "source": [
    "# Destination exchange (Bitfinex)"
   ]
  },
  {
   "cell_type": "code",
   "execution_count": 13,
   "metadata": {},
   "outputs": [
    {
     "data": {
      "text/html": [
       "<div>\n",
       "<style scoped>\n",
       "    .dataframe tbody tr th:only-of-type {\n",
       "        vertical-align: middle;\n",
       "    }\n",
       "\n",
       "    .dataframe tbody tr th {\n",
       "        vertical-align: top;\n",
       "    }\n",
       "\n",
       "    .dataframe thead th {\n",
       "        text-align: right;\n",
       "    }\n",
       "</style>\n",
       "<table border=\"1\" class=\"dataframe\">\n",
       "  <thead>\n",
       "    <tr style=\"text-align: right;\">\n",
       "      <th></th>\n",
       "      <th>bid_size</th>\n",
       "      <th>bid</th>\n",
       "      <th>ask</th>\n",
       "      <th>ask_size</th>\n",
       "    </tr>\n",
       "  </thead>\n",
       "  <tbody>\n",
       "    <tr>\n",
       "      <th>0</th>\n",
       "      <td>14.605659</td>\n",
       "      <td>28275.0</td>\n",
       "      <td>28278.0</td>\n",
       "      <td>0.011063</td>\n",
       "    </tr>\n",
       "    <tr>\n",
       "      <th>1</th>\n",
       "      <td>0.005124</td>\n",
       "      <td>28273.0</td>\n",
       "      <td>28279.0</td>\n",
       "      <td>0.006000</td>\n",
       "    </tr>\n",
       "    <tr>\n",
       "      <th>2</th>\n",
       "      <td>0.010158</td>\n",
       "      <td>28272.0</td>\n",
       "      <td>28280.0</td>\n",
       "      <td>0.100000</td>\n",
       "    </tr>\n",
       "  </tbody>\n",
       "</table>\n",
       "</div>"
      ],
      "text/plain": [
       "    bid_size      bid      ask  ask_size\n",
       "0  14.605659  28275.0  28278.0  0.011063\n",
       "1   0.005124  28273.0  28279.0  0.006000\n",
       "2   0.010158  28272.0  28280.0  0.100000"
      ]
     },
     "metadata": {},
     "output_type": "display_data"
    },
    {
     "data": {
      "text/plain": [
       "28276.5"
      ]
     },
     "execution_count": 13,
     "metadata": {},
     "output_type": "execute_result"
    }
   ],
   "source": [
    "# OB 1\n",
    "df_bit = ob_bit[list(ob_bit.keys())[0]]\n",
    "# midprice\n",
    "mid_bit = (df_bit['bid'][0]+df_bit['ask'][0])/2\n",
    "display(df_bit.head(3))\n",
    "mid_bit"
   ]
  },
  {
   "cell_type": "markdown",
   "metadata": {},
   "source": [
    "# Añadir niveles a destination"
   ]
  },
  {
   "cell_type": "markdown",
   "metadata": {},
   "source": [
    "### Bids"
   ]
  },
  {
   "cell_type": "code",
   "execution_count": 14,
   "metadata": {
    "scrolled": true
   },
   "outputs": [
    {
     "data": {
      "text/html": [
       "<div>\n",
       "<style scoped>\n",
       "    .dataframe tbody tr th:only-of-type {\n",
       "        vertical-align: middle;\n",
       "    }\n",
       "\n",
       "    .dataframe tbody tr th {\n",
       "        vertical-align: top;\n",
       "    }\n",
       "\n",
       "    .dataframe thead th {\n",
       "        text-align: right;\n",
       "    }\n",
       "</style>\n",
       "<table border=\"1\" class=\"dataframe\">\n",
       "  <thead>\n",
       "    <tr style=\"text-align: right;\">\n",
       "      <th></th>\n",
       "      <th>bid_size</th>\n",
       "      <th>bid</th>\n",
       "      <th>ask</th>\n",
       "      <th>ask_size</th>\n",
       "    </tr>\n",
       "  </thead>\n",
       "  <tbody>\n",
       "    <tr>\n",
       "      <th>0</th>\n",
       "      <td>14.605659</td>\n",
       "      <td>28275.0</td>\n",
       "      <td>28278.0</td>\n",
       "      <td>0.011063</td>\n",
       "    </tr>\n",
       "    <tr>\n",
       "      <th>1</th>\n",
       "      <td>0.005124</td>\n",
       "      <td>28273.0</td>\n",
       "      <td>28279.0</td>\n",
       "      <td>0.006000</td>\n",
       "    </tr>\n",
       "    <tr>\n",
       "      <th>2</th>\n",
       "      <td>0.010158</td>\n",
       "      <td>28272.0</td>\n",
       "      <td>28280.0</td>\n",
       "      <td>0.100000</td>\n",
       "    </tr>\n",
       "  </tbody>\n",
       "</table>\n",
       "</div>"
      ],
      "text/plain": [
       "    bid_size      bid      ask  ask_size\n",
       "0  14.605659  28275.0  28278.0  0.011063\n",
       "1   0.005124  28273.0  28279.0  0.006000\n",
       "2   0.010158  28272.0  28280.0  0.100000"
      ]
     },
     "execution_count": 14,
     "metadata": {},
     "output_type": "execute_result"
    }
   ],
   "source": [
    "df_bit.head(3)"
   ]
  },
  {
   "cell_type": "code",
   "execution_count": 15,
   "metadata": {
    "scrolled": true
   },
   "outputs": [],
   "source": [
    "# merge levels to create new OB\n",
    "bids = df_bit[['bid_size','bid']].merge(levels[['bid_size','bid']], how='outer', on='bid'\n",
    "                                       ).sort_values(by='bid', ascending=False, ignore_index=True)\n",
    "bids.rename(columns={'bid_size_x':'bid_size','bid_size_y':'add_size'}, inplace=True)"
   ]
  },
  {
   "cell_type": "code",
   "execution_count": 16,
   "metadata": {
    "scrolled": true
   },
   "outputs": [],
   "source": [
    "# identify each order's fee structure\n",
    "bids['fee_type'] = ['taker' if bid > df_bit['ask'][0] else 'maker' if pd.notna(add_size) else np.nan\n",
    "                    for bid, add_size in zip(bids['bid'].values, bids['add_size'].values)]\n",
    "\n",
    "bids.fillna(0, inplace=True)"
   ]
  },
  {
   "cell_type": "code",
   "execution_count": 17,
   "metadata": {},
   "outputs": [],
   "source": [
    "# compute total volume in each OB level\n",
    "bids['new_size'] = bids['bid_size'].values+bids['add_size'].values"
   ]
  },
  {
   "cell_type": "code",
   "execution_count": 18,
   "metadata": {},
   "outputs": [
    {
     "data": {
      "text/plain": [
       "ask         28278.000000\n",
       "ask_size        0.011063\n",
       "Name: 0, dtype: float64"
      ]
     },
     "execution_count": 18,
     "metadata": {},
     "output_type": "execute_result"
    }
   ],
   "source": [
    "df_bit[['ask','ask_size']].iloc[0,:]"
   ]
  },
  {
   "cell_type": "code",
   "execution_count": 19,
   "metadata": {},
   "outputs": [
    {
     "data": {
      "text/html": [
       "<div>\n",
       "<style scoped>\n",
       "    .dataframe tbody tr th:only-of-type {\n",
       "        vertical-align: middle;\n",
       "    }\n",
       "\n",
       "    .dataframe tbody tr th {\n",
       "        vertical-align: top;\n",
       "    }\n",
       "\n",
       "    .dataframe thead th {\n",
       "        text-align: right;\n",
       "    }\n",
       "</style>\n",
       "<table border=\"1\" class=\"dataframe\">\n",
       "  <thead>\n",
       "    <tr style=\"text-align: right;\">\n",
       "      <th></th>\n",
       "      <th>bid_size</th>\n",
       "      <th>bid</th>\n",
       "      <th>ask</th>\n",
       "      <th>ask_size</th>\n",
       "    </tr>\n",
       "  </thead>\n",
       "  <tbody>\n",
       "    <tr>\n",
       "      <th>0</th>\n",
       "      <td>14.605659</td>\n",
       "      <td>28275.0</td>\n",
       "      <td>28278.0</td>\n",
       "      <td>0.011063</td>\n",
       "    </tr>\n",
       "    <tr>\n",
       "      <th>1</th>\n",
       "      <td>0.005124</td>\n",
       "      <td>28273.0</td>\n",
       "      <td>28279.0</td>\n",
       "      <td>0.006000</td>\n",
       "    </tr>\n",
       "    <tr>\n",
       "      <th>2</th>\n",
       "      <td>0.010158</td>\n",
       "      <td>28272.0</td>\n",
       "      <td>28280.0</td>\n",
       "      <td>0.100000</td>\n",
       "    </tr>\n",
       "  </tbody>\n",
       "</table>\n",
       "</div>"
      ],
      "text/plain": [
       "    bid_size      bid      ask  ask_size\n",
       "0  14.605659  28275.0  28278.0  0.011063\n",
       "1   0.005124  28273.0  28279.0  0.006000\n",
       "2   0.010158  28272.0  28280.0  0.100000"
      ]
     },
     "execution_count": 19,
     "metadata": {},
     "output_type": "execute_result"
    }
   ],
   "source": [
    "df_bit.head(3)"
   ]
  },
  {
   "cell_type": "code",
   "execution_count": 23,
   "metadata": {},
   "outputs": [
    {
     "data": {
      "text/plain": [
       "(25, 30, 55)"
      ]
     },
     "execution_count": 23,
     "metadata": {},
     "output_type": "execute_result"
    }
   ],
   "source": [
    "df_bit.shape[0],levels.shape[0], bids.shape[0]"
   ]
  },
  {
   "cell_type": "markdown",
   "metadata": {},
   "source": [
    "# Preliminary approach using loops"
   ]
  },
  {
   "cell_type": "code",
   "execution_count": 362,
   "metadata": {},
   "outputs": [],
   "source": [
    "# destination exchange\n",
    "bit_ask = df_bit[['ask','ask_size']]\n",
    "bit_bid = df_bit[['bid_size','bid']]\n",
    "\n",
    "# origin exchnage\n",
    "krak_bid = df_krak[['bid_size','bid']]\n",
    "krak_ask = df_krak[['ask','ask_size']]"
   ]
  },
  {
   "cell_type": "code",
   "execution_count": 363,
   "metadata": {
    "scrolled": true
   },
   "outputs": [
    {
     "name": "stderr",
     "output_type": "stream",
     "text": [
      "<ipython-input-363-56ab3a99147f>:2: SettingWithCopyWarning: \n",
      "A value is trying to be set on a copy of a slice from a DataFrame.\n",
      "Try using .loc[row_indexer,col_indexer] = value instead\n",
      "\n",
      "See the caveats in the documentation: https://pandas.pydata.org/pandas-docs/stable/user_guide/indexing.html#returning-a-view-versus-a-copy\n",
      "  bid_levels['bid_flag'] = ['bid']*bid_levels.shape[0]\n",
      "C:\\Users\\if724\\anaconda3\\lib\\site-packages\\pandas\\core\\frame.py:4296: SettingWithCopyWarning: \n",
      "A value is trying to be set on a copy of a slice from a DataFrame\n",
      "\n",
      "See the caveats in the documentation: https://pandas.pydata.org/pandas-docs/stable/user_guide/indexing.html#returning-a-view-versus-a-copy\n",
      "  return super().rename(\n",
      "<ipython-input-363-56ab3a99147f>:8: SettingWithCopyWarning: \n",
      "A value is trying to be set on a copy of a slice from a DataFrame.\n",
      "Try using .loc[row_indexer,col_indexer] = value instead\n",
      "\n",
      "See the caveats in the documentation: https://pandas.pydata.org/pandas-docs/stable/user_guide/indexing.html#returning-a-view-versus-a-copy\n",
      "  ask_levels['ask_flag'] = ['ask']*ask_levels.shape[0]\n"
     ]
    }
   ],
   "source": [
    "bid_levels = levels[['bid_size','bid']]\n",
    "bid_levels['bid_flag'] = ['bid']*bid_levels.shape[0]\n",
    "bid_levels.rename(columns={'bid_size':'size',\n",
    "                          'bid':'price',\n",
    "                          'bid_flag':'type'}, inplace=True)\n",
    "\n",
    "ask_levels = levels[['ask_size','ask']]\n",
    "ask_levels['ask_flag'] = ['ask']*ask_levels.shape[0]\n",
    "ask_levels.rename(columns={'ask_size':'size',\n",
    "                          'ask':'price',\n",
    "                          'ask_flag':'type'}, inplace=True)\n",
    "\n",
    "levels_added = bid_levels.append(ask_levels, ignore_index=True).dropna()\n",
    "\n",
    "levels_added['transaction_time'] = np.random.uniform(1250, size=levels_added.shape[0])\n",
    "levels_added.sort_values(by='transaction_time', inplace=True, ignore_index=True)"
   ]
  },
  {
   "cell_type": "code",
   "execution_count": 364,
   "metadata": {
    "scrolled": true
   },
   "outputs": [
    {
     "name": "stderr",
     "output_type": "stream",
     "text": [
      "C:\\Users\\if724\\anaconda3\\lib\\site-packages\\pandas\\core\\frame.py:4296: SettingWithCopyWarning: \n",
      "A value is trying to be set on a copy of a slice from a DataFrame\n",
      "\n",
      "See the caveats in the documentation: https://pandas.pydata.org/pandas-docs/stable/user_guide/indexing.html#returning-a-view-versus-a-copy\n",
      "  return super().rename(\n",
      "<ipython-input-364-cb687d1d62e9>:34: SettingWithCopyWarning: \n",
      "A value is trying to be set on a copy of a slice from a DataFrame.\n",
      "Try using .loc[row_indexer,col_indexer] = value instead\n",
      "\n",
      "See the caveats in the documentation: https://pandas.pydata.org/pandas-docs/stable/user_guide/indexing.html#returning-a-view-versus-a-copy\n",
      "  krak_bid['accum_size'] = krak_bid['bid_size'].cumsum()\n"
     ]
    }
   ],
   "source": [
    "for i in range(levels_added.shape[0]):\n",
    "\n",
    "    to_fill = levels_added.iloc[0,:]\n",
    "    \n",
    "    if to_fill['type']=='bid':\n",
    "        # identify order's fee structure\n",
    "        fee_type = 'taker' if to_fill['price'] > bit_ask.iloc[0]['ask'] else 'maker'\n",
    "\n",
    "\n",
    "        if fee_type=='taker':\n",
    "\n",
    "            bit_ask['accum_size'] = bit_ask['ask_size'].cumsum()\n",
    "\n",
    "\n",
    "            vol_to_fill=to_fill['size']\n",
    "\n",
    "            bit_ask['remaining_vol'] = vol_to_fill - bit_ask['accum_size']\n",
    "            to_drop = bit_ask[bit_ask['remaining_vol']>0]\n",
    "\n",
    "            bit_ask.drop(to_drop.index, inplace=True)\n",
    "            bit_ask.reset_index(drop=True, inplace=True)\n",
    "\n",
    "            new_vol = -bit_ask.iloc[0,-1]  # remaing volume on surviving level\n",
    "\n",
    "            bit_ask.iloc[0,1] = new_vol\n",
    "            bit_ask.drop(['accum_size', 'remaining_vol'], axis=1, inplace=True) \n",
    "            bit_ask.reset_index(drop=True, inplace=True)\n",
    "            \n",
    "            levels_added.drop(0, inplace=True)\n",
    "            levels_added.reset_index(drop=True, inplace=True)\n",
    "            \n",
    "            # Hedge trasnaction in orgin exchange (Kraken)\n",
    "            \n",
    "            krak_bid['accum_size'] = krak_bid['bid_size'].cumsum()\n",
    "            krak_bid['remaining_vol'] = vol_to_fill - krak_bid['accum_size']\n",
    "            to_drop = krak_bid[krak_bid['remaining_vol']>0]\n",
    "            \n",
    "            krak_bid.drop(to_drop.index, inplace=True)\n",
    "            krak_bid.reset_index(drop=True, inplace=True)\n",
    "            \n",
    "            new_vol = -krak_bid.iloc[0,-1] # remaing volume on surviving level\n",
    "            \n",
    "            krak_bid.iloc[0,0] = new_vol\n",
    "            krak_bid.drop(['accum_size','remaining_vol'], axis=1, inplace=True)\n",
    "            krak_bid.reset_index(drop=True, inplace=True)\n",
    "            \n",
    "        else:\n",
    "            \n",
    "            bit_bid.rename(columns={'bid_size':'size','bid':'price'}, inplace=True)\n",
    "            \n",
    "            bit_bid = bit_bid.merge(pd.DataFrame(to_fill[['size','price']]).transpose(), \n",
    "                                    on=['size','price'], how='outer'\n",
    "                                   ).sort_values(by='price', ascending=False, ignore_index=True)   \n",
    "            \n",
    "            bit_bid.rename(columns={'size':'bid_size','price':'bid'}, inplace=True)\n",
    "\n",
    "            levels_added.drop(0, inplace=True)\n",
    "            levels_added.reset_index(drop=True, inplace=True)\n",
    "            \n",
    "    else:\n",
    "        \n",
    "        # identify order's fee structure\n",
    "        fee_type = 'taker' if to_fill['price'] < bit_bid.iloc[0]['bid'] else 'maker'            \n",
    "        \n",
    "        if fee_type == 'taker':\n",
    "            \n",
    "            bit_bid['accum_size'] = bit_bid['bid_size'].cumsum()\n",
    "\n",
    "\n",
    "            vol_to_fill = to_fill['size']\n",
    "\n",
    "            bit_bid['remaining_vol'] = vol_to_fill - bit_bid['accum_size']\n",
    "            to_drop = bit_bid[bit_bid['remaining_vol']>0]\n",
    "\n",
    "            bit_bid.drop(to_drop.index, inplace=True)\n",
    "            bit_bid.reset_index(drop=True, inplace=True)\n",
    "\n",
    "            new_vol = -bit_bid.iloc[0,-1] # remaing volume on surviving level\n",
    "\n",
    "            bit_bid.iloc[0,0] = new_vol\n",
    "            bit_bid.drop(['accum_size','remaining_vol'], axis=1, inplace=True)\n",
    "            bit_bid.reset_index(drop=True, inplace=True)\n",
    "            \n",
    "            levels_added.drop(0, inplace=True)\n",
    "            levels_added.reset_index(drop=True, inplace=True)\n",
    "            \n",
    "            # Hedge transaction in origin market (Kraken)\n",
    "            krak_ask['accum_size'] = krak_ask['bid_size'].cumsum()\n",
    "            krak_ask['remaining_vol'] = vol_to_fill - krak_ask['accum_size']\n",
    "            to_drop = krak_ask[krak_ask['remaining_vol']>0]\n",
    "            \n",
    "            krak_ask.drop(to_drop.index, inplace=True)\n",
    "            krak_ask.reset_index(drop=True, inplace=True)\n",
    "            \n",
    "            new_vol = -krak_ask.iloc[0,-1] # remaing volume on surviving level\n",
    "            \n",
    "            krak_ask.iloc[0,1] = new_vol\n",
    "            krak_ask.drop(['accum_size','remaining_vol'], axis=1, inplace=True)\n",
    "            krak_ask.reset_index(drop=True, inplace=True)\n",
    "            \n",
    "            \n",
    "        else:\n",
    "            bit_ask.rename(columns={'ask_size':'size','ask':'price'}, inplace=True)\n",
    "            \n",
    "            bit_ask = bit_ask.merge(pd.DataFrame(to_fill[['price','size']]).transpose(), \n",
    "                                    on=['price','size'], how='outer'\n",
    "                                   ).sort_values(by='price', ascending=True, ignore_index=True) \n",
    "            \n",
    "            bit_ask.rename(columns={'size':'ask_size','price':'ask'}, inplace=True)\n",
    "            \n",
    "            levels_added.drop(0, inplace=True)\n",
    "            levels_added.reset_index(drop=True, inplace=True)"
   ]
  },
  {
   "cell_type": "code",
   "execution_count": 380,
   "metadata": {},
   "outputs": [],
   "source": [
    "bit_ob = pd.concat([bit_bid, bit_ask], axis=1)"
   ]
  },
  {
   "cell_type": "code",
   "execution_count": 412,
   "metadata": {},
   "outputs": [],
   "source": [
    "krak_ask.reset_index(drop=True, inplace=True)\n",
    "krak_ob = pd.concat([krak_bid, krak_ask], axis=1)"
   ]
  },
  {
   "cell_type": "markdown",
   "metadata": {},
   "source": [
    "# Next steps"
   ]
  },
  {
   "cell_type": "markdown",
   "metadata": {},
   "source": [
    "1. Insertar liquidez en OB:\n",
    "\n",
    "    * Proceso de matching engine con ask subsecuente (órdenes límite que crucen el spread hasta que sean agotadas) (taker fee)\n",
    "    * Calcular comisiones cada vez que se empaten órdenes\n",
    "    * Calcular efectos de nuestras órdenes y crear un nuevo Orderbook\n",
    "    \n",
    " \n",
    "2. Comparar OB creado vs OB en siguiente timestamp  \n",
    "\n",
    "    * Obtener diferencias en niveles para validar si se llenaron nuestras órdenes con el siguiente OB (maker fee)\n",
    "\n",
    "\n",
    "3. Incorporar proceso de hedge en origin exchange\n",
    "\n",
    "    * Cada vez que se ejecute una orden en destination, se hae una operación contraria a spot en el origin\n",
    "    \n",
    "    \n",
    "4. Reflejar efectos de hedge en el origin exchange\n",
    "\n",
    "    * Preguntar al profe"
   ]
  }
 ],
 "metadata": {
  "kernelspec": {
   "display_name": "Python 3 (ipykernel)",
   "language": "python",
   "name": "python3"
  },
  "language_info": {
   "codemirror_mode": {
    "name": "ipython",
    "version": 3
   },
   "file_extension": ".py",
   "mimetype": "text/x-python",
   "name": "python",
   "nbconvert_exporter": "python",
   "pygments_lexer": "ipython3",
   "version": "3.9.7"
  }
 },
 "nbformat": 4,
 "nbformat_minor": 4
}
