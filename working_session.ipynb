{
 "cells": [
  {
   "cell_type": "code",
   "execution_count": 1,
   "metadata": {},
   "outputs": [],
   "source": [
    "import pandas as pd, numpy as np\n",
    "import json"
   ]
  },
  {
   "cell_type": "markdown",
   "metadata": {},
   "source": [
    "1. Replicar 100 bps? -> **10 Basis points: dejar como parametro del backtest**\n",
    "2. Determinar origin vs destination exchange -> **Kraken es origin, Bitfinex es destination**\n",
    "3. Como replicar los niveles del origin en el destination (volumen)\n",
    "4. Validar el método para determinar maker/taker fee: iterativo vs estático\n",
    "5. Orden de llenado por tiempo de entrada.\n",
    "6. Evolución de Orderbooks tipo bootstrap."
   ]
  },
  {
   "cell_type": "code",
   "execution_count": 2,
   "metadata": {},
   "outputs": [],
   "source": [
    "# load JSON object\n",
    "f = open(\"orderbooks_05jul21.json\")\n",
    "\n",
    "# return JSON object as dictionary\n",
    "orderbooks_data = json.load(f)\n",
    "ob_bit = orderbooks_data['bitfinex']  # select specific exchange\n",
    "\n",
    "# drop None keys\n",
    "ob_bit = {i_key: i_value for i_key, i_value in ob_bit.items() if i_value is not None}\n",
    "\n",
    "# create Dataframe and rearange columns\n",
    "ob_bit = {i_ob: pd.DataFrame(ob_bit[i_ob])[['bid_size','bid','ask','ask_size']]\n",
    "           if ob_bit[i_ob] is not None else None for i_ob in list(ob_bit.keys())}\n",
    "\n",
    "\n",
    "ob_krak = orderbooks_data['kraken']  # select specific exchange\n",
    "\n",
    "# drop None keys\n",
    "ob_krak = {i_key: i_value for i_key, i_value in ob_krak.items() if i_value is not None}\n",
    "\n",
    "# create Dataframe and rearange columns\n",
    "ob_krak = {i_ob: pd.DataFrame(ob_krak[i_ob])[['bid_size','bid','ask','ask_size']]\n",
    "           if ob_krak[i_ob] is not None else None for i_ob in list(ob_krak.keys())}"
   ]
  },
  {
   "cell_type": "markdown",
   "metadata": {},
   "source": [
    "# Alineacion de timestamps"
   ]
  },
  {
   "cell_type": "code",
   "execution_count": 3,
   "metadata": {},
   "outputs": [
    {
     "data": {
      "text/plain": [
       "('2021-07-05T13:06:49.495Z',\n",
       " '2021-07-05T13:06:46.571Z',\n",
       " '2021-07-05T13:06:47.918Z',\n",
       " '2021-07-05T13:06:49.414Z',\n",
       " '2021-07-05T13:06:51.077Z')"
      ]
     },
     "execution_count": 3,
     "metadata": {},
     "output_type": "execute_result"
    }
   ],
   "source": [
    "list(ob_krak.keys())[0], list(ob_bit.keys())[0], list(ob_bit.keys())[1], list(ob_bit.keys())[2], list(ob_bit.keys())[3]"
   ]
  },
  {
   "cell_type": "code",
   "execution_count": 32,
   "metadata": {},
   "outputs": [
    {
     "data": {
      "text/plain": [
       "[]"
      ]
     },
     "execution_count": 32,
     "metadata": {},
     "output_type": "execute_result"
    }
   ],
   "source": [
    "# filtro  para que destination sea despues de origin\n",
    "aux = sum(pd.to_datetime(pd.Series((ob_bit.keys()))) < pd.to_datetime(pd.Series(ob_krak.keys()))[0])\n",
    "[ob_bit.pop(key) for key in list(ob_bit.keys())[:aux]];"
   ]
  },
  {
   "cell_type": "markdown",
   "metadata": {},
   "source": [
    "# Origin exchange (Kraken)"
   ]
  },
  {
   "cell_type": "code",
   "execution_count": 21,
   "metadata": {},
   "outputs": [
    {
     "data": {
      "text/html": [
       "<div>\n",
       "<style scoped>\n",
       "    .dataframe tbody tr th:only-of-type {\n",
       "        vertical-align: middle;\n",
       "    }\n",
       "\n",
       "    .dataframe tbody tr th {\n",
       "        vertical-align: top;\n",
       "    }\n",
       "\n",
       "    .dataframe thead th {\n",
       "        text-align: right;\n",
       "    }\n",
       "</style>\n",
       "<table border=\"1\" class=\"dataframe\">\n",
       "  <thead>\n",
       "    <tr style=\"text-align: right;\">\n",
       "      <th></th>\n",
       "      <th>bid_size</th>\n",
       "      <th>bid</th>\n",
       "      <th>ask</th>\n",
       "      <th>ask_size</th>\n",
       "    </tr>\n",
       "  </thead>\n",
       "  <tbody>\n",
       "    <tr>\n",
       "      <th>0</th>\n",
       "      <td>0.880</td>\n",
       "      <td>28298.3</td>\n",
       "      <td>28298.4</td>\n",
       "      <td>3.352</td>\n",
       "    </tr>\n",
       "    <tr>\n",
       "      <th>1</th>\n",
       "      <td>0.350</td>\n",
       "      <td>28293.9</td>\n",
       "      <td>28300.0</td>\n",
       "      <td>0.020</td>\n",
       "    </tr>\n",
       "    <tr>\n",
       "      <th>2</th>\n",
       "      <td>0.377</td>\n",
       "      <td>28293.5</td>\n",
       "      <td>28305.4</td>\n",
       "      <td>0.074</td>\n",
       "    </tr>\n",
       "  </tbody>\n",
       "</table>\n",
       "</div>"
      ],
      "text/plain": [
       "   bid_size      bid      ask  ask_size\n",
       "0     0.880  28298.3  28298.4     3.352\n",
       "1     0.350  28293.9  28300.0     0.020\n",
       "2     0.377  28293.5  28305.4     0.074"
      ]
     },
     "metadata": {},
     "output_type": "display_data"
    },
    {
     "data": {
      "text/plain": [
       "28298.35"
      ]
     },
     "execution_count": 21,
     "metadata": {},
     "output_type": "execute_result"
    }
   ],
   "source": [
    "# OB 1\n",
    "df_krak = ob_krak[list(ob_krak.keys())[0]]\n",
    "# midprice\n",
    "mid_krak = (df_krak['bid'][0]+df_krak['ask'][0])/2\n",
    "display(df_krak.head(3))\n",
    "mid_krak"
   ]
  },
  {
   "cell_type": "code",
   "execution_count": 22,
   "metadata": {},
   "outputs": [
    {
     "data": {
      "text/plain": [
       "(28015.3665, 28581.333499999997)"
      ]
     },
     "execution_count": 22,
     "metadata": {},
     "output_type": "execute_result"
    }
   ],
   "source": [
    "upper_krak = mid_krak*1.01\n",
    "lower_krak = mid_krak*0.99\n",
    "(lower_krak, upper_krak)"
   ]
  },
  {
   "cell_type": "code",
   "execution_count": 23,
   "metadata": {
    "scrolled": false
   },
   "outputs": [],
   "source": [
    "bids_krak = df_krak[df_krak['bid']>lower_krak][['bid','bid_size']]\n",
    "asks_krak = df_krak[df_krak['ask']<upper_krak][['ask','ask_size']]"
   ]
  },
  {
   "cell_type": "code",
   "execution_count": 24,
   "metadata": {},
   "outputs": [
    {
     "data": {
      "text/plain": [
       "[(100, 4), (100, 2), (100, 2)]"
      ]
     },
     "execution_count": 24,
     "metadata": {},
     "output_type": "execute_result"
    }
   ],
   "source": [
    "[d.shape for d in [df_krak, bids_krak, asks_krak]]"
   ]
  },
  {
   "cell_type": "code",
   "execution_count": 44,
   "metadata": {
    "scrolled": true
   },
   "outputs": [],
   "source": [
    "levels = pd.concat([bids_krak, asks_krak], axis=1)"
   ]
  },
  {
   "cell_type": "code",
   "execution_count": 110,
   "metadata": {},
   "outputs": [
    {
     "data": {
      "text/html": [
       "<div>\n",
       "<style scoped>\n",
       "    .dataframe tbody tr th:only-of-type {\n",
       "        vertical-align: middle;\n",
       "    }\n",
       "\n",
       "    .dataframe tbody tr th {\n",
       "        vertical-align: top;\n",
       "    }\n",
       "\n",
       "    .dataframe thead th {\n",
       "        text-align: right;\n",
       "    }\n",
       "</style>\n",
       "<table border=\"1\" class=\"dataframe\">\n",
       "  <thead>\n",
       "    <tr style=\"text-align: right;\">\n",
       "      <th></th>\n",
       "      <th>bid</th>\n",
       "      <th>bid_size</th>\n",
       "      <th>ask</th>\n",
       "      <th>ask_size</th>\n",
       "    </tr>\n",
       "  </thead>\n",
       "  <tbody>\n",
       "    <tr>\n",
       "      <th>0</th>\n",
       "      <td>28298.3</td>\n",
       "      <td>0.880</td>\n",
       "      <td>28298.4</td>\n",
       "      <td>3.352</td>\n",
       "    </tr>\n",
       "    <tr>\n",
       "      <th>1</th>\n",
       "      <td>28293.9</td>\n",
       "      <td>0.350</td>\n",
       "      <td>28300.0</td>\n",
       "      <td>0.020</td>\n",
       "    </tr>\n",
       "    <tr>\n",
       "      <th>2</th>\n",
       "      <td>28293.5</td>\n",
       "      <td>0.377</td>\n",
       "      <td>28305.4</td>\n",
       "      <td>0.074</td>\n",
       "    </tr>\n",
       "    <tr>\n",
       "      <th>3</th>\n",
       "      <td>28292.2</td>\n",
       "      <td>0.011</td>\n",
       "      <td>28305.5</td>\n",
       "      <td>0.123</td>\n",
       "    </tr>\n",
       "    <tr>\n",
       "      <th>4</th>\n",
       "      <td>28292.0</td>\n",
       "      <td>1.221</td>\n",
       "      <td>28307.3</td>\n",
       "      <td>0.204</td>\n",
       "    </tr>\n",
       "    <tr>\n",
       "      <th>...</th>\n",
       "      <td>...</td>\n",
       "      <td>...</td>\n",
       "      <td>...</td>\n",
       "      <td>...</td>\n",
       "    </tr>\n",
       "    <tr>\n",
       "      <th>95</th>\n",
       "      <td>28179.1</td>\n",
       "      <td>3.726</td>\n",
       "      <td>28430.4</td>\n",
       "      <td>0.001</td>\n",
       "    </tr>\n",
       "    <tr>\n",
       "      <th>96</th>\n",
       "      <td>28178.9</td>\n",
       "      <td>3.059</td>\n",
       "      <td>28431.0</td>\n",
       "      <td>0.001</td>\n",
       "    </tr>\n",
       "    <tr>\n",
       "      <th>97</th>\n",
       "      <td>28169.6</td>\n",
       "      <td>3.733</td>\n",
       "      <td>28431.8</td>\n",
       "      <td>3.840</td>\n",
       "    </tr>\n",
       "    <tr>\n",
       "      <th>98</th>\n",
       "      <td>28168.2</td>\n",
       "      <td>2.756</td>\n",
       "      <td>28432.1</td>\n",
       "      <td>3.032</td>\n",
       "    </tr>\n",
       "    <tr>\n",
       "      <th>99</th>\n",
       "      <td>28167.8</td>\n",
       "      <td>2.498</td>\n",
       "      <td>28446.7</td>\n",
       "      <td>4.470</td>\n",
       "    </tr>\n",
       "  </tbody>\n",
       "</table>\n",
       "<p>100 rows × 4 columns</p>\n",
       "</div>"
      ],
      "text/plain": [
       "        bid  bid_size      ask  ask_size\n",
       "0   28298.3     0.880  28298.4     3.352\n",
       "1   28293.9     0.350  28300.0     0.020\n",
       "2   28293.5     0.377  28305.4     0.074\n",
       "3   28292.2     0.011  28305.5     0.123\n",
       "4   28292.0     1.221  28307.3     0.204\n",
       "..      ...       ...      ...       ...\n",
       "95  28179.1     3.726  28430.4     0.001\n",
       "96  28178.9     3.059  28431.0     0.001\n",
       "97  28169.6     3.733  28431.8     3.840\n",
       "98  28168.2     2.756  28432.1     3.032\n",
       "99  28167.8     2.498  28446.7     4.470\n",
       "\n",
       "[100 rows x 4 columns]"
      ]
     },
     "execution_count": 110,
     "metadata": {},
     "output_type": "execute_result"
    }
   ],
   "source": [
    "levels"
   ]
  },
  {
   "cell_type": "markdown",
   "metadata": {},
   "source": [
    "# Destination exchange (Bitfinex)"
   ]
  },
  {
   "cell_type": "code",
   "execution_count": 15,
   "metadata": {},
   "outputs": [
    {
     "data": {
      "text/html": [
       "<div>\n",
       "<style scoped>\n",
       "    .dataframe tbody tr th:only-of-type {\n",
       "        vertical-align: middle;\n",
       "    }\n",
       "\n",
       "    .dataframe tbody tr th {\n",
       "        vertical-align: top;\n",
       "    }\n",
       "\n",
       "    .dataframe thead th {\n",
       "        text-align: right;\n",
       "    }\n",
       "</style>\n",
       "<table border=\"1\" class=\"dataframe\">\n",
       "  <thead>\n",
       "    <tr style=\"text-align: right;\">\n",
       "      <th></th>\n",
       "      <th>bid_size</th>\n",
       "      <th>bid</th>\n",
       "      <th>ask</th>\n",
       "      <th>ask_size</th>\n",
       "    </tr>\n",
       "  </thead>\n",
       "  <tbody>\n",
       "    <tr>\n",
       "      <th>0</th>\n",
       "      <td>14.605659</td>\n",
       "      <td>28275.0</td>\n",
       "      <td>28278.0</td>\n",
       "      <td>0.011063</td>\n",
       "    </tr>\n",
       "    <tr>\n",
       "      <th>1</th>\n",
       "      <td>0.005124</td>\n",
       "      <td>28273.0</td>\n",
       "      <td>28279.0</td>\n",
       "      <td>0.006000</td>\n",
       "    </tr>\n",
       "    <tr>\n",
       "      <th>2</th>\n",
       "      <td>0.010158</td>\n",
       "      <td>28272.0</td>\n",
       "      <td>28280.0</td>\n",
       "      <td>0.100000</td>\n",
       "    </tr>\n",
       "  </tbody>\n",
       "</table>\n",
       "</div>"
      ],
      "text/plain": [
       "    bid_size      bid      ask  ask_size\n",
       "0  14.605659  28275.0  28278.0  0.011063\n",
       "1   0.005124  28273.0  28279.0  0.006000\n",
       "2   0.010158  28272.0  28280.0  0.100000"
      ]
     },
     "metadata": {},
     "output_type": "display_data"
    },
    {
     "data": {
      "text/plain": [
       "28276.5"
      ]
     },
     "execution_count": 15,
     "metadata": {},
     "output_type": "execute_result"
    }
   ],
   "source": [
    "# OB 1\n",
    "df_bit = ob_bit[list(ob_bit.keys())[0]]\n",
    "# midprice\n",
    "mid_bit = (df_bit['bid'][0]+df_bit['ask'][0])/2\n",
    "display(df_bit.head(3))\n",
    "mid_bit"
   ]
  },
  {
   "cell_type": "code",
   "execution_count": 16,
   "metadata": {},
   "outputs": [
    {
     "data": {
      "text/plain": [
       "(28248.2235, 28304.776499999996)"
      ]
     },
     "execution_count": 16,
     "metadata": {},
     "output_type": "execute_result"
    }
   ],
   "source": [
    "upper_bit = mid_bit*1.001\n",
    "lower_bit = mid_bit*0.999\n",
    "(lower_bit, upper_bit)"
   ]
  },
  {
   "cell_type": "code",
   "execution_count": 17,
   "metadata": {},
   "outputs": [],
   "source": [
    "bids_bit = df_bit[df_bit['bid']>lower_bit][['bid','bid_size']]\n",
    "asks_bit = df_bit[df_bit['ask']<upper_bit][['ask','ask_size']]"
   ]
  },
  {
   "cell_type": "code",
   "execution_count": 18,
   "metadata": {
    "scrolled": true
   },
   "outputs": [
    {
     "data": {
      "text/plain": [
       "[(25, 4), (21, 2), (25, 2)]"
      ]
     },
     "execution_count": 18,
     "metadata": {},
     "output_type": "execute_result"
    }
   ],
   "source": [
    "[d.shape for d in [df_bit, bids_bit, asks_bit]]"
   ]
  },
  {
   "cell_type": "code",
   "execution_count": 29,
   "metadata": {
    "scrolled": true
   },
   "outputs": [
    {
     "data": {
      "text/html": [
       "<div>\n",
       "<style scoped>\n",
       "    .dataframe tbody tr th:only-of-type {\n",
       "        vertical-align: middle;\n",
       "    }\n",
       "\n",
       "    .dataframe tbody tr th {\n",
       "        vertical-align: top;\n",
       "    }\n",
       "\n",
       "    .dataframe thead th {\n",
       "        text-align: right;\n",
       "    }\n",
       "</style>\n",
       "<table border=\"1\" class=\"dataframe\">\n",
       "  <thead>\n",
       "    <tr style=\"text-align: right;\">\n",
       "      <th></th>\n",
       "      <th>bid_size</th>\n",
       "      <th>bid</th>\n",
       "      <th>ask</th>\n",
       "      <th>ask_size</th>\n",
       "    </tr>\n",
       "  </thead>\n",
       "  <tbody>\n",
       "    <tr>\n",
       "      <th>0</th>\n",
       "      <td>14.605659</td>\n",
       "      <td>28275.0</td>\n",
       "      <td>28278.0</td>\n",
       "      <td>0.011063</td>\n",
       "    </tr>\n",
       "    <tr>\n",
       "      <th>1</th>\n",
       "      <td>0.005124</td>\n",
       "      <td>28273.0</td>\n",
       "      <td>28279.0</td>\n",
       "      <td>0.006000</td>\n",
       "    </tr>\n",
       "    <tr>\n",
       "      <th>2</th>\n",
       "      <td>0.010158</td>\n",
       "      <td>28272.0</td>\n",
       "      <td>28280.0</td>\n",
       "      <td>0.100000</td>\n",
       "    </tr>\n",
       "    <tr>\n",
       "      <th>3</th>\n",
       "      <td>0.003000</td>\n",
       "      <td>28268.0</td>\n",
       "      <td>28281.0</td>\n",
       "      <td>0.050000</td>\n",
       "    </tr>\n",
       "    <tr>\n",
       "      <th>4</th>\n",
       "      <td>1.581528</td>\n",
       "      <td>28266.0</td>\n",
       "      <td>28282.0</td>\n",
       "      <td>0.323781</td>\n",
       "    </tr>\n",
       "    <tr>\n",
       "      <th>5</th>\n",
       "      <td>2.000887</td>\n",
       "      <td>28265.0</td>\n",
       "      <td>28283.0</td>\n",
       "      <td>1.580312</td>\n",
       "    </tr>\n",
       "    <tr>\n",
       "      <th>6</th>\n",
       "      <td>1.309362</td>\n",
       "      <td>28264.0</td>\n",
       "      <td>28284.0</td>\n",
       "      <td>0.353892</td>\n",
       "    </tr>\n",
       "    <tr>\n",
       "      <th>7</th>\n",
       "      <td>0.133730</td>\n",
       "      <td>28263.0</td>\n",
       "      <td>28285.0</td>\n",
       "      <td>1.053899</td>\n",
       "    </tr>\n",
       "    <tr>\n",
       "      <th>8</th>\n",
       "      <td>0.596041</td>\n",
       "      <td>28262.0</td>\n",
       "      <td>28286.0</td>\n",
       "      <td>0.950994</td>\n",
       "    </tr>\n",
       "    <tr>\n",
       "      <th>9</th>\n",
       "      <td>0.188323</td>\n",
       "      <td>28260.0</td>\n",
       "      <td>28287.0</td>\n",
       "      <td>0.157200</td>\n",
       "    </tr>\n",
       "    <tr>\n",
       "      <th>10</th>\n",
       "      <td>0.358209</td>\n",
       "      <td>28259.0</td>\n",
       "      <td>28288.0</td>\n",
       "      <td>0.897227</td>\n",
       "    </tr>\n",
       "    <tr>\n",
       "      <th>11</th>\n",
       "      <td>1.051923</td>\n",
       "      <td>28258.0</td>\n",
       "      <td>28289.0</td>\n",
       "      <td>3.415934</td>\n",
       "    </tr>\n",
       "    <tr>\n",
       "      <th>12</th>\n",
       "      <td>1.170556</td>\n",
       "      <td>28257.0</td>\n",
       "      <td>28290.0</td>\n",
       "      <td>1.595676</td>\n",
       "    </tr>\n",
       "    <tr>\n",
       "      <th>13</th>\n",
       "      <td>0.608010</td>\n",
       "      <td>28256.0</td>\n",
       "      <td>28291.0</td>\n",
       "      <td>0.263632</td>\n",
       "    </tr>\n",
       "    <tr>\n",
       "      <th>14</th>\n",
       "      <td>1.590167</td>\n",
       "      <td>28255.0</td>\n",
       "      <td>28292.0</td>\n",
       "      <td>4.135413</td>\n",
       "    </tr>\n",
       "    <tr>\n",
       "      <th>15</th>\n",
       "      <td>0.521453</td>\n",
       "      <td>28254.0</td>\n",
       "      <td>28293.0</td>\n",
       "      <td>0.867221</td>\n",
       "    </tr>\n",
       "    <tr>\n",
       "      <th>16</th>\n",
       "      <td>0.911672</td>\n",
       "      <td>28253.0</td>\n",
       "      <td>28294.0</td>\n",
       "      <td>2.935248</td>\n",
       "    </tr>\n",
       "    <tr>\n",
       "      <th>17</th>\n",
       "      <td>1.489654</td>\n",
       "      <td>28252.0</td>\n",
       "      <td>28295.0</td>\n",
       "      <td>1.066304</td>\n",
       "    </tr>\n",
       "    <tr>\n",
       "      <th>18</th>\n",
       "      <td>0.838510</td>\n",
       "      <td>28251.0</td>\n",
       "      <td>28296.0</td>\n",
       "      <td>5.424052</td>\n",
       "    </tr>\n",
       "    <tr>\n",
       "      <th>19</th>\n",
       "      <td>0.538499</td>\n",
       "      <td>28250.0</td>\n",
       "      <td>28297.0</td>\n",
       "      <td>0.110386</td>\n",
       "    </tr>\n",
       "    <tr>\n",
       "      <th>20</th>\n",
       "      <td>0.104014</td>\n",
       "      <td>28249.0</td>\n",
       "      <td>28298.0</td>\n",
       "      <td>2.192474</td>\n",
       "    </tr>\n",
       "    <tr>\n",
       "      <th>21</th>\n",
       "      <td>0.398931</td>\n",
       "      <td>28248.0</td>\n",
       "      <td>28299.0</td>\n",
       "      <td>5.516191</td>\n",
       "    </tr>\n",
       "    <tr>\n",
       "      <th>22</th>\n",
       "      <td>0.679222</td>\n",
       "      <td>28247.0</td>\n",
       "      <td>28300.0</td>\n",
       "      <td>0.802599</td>\n",
       "    </tr>\n",
       "    <tr>\n",
       "      <th>23</th>\n",
       "      <td>0.247520</td>\n",
       "      <td>28245.0</td>\n",
       "      <td>28301.0</td>\n",
       "      <td>0.203518</td>\n",
       "    </tr>\n",
       "    <tr>\n",
       "      <th>24</th>\n",
       "      <td>5.321163</td>\n",
       "      <td>28244.0</td>\n",
       "      <td>28302.0</td>\n",
       "      <td>2.916168</td>\n",
       "    </tr>\n",
       "  </tbody>\n",
       "</table>\n",
       "</div>"
      ],
      "text/plain": [
       "     bid_size      bid      ask  ask_size\n",
       "0   14.605659  28275.0  28278.0  0.011063\n",
       "1    0.005124  28273.0  28279.0  0.006000\n",
       "2    0.010158  28272.0  28280.0  0.100000\n",
       "3    0.003000  28268.0  28281.0  0.050000\n",
       "4    1.581528  28266.0  28282.0  0.323781\n",
       "5    2.000887  28265.0  28283.0  1.580312\n",
       "6    1.309362  28264.0  28284.0  0.353892\n",
       "7    0.133730  28263.0  28285.0  1.053899\n",
       "8    0.596041  28262.0  28286.0  0.950994\n",
       "9    0.188323  28260.0  28287.0  0.157200\n",
       "10   0.358209  28259.0  28288.0  0.897227\n",
       "11   1.051923  28258.0  28289.0  3.415934\n",
       "12   1.170556  28257.0  28290.0  1.595676\n",
       "13   0.608010  28256.0  28291.0  0.263632\n",
       "14   1.590167  28255.0  28292.0  4.135413\n",
       "15   0.521453  28254.0  28293.0  0.867221\n",
       "16   0.911672  28253.0  28294.0  2.935248\n",
       "17   1.489654  28252.0  28295.0  1.066304\n",
       "18   0.838510  28251.0  28296.0  5.424052\n",
       "19   0.538499  28250.0  28297.0  0.110386\n",
       "20   0.104014  28249.0  28298.0  2.192474\n",
       "21   0.398931  28248.0  28299.0  5.516191\n",
       "22   0.679222  28247.0  28300.0  0.802599\n",
       "23   0.247520  28245.0  28301.0  0.203518\n",
       "24   5.321163  28244.0  28302.0  2.916168"
      ]
     },
     "execution_count": 29,
     "metadata": {},
     "output_type": "execute_result"
    }
   ],
   "source": [
    "df_bit"
   ]
  },
  {
   "cell_type": "markdown",
   "metadata": {},
   "source": [
    "# Añadir niveles a destination"
   ]
  },
  {
   "cell_type": "code",
   "execution_count": 101,
   "metadata": {},
   "outputs": [],
   "source": [
    "new_df = df_bit.append(levels).reset_index(drop=True)"
   ]
  },
  {
   "cell_type": "code",
   "execution_count": 124,
   "metadata": {
    "scrolled": true
   },
   "outputs": [
    {
     "data": {
      "text/plain": [
       "0      0.011063\n",
       "1      0.006000\n",
       "2      0.100000\n",
       "3      0.050000\n",
       "4      0.323781\n",
       "         ...   \n",
       "120    0.001000\n",
       "121    0.001000\n",
       "122    3.840000\n",
       "123    3.032000\n",
       "124    4.470000\n",
       "Name: ask_size, Length: 125, dtype: float64"
      ]
     },
     "execution_count": 124,
     "metadata": {},
     "output_type": "execute_result"
    }
   ],
   "source": [
    "new_df['ask_size']"
   ]
  },
  {
   "cell_type": "code",
   "execution_count": 123,
   "metadata": {},
   "outputs": [
    {
     "data": {
      "text/html": [
       "<div>\n",
       "<style scoped>\n",
       "    .dataframe tbody tr th:only-of-type {\n",
       "        vertical-align: middle;\n",
       "    }\n",
       "\n",
       "    .dataframe tbody tr th {\n",
       "        vertical-align: top;\n",
       "    }\n",
       "\n",
       "    .dataframe thead th {\n",
       "        text-align: right;\n",
       "    }\n",
       "</style>\n",
       "<table border=\"1\" class=\"dataframe\">\n",
       "  <thead>\n",
       "    <tr style=\"text-align: right;\">\n",
       "      <th></th>\n",
       "      <th>bid_size</th>\n",
       "      <th>bid</th>\n",
       "      <th>ask</th>\n",
       "      <th>ask_size</th>\n",
       "    </tr>\n",
       "  </thead>\n",
       "  <tbody>\n",
       "    <tr>\n",
       "      <th>0</th>\n",
       "      <td>0.880</td>\n",
       "      <td>28298.3</td>\n",
       "      <td>28278.0</td>\n",
       "      <td>0.011063</td>\n",
       "    </tr>\n",
       "    <tr>\n",
       "      <th>1</th>\n",
       "      <td>0.350</td>\n",
       "      <td>28293.9</td>\n",
       "      <td>28279.0</td>\n",
       "      <td>0.006000</td>\n",
       "    </tr>\n",
       "    <tr>\n",
       "      <th>2</th>\n",
       "      <td>0.377</td>\n",
       "      <td>28293.5</td>\n",
       "      <td>28280.0</td>\n",
       "      <td>0.100000</td>\n",
       "    </tr>\n",
       "    <tr>\n",
       "      <th>3</th>\n",
       "      <td>0.011</td>\n",
       "      <td>28292.2</td>\n",
       "      <td>28281.0</td>\n",
       "      <td>0.050000</td>\n",
       "    </tr>\n",
       "    <tr>\n",
       "      <th>4</th>\n",
       "      <td>1.221</td>\n",
       "      <td>28292.0</td>\n",
       "      <td>28282.0</td>\n",
       "      <td>0.323781</td>\n",
       "    </tr>\n",
       "    <tr>\n",
       "      <th>...</th>\n",
       "      <td>...</td>\n",
       "      <td>...</td>\n",
       "      <td>...</td>\n",
       "      <td>...</td>\n",
       "    </tr>\n",
       "    <tr>\n",
       "      <th>120</th>\n",
       "      <td>3.726</td>\n",
       "      <td>28179.1</td>\n",
       "      <td>28430.4</td>\n",
       "      <td>0.001000</td>\n",
       "    </tr>\n",
       "    <tr>\n",
       "      <th>121</th>\n",
       "      <td>3.059</td>\n",
       "      <td>28178.9</td>\n",
       "      <td>28431.0</td>\n",
       "      <td>0.001000</td>\n",
       "    </tr>\n",
       "    <tr>\n",
       "      <th>122</th>\n",
       "      <td>3.733</td>\n",
       "      <td>28169.6</td>\n",
       "      <td>28431.8</td>\n",
       "      <td>3.840000</td>\n",
       "    </tr>\n",
       "    <tr>\n",
       "      <th>123</th>\n",
       "      <td>2.756</td>\n",
       "      <td>28168.2</td>\n",
       "      <td>28432.1</td>\n",
       "      <td>3.032000</td>\n",
       "    </tr>\n",
       "    <tr>\n",
       "      <th>124</th>\n",
       "      <td>2.498</td>\n",
       "      <td>28167.8</td>\n",
       "      <td>28446.7</td>\n",
       "      <td>4.470000</td>\n",
       "    </tr>\n",
       "  </tbody>\n",
       "</table>\n",
       "<p>125 rows × 4 columns</p>\n",
       "</div>"
      ],
      "text/plain": [
       "     bid_size      bid      ask  ask_size\n",
       "0       0.880  28298.3  28278.0  0.011063\n",
       "1       0.350  28293.9  28279.0  0.006000\n",
       "2       0.377  28293.5  28280.0  0.100000\n",
       "3       0.011  28292.2  28281.0  0.050000\n",
       "4       1.221  28292.0  28282.0  0.323781\n",
       "..        ...      ...      ...       ...\n",
       "120     3.726  28179.1  28430.4  0.001000\n",
       "121     3.059  28178.9  28431.0  0.001000\n",
       "122     3.733  28169.6  28431.8  3.840000\n",
       "123     2.756  28168.2  28432.1  3.032000\n",
       "124     2.498  28167.8  28446.7  4.470000\n",
       "\n",
       "[125 rows x 4 columns]"
      ]
     },
     "execution_count": 123,
     "metadata": {},
     "output_type": "execute_result"
    }
   ],
   "source": [
    "new_df"
   ]
  },
  {
   "cell_type": "code",
   "execution_count": 106,
   "metadata": {
    "scrolled": true
   },
   "outputs": [],
   "source": [
    "new_df = pd.concat([new_df[['bid_size', 'bid']].sort_values('bid', ascending=False).reset_index(drop=True), \n",
    "                   new_df[['ask', 'ask_size']].sort_values('ask', ascending=True).reset_index(drop=True)],\n",
    "                   axis=1)"
   ]
  },
  {
   "cell_type": "code",
   "execution_count": 125,
   "metadata": {},
   "outputs": [
    {
     "data": {
      "text/html": [
       "<div>\n",
       "<style scoped>\n",
       "    .dataframe tbody tr th:only-of-type {\n",
       "        vertical-align: middle;\n",
       "    }\n",
       "\n",
       "    .dataframe tbody tr th {\n",
       "        vertical-align: top;\n",
       "    }\n",
       "\n",
       "    .dataframe thead th {\n",
       "        text-align: right;\n",
       "    }\n",
       "</style>\n",
       "<table border=\"1\" class=\"dataframe\">\n",
       "  <thead>\n",
       "    <tr style=\"text-align: right;\">\n",
       "      <th></th>\n",
       "      <th>bid_size</th>\n",
       "      <th>bid</th>\n",
       "      <th>ask</th>\n",
       "      <th>ask_size</th>\n",
       "    </tr>\n",
       "  </thead>\n",
       "  <tbody>\n",
       "    <tr>\n",
       "      <th>0</th>\n",
       "      <td>0.880</td>\n",
       "      <td>28298.3</td>\n",
       "      <td>28278.0</td>\n",
       "      <td>0.011063</td>\n",
       "    </tr>\n",
       "    <tr>\n",
       "      <th>1</th>\n",
       "      <td>0.350</td>\n",
       "      <td>28293.9</td>\n",
       "      <td>28279.0</td>\n",
       "      <td>0.006000</td>\n",
       "    </tr>\n",
       "    <tr>\n",
       "      <th>2</th>\n",
       "      <td>0.377</td>\n",
       "      <td>28293.5</td>\n",
       "      <td>28280.0</td>\n",
       "      <td>0.100000</td>\n",
       "    </tr>\n",
       "    <tr>\n",
       "      <th>3</th>\n",
       "      <td>0.011</td>\n",
       "      <td>28292.2</td>\n",
       "      <td>28281.0</td>\n",
       "      <td>0.050000</td>\n",
       "    </tr>\n",
       "    <tr>\n",
       "      <th>4</th>\n",
       "      <td>1.221</td>\n",
       "      <td>28292.0</td>\n",
       "      <td>28282.0</td>\n",
       "      <td>0.323781</td>\n",
       "    </tr>\n",
       "    <tr>\n",
       "      <th>...</th>\n",
       "      <td>...</td>\n",
       "      <td>...</td>\n",
       "      <td>...</td>\n",
       "      <td>...</td>\n",
       "    </tr>\n",
       "    <tr>\n",
       "      <th>120</th>\n",
       "      <td>3.726</td>\n",
       "      <td>28179.1</td>\n",
       "      <td>28430.4</td>\n",
       "      <td>0.001000</td>\n",
       "    </tr>\n",
       "    <tr>\n",
       "      <th>121</th>\n",
       "      <td>3.059</td>\n",
       "      <td>28178.9</td>\n",
       "      <td>28431.0</td>\n",
       "      <td>0.001000</td>\n",
       "    </tr>\n",
       "    <tr>\n",
       "      <th>122</th>\n",
       "      <td>3.733</td>\n",
       "      <td>28169.6</td>\n",
       "      <td>28431.8</td>\n",
       "      <td>3.840000</td>\n",
       "    </tr>\n",
       "    <tr>\n",
       "      <th>123</th>\n",
       "      <td>2.756</td>\n",
       "      <td>28168.2</td>\n",
       "      <td>28432.1</td>\n",
       "      <td>3.032000</td>\n",
       "    </tr>\n",
       "    <tr>\n",
       "      <th>124</th>\n",
       "      <td>2.498</td>\n",
       "      <td>28167.8</td>\n",
       "      <td>28446.7</td>\n",
       "      <td>4.470000</td>\n",
       "    </tr>\n",
       "  </tbody>\n",
       "</table>\n",
       "<p>125 rows × 4 columns</p>\n",
       "</div>"
      ],
      "text/plain": [
       "     bid_size      bid      ask  ask_size\n",
       "0       0.880  28298.3  28278.0  0.011063\n",
       "1       0.350  28293.9  28279.0  0.006000\n",
       "2       0.377  28293.5  28280.0  0.100000\n",
       "3       0.011  28292.2  28281.0  0.050000\n",
       "4       1.221  28292.0  28282.0  0.323781\n",
       "..        ...      ...      ...       ...\n",
       "120     3.726  28179.1  28430.4  0.001000\n",
       "121     3.059  28178.9  28431.0  0.001000\n",
       "122     3.733  28169.6  28431.8  3.840000\n",
       "123     2.756  28168.2  28432.1  3.032000\n",
       "124     2.498  28167.8  28446.7  4.470000\n",
       "\n",
       "[125 rows x 4 columns]"
      ]
     },
     "execution_count": 125,
     "metadata": {},
     "output_type": "execute_result"
    }
   ],
   "source": [
    "new_df"
   ]
  },
  {
   "cell_type": "markdown",
   "metadata": {},
   "source": [
    "# Efectos en OB destination"
   ]
  },
  {
   "cell_type": "code",
   "execution_count": 128,
   "metadata": {
    "scrolled": true
   },
   "outputs": [],
   "source": [
    "#flags['maker' if bid<mid_bit else 'taker' for bid in levels['bid']]"
   ]
  },
  {
   "cell_type": "code",
   "execution_count": 129,
   "metadata": {},
   "outputs": [
    {
     "data": {
      "text/html": [
       "<div>\n",
       "<style scoped>\n",
       "    .dataframe tbody tr th:only-of-type {\n",
       "        vertical-align: middle;\n",
       "    }\n",
       "\n",
       "    .dataframe tbody tr th {\n",
       "        vertical-align: top;\n",
       "    }\n",
       "\n",
       "    .dataframe thead th {\n",
       "        text-align: right;\n",
       "    }\n",
       "</style>\n",
       "<table border=\"1\" class=\"dataframe\">\n",
       "  <thead>\n",
       "    <tr style=\"text-align: right;\">\n",
       "      <th></th>\n",
       "      <th>bid</th>\n",
       "      <th>bid_size</th>\n",
       "      <th>ask</th>\n",
       "      <th>ask_size</th>\n",
       "    </tr>\n",
       "  </thead>\n",
       "  <tbody>\n",
       "    <tr>\n",
       "      <th>0</th>\n",
       "      <td>28298.3</td>\n",
       "      <td>0.880</td>\n",
       "      <td>28298.4</td>\n",
       "      <td>3.352</td>\n",
       "    </tr>\n",
       "    <tr>\n",
       "      <th>1</th>\n",
       "      <td>28293.9</td>\n",
       "      <td>0.350</td>\n",
       "      <td>28300.0</td>\n",
       "      <td>0.020</td>\n",
       "    </tr>\n",
       "    <tr>\n",
       "      <th>2</th>\n",
       "      <td>28293.5</td>\n",
       "      <td>0.377</td>\n",
       "      <td>28305.4</td>\n",
       "      <td>0.074</td>\n",
       "    </tr>\n",
       "  </tbody>\n",
       "</table>\n",
       "</div>"
      ],
      "text/plain": [
       "       bid  bid_size      ask  ask_size\n",
       "0  28298.3     0.880  28298.4     3.352\n",
       "1  28293.9     0.350  28300.0     0.020\n",
       "2  28293.5     0.377  28305.4     0.074"
      ]
     },
     "execution_count": 129,
     "metadata": {},
     "output_type": "execute_result"
    }
   ],
   "source": [
    "levels.head(3)"
   ]
  },
  {
   "cell_type": "code",
   "execution_count": 132,
   "metadata": {
    "scrolled": true
   },
   "outputs": [
    {
     "data": {
      "text/plain": [
       "0.88"
      ]
     },
     "execution_count": 132,
     "metadata": {},
     "output_type": "execute_result"
    }
   ],
   "source": [
    "levels['bid_size'][0]"
   ]
  },
  {
   "cell_type": "code",
   "execution_count": 140,
   "metadata": {},
   "outputs": [
    {
     "data": {
      "text/html": [
       "<div>\n",
       "<style scoped>\n",
       "    .dataframe tbody tr th:only-of-type {\n",
       "        vertical-align: middle;\n",
       "    }\n",
       "\n",
       "    .dataframe tbody tr th {\n",
       "        vertical-align: top;\n",
       "    }\n",
       "\n",
       "    .dataframe thead th {\n",
       "        text-align: right;\n",
       "    }\n",
       "</style>\n",
       "<table border=\"1\" class=\"dataframe\">\n",
       "  <thead>\n",
       "    <tr style=\"text-align: right;\">\n",
       "      <th></th>\n",
       "      <th>bid_size</th>\n",
       "      <th>bid</th>\n",
       "      <th>ask</th>\n",
       "      <th>ask_size</th>\n",
       "    </tr>\n",
       "  </thead>\n",
       "  <tbody>\n",
       "    <tr>\n",
       "      <th>0</th>\n",
       "      <td>14.605659</td>\n",
       "      <td>28275.0</td>\n",
       "      <td>28278.0</td>\n",
       "      <td>0.011063</td>\n",
       "    </tr>\n",
       "    <tr>\n",
       "      <th>1</th>\n",
       "      <td>0.005124</td>\n",
       "      <td>28273.0</td>\n",
       "      <td>28279.0</td>\n",
       "      <td>0.006000</td>\n",
       "    </tr>\n",
       "    <tr>\n",
       "      <th>2</th>\n",
       "      <td>0.010158</td>\n",
       "      <td>28272.0</td>\n",
       "      <td>28280.0</td>\n",
       "      <td>0.100000</td>\n",
       "    </tr>\n",
       "    <tr>\n",
       "      <th>3</th>\n",
       "      <td>0.003000</td>\n",
       "      <td>28268.0</td>\n",
       "      <td>28281.0</td>\n",
       "      <td>0.050000</td>\n",
       "    </tr>\n",
       "    <tr>\n",
       "      <th>4</th>\n",
       "      <td>1.581528</td>\n",
       "      <td>28266.0</td>\n",
       "      <td>28282.0</td>\n",
       "      <td>0.323781</td>\n",
       "    </tr>\n",
       "    <tr>\n",
       "      <th>5</th>\n",
       "      <td>2.000887</td>\n",
       "      <td>28265.0</td>\n",
       "      <td>28283.0</td>\n",
       "      <td>1.580312</td>\n",
       "    </tr>\n",
       "  </tbody>\n",
       "</table>\n",
       "</div>"
      ],
      "text/plain": [
       "    bid_size      bid      ask  ask_size\n",
       "0  14.605659  28275.0  28278.0  0.011063\n",
       "1   0.005124  28273.0  28279.0  0.006000\n",
       "2   0.010158  28272.0  28280.0  0.100000\n",
       "3   0.003000  28268.0  28281.0  0.050000\n",
       "4   1.581528  28266.0  28282.0  0.323781\n",
       "5   2.000887  28265.0  28283.0  1.580312"
      ]
     },
     "execution_count": 140,
     "metadata": {},
     "output_type": "execute_result"
    }
   ],
   "source": [
    "df_bit.head(6)"
   ]
  },
  {
   "cell_type": "code",
   "execution_count": 146,
   "metadata": {
    "scrolled": true
   },
   "outputs": [
    {
     "data": {
      "text/html": [
       "<div>\n",
       "<style scoped>\n",
       "    .dataframe tbody tr th:only-of-type {\n",
       "        vertical-align: middle;\n",
       "    }\n",
       "\n",
       "    .dataframe tbody tr th {\n",
       "        vertical-align: top;\n",
       "    }\n",
       "\n",
       "    .dataframe thead th {\n",
       "        text-align: right;\n",
       "    }\n",
       "</style>\n",
       "<table border=\"1\" class=\"dataframe\">\n",
       "  <thead>\n",
       "    <tr style=\"text-align: right;\">\n",
       "      <th></th>\n",
       "      <th>bid_size</th>\n",
       "      <th>bid</th>\n",
       "      <th>ask</th>\n",
       "      <th>ask_size</th>\n",
       "    </tr>\n",
       "  </thead>\n",
       "  <tbody>\n",
       "    <tr>\n",
       "      <th>0</th>\n",
       "      <td>14.605659</td>\n",
       "      <td>28275.0</td>\n",
       "      <td>28278.0</td>\n",
       "      <td>0.011063</td>\n",
       "    </tr>\n",
       "    <tr>\n",
       "      <th>1</th>\n",
       "      <td>0.005124</td>\n",
       "      <td>28273.0</td>\n",
       "      <td>28279.0</td>\n",
       "      <td>0.006000</td>\n",
       "    </tr>\n",
       "    <tr>\n",
       "      <th>2</th>\n",
       "      <td>0.010158</td>\n",
       "      <td>28272.0</td>\n",
       "      <td>28280.0</td>\n",
       "      <td>0.100000</td>\n",
       "    </tr>\n",
       "    <tr>\n",
       "      <th>3</th>\n",
       "      <td>0.003000</td>\n",
       "      <td>28268.0</td>\n",
       "      <td>28281.0</td>\n",
       "      <td>0.050000</td>\n",
       "    </tr>\n",
       "    <tr>\n",
       "      <th>4</th>\n",
       "      <td>1.581528</td>\n",
       "      <td>28266.0</td>\n",
       "      <td>28282.0</td>\n",
       "      <td>0.323781</td>\n",
       "    </tr>\n",
       "  </tbody>\n",
       "</table>\n",
       "</div>"
      ],
      "text/plain": [
       "    bid_size      bid      ask  ask_size\n",
       "0  14.605659  28275.0  28278.0  0.011063\n",
       "1   0.005124  28273.0  28279.0  0.006000\n",
       "2   0.010158  28272.0  28280.0  0.100000\n",
       "3   0.003000  28268.0  28281.0  0.050000\n",
       "4   1.581528  28266.0  28282.0  0.323781"
      ]
     },
     "execution_count": 146,
     "metadata": {},
     "output_type": "execute_result"
    }
   ],
   "source": [
    "df_bit[(.88 - df_bit['ask_size'].cumsum())>0]"
   ]
  },
  {
   "cell_type": "code",
   "execution_count": 138,
   "metadata": {
    "scrolled": true
   },
   "outputs": [
    {
     "data": {
      "text/plain": [
       "0     -0.868937\n",
       "1     -0.862937\n",
       "2     -0.762937\n",
       "3     -0.712937\n",
       "4     -0.389156\n",
       "5      1.191156\n",
       "6      1.545048\n",
       "7      2.598946\n",
       "8      3.549940\n",
       "9      3.707140\n",
       "10     4.604367\n",
       "11     8.020301\n",
       "12     9.615977\n",
       "13     9.879609\n",
       "14    14.015022\n",
       "15    14.882243\n",
       "16    17.817491\n",
       "17    18.883795\n",
       "18    24.307846\n",
       "19    24.418232\n",
       "20    26.610706\n",
       "21    32.126897\n",
       "22    32.929496\n",
       "23    33.133014\n",
       "24    36.049183\n",
       "Name: ask_size, dtype: float64"
      ]
     },
     "execution_count": 138,
     "metadata": {},
     "output_type": "execute_result"
    }
   ],
   "source": [
    "(df_bit['ask_size'].cumsum() - .88)"
   ]
  }
 ],
 "metadata": {
  "kernelspec": {
   "display_name": "Python 3",
   "language": "python",
   "name": "python3"
  },
  "language_info": {
   "codemirror_mode": {
    "name": "ipython",
    "version": 3
   },
   "file_extension": ".py",
   "mimetype": "text/x-python",
   "name": "python",
   "nbconvert_exporter": "python",
   "pygments_lexer": "ipython3",
   "version": "3.8.5"
  }
 },
 "nbformat": 4,
 "nbformat_minor": 4
}
